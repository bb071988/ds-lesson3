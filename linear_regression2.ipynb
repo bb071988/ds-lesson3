{
 "cells": [
  {
   "cell_type": "code",
   "execution_count": 23,
   "metadata": {
    "collapsed": true
   },
   "outputs": [],
   "source": [
    "%matplotlib inline"
   ]
  },
  {
   "cell_type": "code",
   "execution_count": 24,
   "metadata": {
    "collapsed": true
   },
   "outputs": [],
   "source": [
    "import numpy as np\n",
    "import matplotlib.pyplot as plt\n",
    "import pandas as pd\n",
    "import statsmodels.api as sm\n",
    "import re"
   ]
  },
  {
   "cell_type": "code",
   "execution_count": 25,
   "metadata": {
    "collapsed": false
   },
   "outputs": [],
   "source": [
    "# get loandata\n",
    "loansData = pd.read_csv('https://spark-public.s3.amazonaws.com/dataanalysis/loansData.csv')"
   ]
  },
  {
   "cell_type": "code",
   "execution_count": null,
   "metadata": {
    "collapsed": true
   },
   "outputs": [],
   "source": []
  },
  {
   "cell_type": "code",
   "execution_count": 26,
   "metadata": {
    "collapsed": false
   },
   "outputs": [],
   "source": [
    "# clean interest rate using regex - ability to replace so df objects are mutable\n",
    "loansData['Interest.Rate'] = [float(re.search('^[0-9]*.[0-9]*',loan).group(0))/100 for loan in loansData['Interest.Rate']]\n"
   ]
  },
  {
   "cell_type": "code",
   "execution_count": 27,
   "metadata": {
    "collapsed": false
   },
   "outputs": [
    {
     "data": {
      "text/plain": [
       "81174    0.0890\n",
       "99592    0.1212\n",
       "80059    0.2198\n",
       "15825    0.0999\n",
       "33182    0.1171\n",
       "Name: Interest.Rate, dtype: float64"
      ]
     },
     "execution_count": 27,
     "metadata": {},
     "output_type": "execute_result"
    }
   ],
   "source": [
    "loansData['Interest.Rate'][:5]"
   ]
  },
  {
   "cell_type": "code",
   "execution_count": 28,
   "metadata": {
    "collapsed": true
   },
   "outputs": [],
   "source": [
    "# clean fico range and get score \n",
    "loansData['FICO.Score'] = map(lambda x: int(x.split('-')[0]), loansData['FICO.Range'])"
   ]
  },
  {
   "cell_type": "code",
   "execution_count": 29,
   "metadata": {
    "collapsed": false
   },
   "outputs": [
    {
     "data": {
      "text/plain": [
       "81174    735\n",
       "99592    715\n",
       "80059    690\n",
       "15825    695\n",
       "33182    695\n",
       "Name: FICO.Score, dtype: int64"
      ]
     },
     "execution_count": 29,
     "metadata": {},
     "output_type": "execute_result"
    }
   ],
   "source": [
    "loansData['FICO.Score'][:5]"
   ]
  },
  {
   "cell_type": "code",
   "execution_count": 1,
   "metadata": {
    "collapsed": false
   },
   "outputs": [
    {
     "ename": "NameError",
     "evalue": "name 'loansData' is not defined",
     "output_type": "error",
     "traceback": [
      "\u001b[1;31m---------------------------------------------------------------------------\u001b[0m",
      "\u001b[1;31mNameError\u001b[0m                                 Traceback (most recent call last)",
      "\u001b[1;32m<ipython-input-1-a25e65ed78d4>\u001b[0m in \u001b[0;36m<module>\u001b[1;34m()\u001b[0m\n\u001b[1;32m----> 1\u001b[1;33m \u001b[0mloansData\u001b[0m\u001b[1;33m[\u001b[0m\u001b[1;34m'Amount.Requested'\u001b[0m\u001b[1;33m]\u001b[0m\u001b[1;33m[\u001b[0m\u001b[1;33m:\u001b[0m\u001b[1;36m5\u001b[0m\u001b[1;33m]\u001b[0m\u001b[1;33m\u001b[0m\u001b[0m\n\u001b[0m",
      "\u001b[1;31mNameError\u001b[0m: name 'loansData' is not defined"
     ]
    }
   ],
   "source": [
    "loansData['Amount.Requested'][:5]"
   ]
  },
  {
   "cell_type": "code",
   "execution_count": null,
   "metadata": {
    "collapsed": true
   },
   "outputs": [],
   "source": []
  },
  {
   "cell_type": "code",
   "execution_count": 31,
   "metadata": {
    "collapsed": true
   },
   "outputs": [],
   "source": [
    "# extract the columns from the data frame returning a series\n",
    "intrate = loansData['Interest.Rate']\n",
    "loanamt = loansData['Amount.Requested']\n",
    "fico = loansData['FICO.Score']"
   ]
  },
  {
   "cell_type": "code",
   "execution_count": 32,
   "metadata": {
    "collapsed": true
   },
   "outputs": [],
   "source": [
    "# reshape the data\n",
    "# The dependent variable\n",
    "y = np.matrix(intrate).transpose()\n",
    "# The independent variables shaped as columns\n",
    "x1 = np.matrix(fico).transpose()\n",
    "x2 = np.matrix(loanamt).transpose()"
   ]
  },
  {
   "cell_type": "code",
   "execution_count": 33,
   "metadata": {
    "collapsed": true
   },
   "outputs": [],
   "source": [
    "# put the columns back together to create a matrix\n",
    "x = np.column_stack([x1,x2])"
   ]
  },
  {
   "cell_type": "code",
   "execution_count": 34,
   "metadata": {
    "collapsed": false
   },
   "outputs": [
    {
     "data": {
      "text/plain": [
       "(2500L, 2L)"
      ]
     },
     "execution_count": 34,
     "metadata": {},
     "output_type": "execute_result"
    }
   ],
   "source": [
    "x.shape"
   ]
  },
  {
   "cell_type": "markdown",
   "metadata": {},
   "source": []
  },
  {
   "cell_type": "code",
   "execution_count": 35,
   "metadata": {
    "collapsed": true
   },
   "outputs": [],
   "source": [
    "# create the linear model with statsmodels - # read more about stats models\n",
    "X = sm.add_constant(x)\n",
    "model = sm.OLS(y,X)\n",
    "f = model.fit()"
   ]
  },
  {
   "cell_type": "code",
   "execution_count": 36,
   "metadata": {
    "collapsed": false
   },
   "outputs": [
    {
     "data": {
      "text/html": [
       "<table class=\"simpletable\">\n",
       "<caption>OLS Regression Results</caption>\n",
       "<tr>\n",
       "  <th>Dep. Variable:</th>            <td>y</td>        <th>  R-squared:         </th>  <td>   0.657</td> \n",
       "</tr>\n",
       "<tr>\n",
       "  <th>Model:</th>                   <td>OLS</td>       <th>  Adj. R-squared:    </th>  <td>   0.656</td> \n",
       "</tr>\n",
       "<tr>\n",
       "  <th>Method:</th>             <td>Least Squares</td>  <th>  F-statistic:       </th>  <td>   2388.</td> \n",
       "</tr>\n",
       "<tr>\n",
       "  <th>Date:</th>             <td>Tue, 09 Feb 2016</td> <th>  Prob (F-statistic):</th>   <td>  0.00</td>  \n",
       "</tr>\n",
       "<tr>\n",
       "  <th>Time:</th>                 <td>19:20:19</td>     <th>  Log-Likelihood:    </th>  <td>  5727.6</td> \n",
       "</tr>\n",
       "<tr>\n",
       "  <th>No. Observations:</th>      <td>  2500</td>      <th>  AIC:               </th> <td>-1.145e+04</td>\n",
       "</tr>\n",
       "<tr>\n",
       "  <th>Df Residuals:</th>          <td>  2497</td>      <th>  BIC:               </th> <td>-1.143e+04</td>\n",
       "</tr>\n",
       "<tr>\n",
       "  <th>Df Model:</th>              <td>     2</td>      <th>                     </th>      <td> </td>    \n",
       "</tr>\n",
       "<tr>\n",
       "  <th>Covariance Type:</th>      <td>nonrobust</td>    <th>                     </th>      <td> </td>    \n",
       "</tr>\n",
       "</table>\n",
       "<table class=\"simpletable\">\n",
       "<tr>\n",
       "    <td></td>       <th>coef</th>     <th>std err</th>      <th>t</th>      <th>P>|t|</th> <th>[95.0% Conf. Int.]</th> \n",
       "</tr>\n",
       "<tr>\n",
       "  <th>const</th> <td>    0.7288</td> <td>    0.010</td> <td>   73.734</td> <td> 0.000</td> <td>    0.709     0.748</td>\n",
       "</tr>\n",
       "<tr>\n",
       "  <th>x1</th>    <td>   -0.0009</td> <td>  1.4e-05</td> <td>  -63.022</td> <td> 0.000</td> <td>   -0.001    -0.001</td>\n",
       "</tr>\n",
       "<tr>\n",
       "  <th>x2</th>    <td> 2.107e-06</td> <td>  6.3e-08</td> <td>   33.443</td> <td> 0.000</td> <td> 1.98e-06  2.23e-06</td>\n",
       "</tr>\n",
       "</table>\n",
       "<table class=\"simpletable\">\n",
       "<tr>\n",
       "  <th>Omnibus:</th>       <td>69.496</td> <th>  Durbin-Watson:     </th> <td>   1.979</td>\n",
       "</tr>\n",
       "<tr>\n",
       "  <th>Prob(Omnibus):</th> <td> 0.000</td> <th>  Jarque-Bera (JB):  </th> <td>  77.811</td>\n",
       "</tr>\n",
       "<tr>\n",
       "  <th>Skew:</th>          <td> 0.379</td> <th>  Prob(JB):          </th> <td>1.27e-17</td>\n",
       "</tr>\n",
       "<tr>\n",
       "  <th>Kurtosis:</th>      <td> 3.414</td> <th>  Cond. No.          </th> <td>2.96e+05</td>\n",
       "</tr>\n",
       "</table>"
      ],
      "text/plain": [
       "<class 'statsmodels.iolib.summary.Summary'>\n",
       "\"\"\"\n",
       "                            OLS Regression Results                            \n",
       "==============================================================================\n",
       "Dep. Variable:                      y   R-squared:                       0.657\n",
       "Model:                            OLS   Adj. R-squared:                  0.656\n",
       "Method:                 Least Squares   F-statistic:                     2388.\n",
       "Date:                Tue, 09 Feb 2016   Prob (F-statistic):               0.00\n",
       "Time:                        19:20:19   Log-Likelihood:                 5727.6\n",
       "No. Observations:                2500   AIC:                        -1.145e+04\n",
       "Df Residuals:                    2497   BIC:                        -1.143e+04\n",
       "Df Model:                           2                                         \n",
       "Covariance Type:            nonrobust                                         \n",
       "==============================================================================\n",
       "                 coef    std err          t      P>|t|      [95.0% Conf. Int.]\n",
       "------------------------------------------------------------------------------\n",
       "const          0.7288      0.010     73.734      0.000         0.709     0.748\n",
       "x1            -0.0009    1.4e-05    -63.022      0.000        -0.001    -0.001\n",
       "x2          2.107e-06    6.3e-08     33.443      0.000      1.98e-06  2.23e-06\n",
       "==============================================================================\n",
       "Omnibus:                       69.496   Durbin-Watson:                   1.979\n",
       "Prob(Omnibus):                  0.000   Jarque-Bera (JB):               77.811\n",
       "Skew:                           0.379   Prob(JB):                     1.27e-17\n",
       "Kurtosis:                       3.414   Cond. No.                     2.96e+05\n",
       "==============================================================================\n",
       "\n",
       "Warnings:\n",
       "[1] Standard Errors assume that the covariance matrix of the errors is correctly specified.\n",
       "[2] The condition number is large, 2.96e+05. This might indicate that there are\n",
       "strong multicollinearity or other numerical problems.\n",
       "\"\"\""
      ]
     },
     "execution_count": 36,
     "metadata": {},
     "output_type": "execute_result"
    }
   ],
   "source": [
    "# show the output\n",
    "# ********************************************* ask Kyle about the minor differences float vs int - rounding precision sig digits\n",
    "f.summary()"
   ]
  },
  {
   "cell_type": "code",
   "execution_count": 37,
   "metadata": {
    "collapsed": false
   },
   "outputs": [
    {
     "data": {
      "text/plain": [
       "array([  7.28827983e-01,  -8.84424222e-04,   2.10747769e-06])"
      ]
     },
     "execution_count": 37,
     "metadata": {},
     "output_type": "execute_result"
    }
   ],
   "source": [
    "f.params"
   ]
  },
  {
   "cell_type": "code",
   "execution_count": null,
   "metadata": {
    "collapsed": true
   },
   "outputs": [],
   "source": []
  },
  {
   "cell_type": "code",
   "execution_count": 38,
   "metadata": {
    "collapsed": true
   },
   "outputs": [],
   "source": [
    "my_y =[2,10]"
   ]
  },
  {
   "cell_type": "code",
   "execution_count": 39,
   "metadata": {
    "collapsed": true
   },
   "outputs": [],
   "source": [
    "my_x = [4,20]"
   ]
  },
  {
   "cell_type": "code",
   "execution_count": 40,
   "metadata": {
    "collapsed": false
   },
   "outputs": [
    {
     "data": {
      "text/plain": [
       "[<matplotlib.lines.Line2D at 0x1f7d3208>]"
      ]
     },
     "execution_count": 40,
     "metadata": {},
     "output_type": "execute_result"
    },
    {
     "data": {
      "image/png": "[encoded data removed]",
      "text/plain": [
       "<matplotlib.figure.Figure at 0x1fa740b8>"
      ]
     },
     "metadata": {},
     "output_type": "display_data"
    }
   ],
   "source": [
    "plt.plot(my_x,my_y)"
   ]
  },
  {
   "cell_type": "code",
   "execution_count": 42,
   "metadata": {
    "collapsed": false
   },
   "outputs": [
    {
     "ename": "IndexError",
     "evalue": "indices are out-of-bounds",
     "output_type": "error",
     "traceback": [
      "\u001b[1;31m---------------------------------------------------------------------------\u001b[0m",
      "\u001b[1;31mIndexError\u001b[0m                                Traceback (most recent call last)",
      "\u001b[1;32m<ipython-input-42-c727f98caf2c>\u001b[0m in \u001b[0;36m<module>\u001b[1;34m()\u001b[0m\n\u001b[1;32m----> 1\u001b[1;33m \u001b[0mloansData\u001b[0m\u001b[1;33m.\u001b[0m\u001b[0mplot\u001b[0m\u001b[1;33m(\u001b[0m\u001b[0mkind\u001b[0m\u001b[1;33m=\u001b[0m\u001b[1;34m'scatter'\u001b[0m\u001b[1;33m,\u001b[0m \u001b[0mx\u001b[0m\u001b[1;33m=\u001b[0m\u001b[0mloansData\u001b[0m\u001b[1;33m[\u001b[0m\u001b[1;34m'FICO.Score'\u001b[0m\u001b[1;33m]\u001b[0m\u001b[1;33m,\u001b[0m \u001b[0my\u001b[0m\u001b[1;33m=\u001b[0m\u001b[0mloansData\u001b[0m\u001b[1;33m[\u001b[0m\u001b[1;34m'Interest.Rate'\u001b[0m\u001b[1;33m]\u001b[0m\u001b[1;33m,\u001b[0m\u001b[0mcolor\u001b[0m\u001b[1;33m=\u001b[0m\u001b[1;34m'DarkBlue'\u001b[0m\u001b[1;33m)\u001b[0m\u001b[1;33m\u001b[0m\u001b[0m\n\u001b[0m",
      "\u001b[1;32mC:\\Users\\bob071988\\Anaconda2\\lib\\site-packages\\pandas\\tools\\plotting.pyc\u001b[0m in \u001b[0;36m__call__\u001b[1;34m(self, x, y, kind, ax, subplots, sharex, sharey, layout, figsize, use_index, title, grid, legend, style, logx, logy, loglog, xticks, yticks, xlim, ylim, rot, fontsize, colormap, table, yerr, xerr, secondary_y, sort_columns, **kwds)\u001b[0m\n\u001b[0;32m   3669\u001b[0m                           \u001b[0mfontsize\u001b[0m\u001b[1;33m=\u001b[0m\u001b[0mfontsize\u001b[0m\u001b[1;33m,\u001b[0m \u001b[0mcolormap\u001b[0m\u001b[1;33m=\u001b[0m\u001b[0mcolormap\u001b[0m\u001b[1;33m,\u001b[0m \u001b[0mtable\u001b[0m\u001b[1;33m=\u001b[0m\u001b[0mtable\u001b[0m\u001b[1;33m,\u001b[0m\u001b[1;33m\u001b[0m\u001b[0m\n\u001b[0;32m   3670\u001b[0m                           \u001b[0myerr\u001b[0m\u001b[1;33m=\u001b[0m\u001b[0myerr\u001b[0m\u001b[1;33m,\u001b[0m \u001b[0mxerr\u001b[0m\u001b[1;33m=\u001b[0m\u001b[0mxerr\u001b[0m\u001b[1;33m,\u001b[0m \u001b[0msecondary_y\u001b[0m\u001b[1;33m=\u001b[0m\u001b[0msecondary_y\u001b[0m\u001b[1;33m,\u001b[0m\u001b[1;33m\u001b[0m\u001b[0m\n\u001b[1;32m-> 3671\u001b[1;33m                           sort_columns=sort_columns, **kwds)\n\u001b[0m\u001b[0;32m   3672\u001b[0m     \u001b[0m__call__\u001b[0m\u001b[1;33m.\u001b[0m\u001b[0m__doc__\u001b[0m \u001b[1;33m=\u001b[0m \u001b[0mplot_frame\u001b[0m\u001b[1;33m.\u001b[0m\u001b[0m__doc__\u001b[0m\u001b[1;33m\u001b[0m\u001b[0m\n\u001b[0;32m   3673\u001b[0m \u001b[1;33m\u001b[0m\u001b[0m\n",
      "\u001b[1;32mC:\\Users\\bob071988\\Anaconda2\\lib\\site-packages\\pandas\\tools\\plotting.pyc\u001b[0m in \u001b[0;36mplot_frame\u001b[1;34m(data, x, y, kind, ax, subplots, sharex, sharey, layout, figsize, use_index, title, grid, legend, style, logx, logy, loglog, xticks, yticks, xlim, ylim, rot, fontsize, colormap, table, yerr, xerr, secondary_y, sort_columns, **kwds)\u001b[0m\n\u001b[0;32m   2554\u001b[0m                  \u001b[0myerr\u001b[0m\u001b[1;33m=\u001b[0m\u001b[0myerr\u001b[0m\u001b[1;33m,\u001b[0m \u001b[0mxerr\u001b[0m\u001b[1;33m=\u001b[0m\u001b[0mxerr\u001b[0m\u001b[1;33m,\u001b[0m\u001b[1;33m\u001b[0m\u001b[0m\n\u001b[0;32m   2555\u001b[0m                  \u001b[0msecondary_y\u001b[0m\u001b[1;33m=\u001b[0m\u001b[0msecondary_y\u001b[0m\u001b[1;33m,\u001b[0m \u001b[0msort_columns\u001b[0m\u001b[1;33m=\u001b[0m\u001b[0msort_columns\u001b[0m\u001b[1;33m,\u001b[0m\u001b[1;33m\u001b[0m\u001b[0m\n\u001b[1;32m-> 2556\u001b[1;33m                  **kwds)\n\u001b[0m\u001b[0;32m   2557\u001b[0m \u001b[1;33m\u001b[0m\u001b[0m\n\u001b[0;32m   2558\u001b[0m \u001b[1;33m\u001b[0m\u001b[0m\n",
      "\u001b[1;32mC:\\Users\\bob071988\\Anaconda2\\lib\\site-packages\\pandas\\tools\\plotting.pyc\u001b[0m in \u001b[0;36m_plot\u001b[1;34m(data, x, y, subplots, ax, kind, **kwds)\u001b[0m\n\u001b[0;32m   2382\u001b[0m         \u001b[0mplot_obj\u001b[0m \u001b[1;33m=\u001b[0m \u001b[0mklass\u001b[0m\u001b[1;33m(\u001b[0m\u001b[0mdata\u001b[0m\u001b[1;33m,\u001b[0m \u001b[0msubplots\u001b[0m\u001b[1;33m=\u001b[0m\u001b[0msubplots\u001b[0m\u001b[1;33m,\u001b[0m \u001b[0max\u001b[0m\u001b[1;33m=\u001b[0m\u001b[0max\u001b[0m\u001b[1;33m,\u001b[0m \u001b[0mkind\u001b[0m\u001b[1;33m=\u001b[0m\u001b[0mkind\u001b[0m\u001b[1;33m,\u001b[0m \u001b[1;33m**\u001b[0m\u001b[0mkwds\u001b[0m\u001b[1;33m)\u001b[0m\u001b[1;33m\u001b[0m\u001b[0m\n\u001b[0;32m   2383\u001b[0m \u001b[1;33m\u001b[0m\u001b[0m\n\u001b[1;32m-> 2384\u001b[1;33m     \u001b[0mplot_obj\u001b[0m\u001b[1;33m.\u001b[0m\u001b[0mgenerate\u001b[0m\u001b[1;33m(\u001b[0m\u001b[1;33m)\u001b[0m\u001b[1;33m\u001b[0m\u001b[0m\n\u001b[0m\u001b[0;32m   2385\u001b[0m     \u001b[0mplot_obj\u001b[0m\u001b[1;33m.\u001b[0m\u001b[0mdraw\u001b[0m\u001b[1;33m(\u001b[0m\u001b[1;33m)\u001b[0m\u001b[1;33m\u001b[0m\u001b[0m\n\u001b[0;32m   2386\u001b[0m     \u001b[1;32mreturn\u001b[0m \u001b[0mplot_obj\u001b[0m\u001b[1;33m.\u001b[0m\u001b[0mresult\u001b[0m\u001b[1;33m\u001b[0m\u001b[0m\n",
      "\u001b[1;32mC:\\Users\\bob071988\\Anaconda2\\lib\\site-packages\\pandas\\tools\\plotting.pyc\u001b[0m in \u001b[0;36mgenerate\u001b[1;34m(self)\u001b[0m\n\u001b[0;32m    985\u001b[0m         \u001b[0mself\u001b[0m\u001b[1;33m.\u001b[0m\u001b[0m_compute_plot_data\u001b[0m\u001b[1;33m(\u001b[0m\u001b[1;33m)\u001b[0m\u001b[1;33m\u001b[0m\u001b[0m\n\u001b[0;32m    986\u001b[0m         \u001b[0mself\u001b[0m\u001b[1;33m.\u001b[0m\u001b[0m_setup_subplots\u001b[0m\u001b[1;33m(\u001b[0m\u001b[1;33m)\u001b[0m\u001b[1;33m\u001b[0m\u001b[0m\n\u001b[1;32m--> 987\u001b[1;33m         \u001b[0mself\u001b[0m\u001b[1;33m.\u001b[0m\u001b[0m_make_plot\u001b[0m\u001b[1;33m(\u001b[0m\u001b[1;33m)\u001b[0m\u001b[1;33m\u001b[0m\u001b[0m\n\u001b[0m\u001b[0;32m    988\u001b[0m         \u001b[0mself\u001b[0m\u001b[1;33m.\u001b[0m\u001b[0m_add_table\u001b[0m\u001b[1;33m(\u001b[0m\u001b[1;33m)\u001b[0m\u001b[1;33m\u001b[0m\u001b[0m\n\u001b[0;32m    989\u001b[0m         \u001b[0mself\u001b[0m\u001b[1;33m.\u001b[0m\u001b[0m_make_legend\u001b[0m\u001b[1;33m(\u001b[0m\u001b[1;33m)\u001b[0m\u001b[1;33m\u001b[0m\u001b[0m\n",
      "\u001b[1;32mC:\\Users\\bob071988\\Anaconda2\\lib\\site-packages\\pandas\\tools\\plotting.pyc\u001b[0m in \u001b[0;36m_make_plot\u001b[1;34m(self)\u001b[0m\n\u001b[0;32m   1556\u001b[0m         \u001b[1;32melse\u001b[0m\u001b[1;33m:\u001b[0m\u001b[1;33m\u001b[0m\u001b[0m\n\u001b[0;32m   1557\u001b[0m             \u001b[0mlabel\u001b[0m \u001b[1;33m=\u001b[0m \u001b[0mNone\u001b[0m\u001b[1;33m\u001b[0m\u001b[0m\n\u001b[1;32m-> 1558\u001b[1;33m         scatter = ax.scatter(data[x].values, data[y].values, c=c_values,\n\u001b[0m\u001b[0;32m   1559\u001b[0m                              label=label, cmap=cmap, **self.kwds)\n\u001b[0;32m   1560\u001b[0m         \u001b[1;32mif\u001b[0m \u001b[0mcb\u001b[0m\u001b[1;33m:\u001b[0m\u001b[1;33m\u001b[0m\u001b[0m\n",
      "\u001b[1;32mC:\\Users\\bob071988\\Anaconda2\\lib\\site-packages\\pandas\\core\\frame.pyc\u001b[0m in \u001b[0;36m__getitem__\u001b[1;34m(self, key)\u001b[0m\n\u001b[0;32m   1961\u001b[0m         \u001b[1;32mif\u001b[0m \u001b[0misinstance\u001b[0m\u001b[1;33m(\u001b[0m\u001b[0mkey\u001b[0m\u001b[1;33m,\u001b[0m \u001b[1;33m(\u001b[0m\u001b[0mSeries\u001b[0m\u001b[1;33m,\u001b[0m \u001b[0mnp\u001b[0m\u001b[1;33m.\u001b[0m\u001b[0mndarray\u001b[0m\u001b[1;33m,\u001b[0m \u001b[0mIndex\u001b[0m\u001b[1;33m,\u001b[0m \u001b[0mlist\u001b[0m\u001b[1;33m)\u001b[0m\u001b[1;33m)\u001b[0m\u001b[1;33m:\u001b[0m\u001b[1;33m\u001b[0m\u001b[0m\n\u001b[0;32m   1962\u001b[0m             \u001b[1;31m# either boolean or fancy integer index\u001b[0m\u001b[1;33m\u001b[0m\u001b[1;33m\u001b[0m\u001b[0m\n\u001b[1;32m-> 1963\u001b[1;33m             \u001b[1;32mreturn\u001b[0m \u001b[0mself\u001b[0m\u001b[1;33m.\u001b[0m\u001b[0m_getitem_array\u001b[0m\u001b[1;33m(\u001b[0m\u001b[0mkey\u001b[0m\u001b[1;33m)\u001b[0m\u001b[1;33m\u001b[0m\u001b[0m\n\u001b[0m\u001b[0;32m   1964\u001b[0m         \u001b[1;32melif\u001b[0m \u001b[0misinstance\u001b[0m\u001b[1;33m(\u001b[0m\u001b[0mkey\u001b[0m\u001b[1;33m,\u001b[0m \u001b[0mDataFrame\u001b[0m\u001b[1;33m)\u001b[0m\u001b[1;33m:\u001b[0m\u001b[1;33m\u001b[0m\u001b[0m\n\u001b[0;32m   1965\u001b[0m             \u001b[1;32mreturn\u001b[0m \u001b[0mself\u001b[0m\u001b[1;33m.\u001b[0m\u001b[0m_getitem_frame\u001b[0m\u001b[1;33m(\u001b[0m\u001b[0mkey\u001b[0m\u001b[1;33m)\u001b[0m\u001b[1;33m\u001b[0m\u001b[0m\n",
      "\u001b[1;32mC:\\Users\\bob071988\\Anaconda2\\lib\\site-packages\\pandas\\core\\frame.pyc\u001b[0m in \u001b[0;36m_getitem_array\u001b[1;34m(self, key)\u001b[0m\n\u001b[0;32m   2006\u001b[0m         \u001b[1;32melse\u001b[0m\u001b[1;33m:\u001b[0m\u001b[1;33m\u001b[0m\u001b[0m\n\u001b[0;32m   2007\u001b[0m             \u001b[0mindexer\u001b[0m \u001b[1;33m=\u001b[0m \u001b[0mself\u001b[0m\u001b[1;33m.\u001b[0m\u001b[0mix\u001b[0m\u001b[1;33m.\u001b[0m\u001b[0m_convert_to_indexer\u001b[0m\u001b[1;33m(\u001b[0m\u001b[0mkey\u001b[0m\u001b[1;33m,\u001b[0m \u001b[0maxis\u001b[0m\u001b[1;33m=\u001b[0m\u001b[1;36m1\u001b[0m\u001b[1;33m)\u001b[0m\u001b[1;33m\u001b[0m\u001b[0m\n\u001b[1;32m-> 2008\u001b[1;33m             \u001b[1;32mreturn\u001b[0m \u001b[0mself\u001b[0m\u001b[1;33m.\u001b[0m\u001b[0mtake\u001b[0m\u001b[1;33m(\u001b[0m\u001b[0mindexer\u001b[0m\u001b[1;33m,\u001b[0m \u001b[0maxis\u001b[0m\u001b[1;33m=\u001b[0m\u001b[1;36m1\u001b[0m\u001b[1;33m,\u001b[0m \u001b[0mconvert\u001b[0m\u001b[1;33m=\u001b[0m\u001b[0mTrue\u001b[0m\u001b[1;33m)\u001b[0m\u001b[1;33m\u001b[0m\u001b[0m\n\u001b[0m\u001b[0;32m   2009\u001b[0m \u001b[1;33m\u001b[0m\u001b[0m\n\u001b[0;32m   2010\u001b[0m     \u001b[1;32mdef\u001b[0m \u001b[0m_getitem_multilevel\u001b[0m\u001b[1;33m(\u001b[0m\u001b[0mself\u001b[0m\u001b[1;33m,\u001b[0m \u001b[0mkey\u001b[0m\u001b[1;33m)\u001b[0m\u001b[1;33m:\u001b[0m\u001b[1;33m\u001b[0m\u001b[0m\n",
      "\u001b[1;32mC:\\Users\\bob071988\\Anaconda2\\lib\\site-packages\\pandas\\core\\generic.pyc\u001b[0m in \u001b[0;36mtake\u001b[1;34m(self, indices, axis, convert, is_copy)\u001b[0m\n\u001b[0;32m   1369\u001b[0m         new_data = self._data.take(indices,\n\u001b[0;32m   1370\u001b[0m                                    \u001b[0maxis\u001b[0m\u001b[1;33m=\u001b[0m\u001b[0mself\u001b[0m\u001b[1;33m.\u001b[0m\u001b[0m_get_block_manager_axis\u001b[0m\u001b[1;33m(\u001b[0m\u001b[0maxis\u001b[0m\u001b[1;33m)\u001b[0m\u001b[1;33m,\u001b[0m\u001b[1;33m\u001b[0m\u001b[0m\n\u001b[1;32m-> 1371\u001b[1;33m                                    convert=True, verify=True)\n\u001b[0m\u001b[0;32m   1372\u001b[0m         \u001b[0mresult\u001b[0m \u001b[1;33m=\u001b[0m \u001b[0mself\u001b[0m\u001b[1;33m.\u001b[0m\u001b[0m_constructor\u001b[0m\u001b[1;33m(\u001b[0m\u001b[0mnew_data\u001b[0m\u001b[1;33m)\u001b[0m\u001b[1;33m.\u001b[0m\u001b[0m__finalize__\u001b[0m\u001b[1;33m(\u001b[0m\u001b[0mself\u001b[0m\u001b[1;33m)\u001b[0m\u001b[1;33m\u001b[0m\u001b[0m\n\u001b[0;32m   1373\u001b[0m \u001b[1;33m\u001b[0m\u001b[0m\n",
      "\u001b[1;32mC:\\Users\\bob071988\\Anaconda2\\lib\\site-packages\\pandas\\core\\internals.pyc\u001b[0m in \u001b[0;36mtake\u001b[1;34m(self, indexer, axis, verify, convert)\u001b[0m\n\u001b[0;32m   3617\u001b[0m         \u001b[0mn\u001b[0m \u001b[1;33m=\u001b[0m \u001b[0mself\u001b[0m\u001b[1;33m.\u001b[0m\u001b[0mshape\u001b[0m\u001b[1;33m[\u001b[0m\u001b[0maxis\u001b[0m\u001b[1;33m]\u001b[0m\u001b[1;33m\u001b[0m\u001b[0m\n\u001b[0;32m   3618\u001b[0m         \u001b[1;32mif\u001b[0m \u001b[0mconvert\u001b[0m\u001b[1;33m:\u001b[0m\u001b[1;33m\u001b[0m\u001b[0m\n\u001b[1;32m-> 3619\u001b[1;33m             \u001b[0mindexer\u001b[0m \u001b[1;33m=\u001b[0m \u001b[0mmaybe_convert_indices\u001b[0m\u001b[1;33m(\u001b[0m\u001b[0mindexer\u001b[0m\u001b[1;33m,\u001b[0m \u001b[0mn\u001b[0m\u001b[1;33m)\u001b[0m\u001b[1;33m\u001b[0m\u001b[0m\n\u001b[0m\u001b[0;32m   3620\u001b[0m \u001b[1;33m\u001b[0m\u001b[0m\n\u001b[0;32m   3621\u001b[0m         \u001b[1;32mif\u001b[0m \u001b[0mverify\u001b[0m\u001b[1;33m:\u001b[0m\u001b[1;33m\u001b[0m\u001b[0m\n",
      "\u001b[1;32mC:\\Users\\bob071988\\Anaconda2\\lib\\site-packages\\pandas\\core\\indexing.pyc\u001b[0m in \u001b[0;36mmaybe_convert_indices\u001b[1;34m(indices, n)\u001b[0m\n\u001b[0;32m   1748\u001b[0m     \u001b[0mmask\u001b[0m \u001b[1;33m=\u001b[0m \u001b[1;33m(\u001b[0m\u001b[0mindices\u001b[0m \u001b[1;33m>=\u001b[0m \u001b[0mn\u001b[0m\u001b[1;33m)\u001b[0m \u001b[1;33m|\u001b[0m \u001b[1;33m(\u001b[0m\u001b[0mindices\u001b[0m \u001b[1;33m<\u001b[0m \u001b[1;36m0\u001b[0m\u001b[1;33m)\u001b[0m\u001b[1;33m\u001b[0m\u001b[0m\n\u001b[0;32m   1749\u001b[0m     \u001b[1;32mif\u001b[0m \u001b[0mmask\u001b[0m\u001b[1;33m.\u001b[0m\u001b[0many\u001b[0m\u001b[1;33m(\u001b[0m\u001b[1;33m)\u001b[0m\u001b[1;33m:\u001b[0m\u001b[1;33m\u001b[0m\u001b[0m\n\u001b[1;32m-> 1750\u001b[1;33m         \u001b[1;32mraise\u001b[0m \u001b[0mIndexError\u001b[0m\u001b[1;33m(\u001b[0m\u001b[1;34m\"indices are out-of-bounds\"\u001b[0m\u001b[1;33m)\u001b[0m\u001b[1;33m\u001b[0m\u001b[0m\n\u001b[0m\u001b[0;32m   1751\u001b[0m     \u001b[1;32mreturn\u001b[0m \u001b[0mindices\u001b[0m\u001b[1;33m\u001b[0m\u001b[0m\n\u001b[0;32m   1752\u001b[0m \u001b[1;33m\u001b[0m\u001b[0m\n",
      "\u001b[1;31mIndexError\u001b[0m: indices are out-of-bounds"
     ]
    },
    {
     "data": {
      "image/png": "[encoded data removed]",
      "text/plain": [
       "<matplotlib.figure.Figure at 0x2014c9b0>"
      ]
     },
     "metadata": {},
     "output_type": "display_data"
    }
   ],
   "source": [
    "loansData.plot(kind='scatter', x=loansData['FICO.Score'], y=loansData['Interest.Rate'],color='DarkBlue')"
   ]
  },
  {
   "cell_type": "code",
   "execution_count": null,
   "metadata": {
    "collapsed": true
   },
   "outputs": [],
   "source": []
  },
  {
   "cell_type": "code",
   "execution_count": 43,
   "metadata": {
    "collapsed": false
   },
   "outputs": [
    {
     "data": {
      "text/plain": [
       "<bound method DataFrame.head of         Amount.Requested  Amount.Funded.By.Investors  Interest.Rate  \\\n",
       "81174              20000                    20000.00         0.0890   \n",
       "99592              19200                    19200.00         0.1212   \n",
       "80059              35000                    35000.00         0.2198   \n",
       "15825              10000                     9975.00         0.0999   \n",
       "33182              12000                    12000.00         0.1171   \n",
       "62403               6000                     6000.00         0.1531   \n",
       "48808              10000                    10000.00         0.0790   \n",
       "22090              33500                    33450.00         0.1714   \n",
       "76404              14675                    14675.00         0.1433   \n",
       "15867               7000                     7000.00         0.0691   \n",
       "94971               2000                     2000.00         0.1972   \n",
       "36911              10625                    10625.00         0.1427   \n",
       "41200              28000                    27975.00         0.2167   \n",
       "83869              35000                    34950.00         0.0890   \n",
       "53853               9600                     9600.00         0.0762   \n",
       "21399              25000                    24975.00         0.1565   \n",
       "62127              10000                    10000.00         0.1212   \n",
       "23446              14000                    13900.25         0.1037   \n",
       "44987              10000                    10000.00         0.0976   \n",
       "17977               5200                     5175.00         0.0999   \n",
       "86099              22000                    21975.00         0.2198   \n",
       "99483              30000                    30000.00         0.1905   \n",
       "28798               6500                     6500.00         0.1799   \n",
       "24168              17400                    17400.00         0.1199   \n",
       "10356               4000                     4000.00         0.1682   \n",
       "46027               7200                     7200.00         0.0790   \n",
       "2238                8000                     8000.00         0.1442   \n",
       "65278               8000                     8000.00         0.1531   \n",
       "4227                3000                     3000.00         0.0859   \n",
       "50182              14500                    14500.00         0.0790   \n",
       "...                  ...                         ...            ...   \n",
       "84265              20000                    20000.00         0.2295   \n",
       "80231              19000                    19000.00         0.0790   \n",
       "49533              17300                    17250.00         0.2245   \n",
       "102514              7000                      711.54         0.1513   \n",
       "78618               7200                     7200.00         0.1875   \n",
       "86953              10000                    10000.00         0.1409   \n",
       "80129               4000                     3925.00         0.1409   \n",
       "85216              17500                    17500.00         0.0890   \n",
       "38247              20000                    20000.00         0.1171   \n",
       "91245              16200                    16200.00         0.1580   \n",
       "53041              10000                    10000.00         0.0603   \n",
       "63051              27000                    27000.00         0.0662   \n",
       "14446               4500                     4475.00         0.0751   \n",
       "68628              15875                    15875.00         0.1433   \n",
       "98758              15000                    15000.00         0.1016   \n",
       "13070              25000                    24950.00         0.1075   \n",
       "45836               7000                     7000.00         0.1727   \n",
       "52330              15000                    15000.00         0.1999   \n",
       "48243              17000                    17000.00         0.1581   \n",
       "63256              19075                    19075.00         0.1875   \n",
       "42124              10000                    10000.00         0.1171   \n",
       "78043               8475                     8475.00         0.0762   \n",
       "925                 6400                     6350.00         0.1008   \n",
       "74047              30000                    30000.00         0.2328   \n",
       "49957              24000                    23975.00         0.1465   \n",
       "23735              30000                    29950.00         0.1677   \n",
       "65882              16000                    16000.00         0.1409   \n",
       "55610              10000                    10000.00         0.1399   \n",
       "38576               6000                     6000.00         0.1242   \n",
       "3116                9000                     5242.75         0.1379   \n",
       "\n",
       "       Loan.Length        Loan.Purpose Debt.To.Income.Ratio State  \\\n",
       "81174    36 months  debt_consolidation               14.90%    SC   \n",
       "99592    36 months  debt_consolidation               28.36%    TX   \n",
       "80059    60 months  debt_consolidation               23.81%    CA   \n",
       "15825    36 months  debt_consolidation               14.30%    KS   \n",
       "33182    36 months         credit_card               18.78%    NJ   \n",
       "62403    36 months               other               20.05%    CT   \n",
       "48808    36 months  debt_consolidation               26.09%    MA   \n",
       "22090    60 months         credit_card               14.70%    LA   \n",
       "76404    36 months         credit_card               26.92%    CA   \n",
       "15867    36 months         credit_card                7.10%    CA   \n",
       "94971    36 months              moving               10.29%    FL   \n",
       "36911    36 months  debt_consolidation               12.54%    CA   \n",
       "41200    60 months  debt_consolidation               13.07%    CT   \n",
       "83869    36 months  debt_consolidation               20.46%    CT   \n",
       "53853    36 months  debt_consolidation                3.45%    DC   \n",
       "21399    60 months  debt_consolidation               21.99%    CA   \n",
       "62127    36 months  debt_consolidation               17.72%    CA   \n",
       "23446    60 months  debt_consolidation               11.95%    OH   \n",
       "44987    36 months         credit_card                7.13%    FL   \n",
       "17977    60 months  debt_consolidation               10.29%    AL   \n",
       "86099    36 months  debt_consolidation               11.19%    TX   \n",
       "99483    60 months         credit_card               21.25%    FL   \n",
       "28798    60 months                 car               19.63%    FL   \n",
       "24168    36 months         credit_card               12.47%    AZ   \n",
       "10356    60 months            vacation               13.71%    GA   \n",
       "46027    36 months  debt_consolidation               24.82%    TX   \n",
       "2238     36 months  debt_consolidation               24.63%    MA   \n",
       "65278    36 months  debt_consolidation               15.46%    CA   \n",
       "4227     36 months               other                3.72%    MA   \n",
       "50182    36 months  debt_consolidation                4.85%    GA   \n",
       "...            ...                 ...                  ...   ...   \n",
       "84265    60 months  debt_consolidation                7.10%    NJ   \n",
       "80231    36 months  debt_consolidation                9.76%    RI   \n",
       "49533    60 months             wedding                3.58%    PA   \n",
       "102514   36 months      major_purchase               18.91%    CO   \n",
       "78618    36 months  debt_consolidation               16.21%    MI   \n",
       "86953    36 months      major_purchase                9.71%    CO   \n",
       "80129    36 months         credit_card               12.27%    FL   \n",
       "85216    36 months  debt_consolidation               10.94%    UT   \n",
       "38247    36 months         credit_card                9.58%    SD   \n",
       "91245    60 months  debt_consolidation                7.92%    PA   \n",
       "53041    36 months      small_business               13.03%    FL   \n",
       "63051    36 months  debt_consolidation               12.21%    OH   \n",
       "14446    36 months      small_business               20.27%    VA   \n",
       "68628    36 months      small_business               17.44%    MD   \n",
       "98758    36 months         credit_card               28.28%    OH   \n",
       "13070    36 months  debt_consolidation               20.48%    OR   \n",
       "45836    36 months               other               18.38%    NY   \n",
       "52330    36 months             wedding               18.05%    CA   \n",
       "48243    36 months  debt_consolidation               17.01%    CO   \n",
       "63256    36 months  debt_consolidation               15.23%    NY   \n",
       "42124    36 months  debt_consolidation                8.40%    CA   \n",
       "78043    36 months  debt_consolidation               15.88%    CA   \n",
       "925      36 months  debt_consolidation                8.11%    NJ   \n",
       "74047    60 months               other               12.10%    IL   \n",
       "49957    36 months  debt_consolidation               15.29%    WA   \n",
       "23735    60 months  debt_consolidation               19.23%    NY   \n",
       "65882    60 months    home_improvement               21.54%    MD   \n",
       "55610    36 months  debt_consolidation                4.89%    PA   \n",
       "38576    36 months      major_purchase               16.66%    NJ   \n",
       "3116     36 months  debt_consolidation                6.76%    NY   \n",
       "\n",
       "       Home.Ownership  Monthly.Income FICO.Range  Open.CREDIT.Lines  \\\n",
       "81174        MORTGAGE         6541.67    735-739                 14   \n",
       "99592        MORTGAGE         4583.33    715-719                 12   \n",
       "80059        MORTGAGE        11500.00    690-694                 14   \n",
       "15825        MORTGAGE         3833.33    695-699                 10   \n",
       "33182            RENT         3195.00    695-699                 11   \n",
       "62403             OWN         4891.67    670-674                 17   \n",
       "48808            RENT         2916.67    720-724                 10   \n",
       "22090        MORTGAGE        13863.42    705-709                 12   \n",
       "76404            RENT         3150.00    685-689                  9   \n",
       "15867            RENT         5000.00    715-719                  8   \n",
       "94971            RENT         3575.00    670-674                 10   \n",
       "36911        MORTGAGE         4250.00    665-669                 14   \n",
       "41200        MORTGAGE        14166.67    670-674                 12   \n",
       "83869            RENT         9166.67    735-739                 19   \n",
       "53853            RENT        11250.00    725-729                 13   \n",
       "21399            RENT         5416.67    730-734                  6   \n",
       "62127            RENT         9000.00    695-699                 18   \n",
       "23446            RENT         4333.33    740-744                  6   \n",
       "44987            RENT         2733.33    730-734                  7   \n",
       "17977        MORTGAGE         3750.00    760-764                 10   \n",
       "86099        MORTGAGE         6666.67    665-669                  9   \n",
       "99483        MORTGAGE         6250.00    695-699                 12   \n",
       "28798            RENT         4100.00    665-669                 11   \n",
       "24168            RENT         6833.33    695-699                  7   \n",
       "10356        MORTGAGE         4500.00    670-674                  5   \n",
       "46027            RENT         5416.67    705-709                  8   \n",
       "2238             RENT         2964.17    675-679                  9   \n",
       "65278        MORTGAGE         2916.67    675-679                 13   \n",
       "4227         MORTGAGE         4167.00    765-769                  4   \n",
       "50182        MORTGAGE         3958.33    760-764                  4   \n",
       "...               ...             ...        ...                ...   \n",
       "84265            RENT         6750.00    665-669                  6   \n",
       "80231        MORTGAGE         5166.67    770-774                 18   \n",
       "49533        MORTGAGE         5500.00    685-689                 11   \n",
       "102514       MORTGAGE         3833.00    650-654                 13   \n",
       "78618            RENT         8333.33    660-664                  8   \n",
       "86953            RENT         4583.33    675-679                  6   \n",
       "80129        MORTGAGE         8583.33    675-679                  9   \n",
       "85216        MORTGAGE        25000.00    730-734                  9   \n",
       "38247        MORTGAGE         5416.67    725-729                 12   \n",
       "91245        MORTGAGE         4833.33    680-684                 12   \n",
       "53041            RENT         5000.00    760-764                  8   \n",
       "63051        MORTGAGE         9250.00    810-814                 12   \n",
       "14446        MORTGAGE         7075.50    720-724                 15   \n",
       "68628        MORTGAGE         3416.67    675-679                 11   \n",
       "98758        MORTGAGE         6666.67    690-694                 15   \n",
       "13070        MORTGAGE         7083.33    765-769                 10   \n",
       "45836             OWN         2464.37    665-669                  9   \n",
       "52330            RENT         8000.00    660-664                  6   \n",
       "48243            RENT         3833.33    685-689                  6   \n",
       "63256            RENT         5166.67    670-674                 17   \n",
       "42124            RENT         4500.00    710-714                  8   \n",
       "78043            RENT         3983.33    720-724                  9   \n",
       "925          MORTGAGE         5166.67    710-714                  5   \n",
       "74047        MORTGAGE         7083.33    675-679                 16   \n",
       "49957        MORTGAGE         6666.67    685-689                 13   \n",
       "23735        MORTGAGE         9250.00    705-709                 15   \n",
       "65882             OWN         8903.25    740-744                 18   \n",
       "55610        MORTGAGE         2166.67    680-684                  4   \n",
       "38576            RENT         3500.00    675-679                  8   \n",
       "3116             RENT         3875.00    670-674                  7   \n",
       "\n",
       "        Revolving.CREDIT.Balance  Inquiries.in.the.Last.6.Months  \\\n",
       "81174                      14272                               2   \n",
       "99592                      11140                               1   \n",
       "80059                      21977                               1   \n",
       "15825                       9346                               0   \n",
       "33182                      14469                               0   \n",
       "62403                      10391                               2   \n",
       "48808                      15957                               0   \n",
       "22090                      27874                               0   \n",
       "76404                       7246                               1   \n",
       "15867                       7612                               0   \n",
       "94971                      12036                               0   \n",
       "36911                      10767                               0   \n",
       "41200                      10311                               0   \n",
       "83869                      21536                               0   \n",
       "53853                       4606                               0   \n",
       "21399                      13929                               0   \n",
       "62127                      20317                               0   \n",
       "23446                       7419                               0   \n",
       "44987                       6112                               2   \n",
       "17977                      16094                               0   \n",
       "86099                      23124                               0   \n",
       "99483                      34927                               0   \n",
       "28798                      11697                               1   \n",
       "24168                      26587                               0   \n",
       "10356                      20804                               0   \n",
       "46027                      12017                               0   \n",
       "2238                        8928                               2   \n",
       "65278                       7152                               1   \n",
       "4227                        7074                               0   \n",
       "50182                       9598                               0   \n",
       "...                          ...                             ...   \n",
       "84265                      16104                               1   \n",
       "80231                      43617                               2   \n",
       "49533                       2306                               3   \n",
       "102514                     12634                               0   \n",
       "78618                      28916                               0   \n",
       "86953                       3859                               0   \n",
       "80129                      36943                               1   \n",
       "85216                      34545                               0   \n",
       "38247                      18267                               1   \n",
       "91245                      12313                               2   \n",
       "53041                       3952                               0   \n",
       "63051                       4211                               0   \n",
       "14446                      68618                               2   \n",
       "68628                      15891                               0   \n",
       "98758                      14880                               0   \n",
       "13070                      25429                               0   \n",
       "45836                       7089                               0   \n",
       "52330                      45976                               1   \n",
       "48243                      15484                               1   \n",
       "63256                      13749                               3   \n",
       "42124                       8404                               1   \n",
       "78043                       6882                               0   \n",
       "925                         5815                               2   \n",
       "74047                      17969                               1   \n",
       "49957                      17521                               0   \n",
       "23735                      45880                               1   \n",
       "65882                      18898                               1   \n",
       "55610                       4544                               0   \n",
       "38576                       7753                               0   \n",
       "3116                        7589                               0   \n",
       "\n",
       "       Employment.Length  FICO.Score  \n",
       "81174           < 1 year         735  \n",
       "99592            2 years         715  \n",
       "80059            2 years         690  \n",
       "15825            5 years         695  \n",
       "33182            9 years         695  \n",
       "62403            3 years         670  \n",
       "48808          10+ years         720  \n",
       "22090          10+ years         705  \n",
       "76404            8 years         685  \n",
       "15867            3 years         715  \n",
       "94971            6 years         670  \n",
       "36911           < 1 year         665  \n",
       "41200             1 year         670  \n",
       "83869             1 year         735  \n",
       "53853           < 1 year         725  \n",
       "21399            9 years         730  \n",
       "62127            7 years         695  \n",
       "23446            9 years         740  \n",
       "44987            3 years         730  \n",
       "17977           < 1 year         760  \n",
       "86099          10+ years         665  \n",
       "99483            6 years         695  \n",
       "28798            2 years         665  \n",
       "24168            7 years         695  \n",
       "10356            3 years         670  \n",
       "46027            7 years         705  \n",
       "2238             6 years         675  \n",
       "65278            5 years         675  \n",
       "4227             5 years         765  \n",
       "50182            4 years         760  \n",
       "...                  ...         ...  \n",
       "84265            7 years         665  \n",
       "80231          10+ years         770  \n",
       "49533            4 years         685  \n",
       "102514           2 years         650  \n",
       "78618          10+ years         660  \n",
       "86953           < 1 year         675  \n",
       "80129          10+ years         675  \n",
       "85216            6 years         730  \n",
       "38247            4 years         725  \n",
       "91245          10+ years         680  \n",
       "53041            2 years         760  \n",
       "63051            5 years         810  \n",
       "14446          10+ years         720  \n",
       "68628            2 years         675  \n",
       "98758          10+ years         690  \n",
       "13070            6 years         765  \n",
       "45836            3 years         665  \n",
       "52330            2 years         660  \n",
       "48243            6 years         685  \n",
       "63256          10+ years         670  \n",
       "42124            3 years         710  \n",
       "78043                n/a         720  \n",
       "925            10+ years         710  \n",
       "74047          10+ years         675  \n",
       "49957            5 years         685  \n",
       "23735            8 years         705  \n",
       "65882          10+ years         740  \n",
       "55610          10+ years         680  \n",
       "38576            5 years         675  \n",
       "3116           10+ years         670  \n",
       "\n",
       "[2500 rows x 15 columns]>"
      ]
     },
     "execution_count": 43,
     "metadata": {},
     "output_type": "execute_result"
    }
   ],
   "source": [
    "loansData.head"
   ]
  },
  {
   "cell_type": "code",
   "execution_count": null,
   "metadata": {
    "collapsed": true
   },
   "outputs": [],
   "source": []
  },
  {
   "cell_type": "code",
   "execution_count": null,
   "metadata": {
    "collapsed": true
   },
   "outputs": [],
   "source": []
  },
  {
   "cell_type": "code",
   "execution_count": null,
   "metadata": {
    "collapsed": true
   },
   "outputs": [],
   "source": []
  },
  {
   "cell_type": "code",
   "execution_count": null,
   "metadata": {
    "collapsed": true
   },
   "outputs": [],
   "source": []
  },
  {
   "cell_type": "code",
   "execution_count": null,
   "metadata": {
    "collapsed": true
   },
   "outputs": [],
   "source": []
  },
  {
   "cell_type": "code",
   "execution_count": null,
   "metadata": {
    "collapsed": true
   },
   "outputs": [],
   "source": []
  },
  {
   "cell_type": "code",
   "execution_count": null,
   "metadata": {
    "collapsed": true
   },
   "outputs": [],
   "source": []
  },
  {
   "cell_type": "code",
   "execution_count": null,
   "metadata": {
    "collapsed": true
   },
   "outputs": [],
   "source": []
  },
  {
   "cell_type": "code",
   "execution_count": null,
   "metadata": {
    "collapsed": true
   },
   "outputs": [],
   "source": []
  },
  {
   "cell_type": "code",
   "execution_count": null,
   "metadata": {
    "collapsed": true
   },
   "outputs": [],
   "source": []
  },
  {
   "cell_type": "code",
   "execution_count": null,
   "metadata": {
    "collapsed": false
   },
   "outputs": [],
   "source": [
    "ax = loansData.plot(kind='scatter', x=intrate, y=fico,color='DarkBlue', label='Group 1')"
   ]
  },
  {
   "cell_type": "code",
   "execution_count": null,
   "metadata": {
    "collapsed": false
   },
   "outputs": [],
   "source": [
    "# fig, ax = plt.subplots()\n",
    "# >>> fig = sm.graphics.plot_fit(results, 0, ax=ax)\n",
    "# >>> ax.set_ylabel(\"Murder Rate\")\n",
    "# >>> ax.set_xlabel(\"Poverty Level\")\n",
    "# >>> ax.set_title(\"Linear Regression\")\n",
    "\n",
    "# fig, ax = plt.subplots()\n",
    "# fig = sm.graphics.plot_fit(f, 0 , ax = ax)\n",
    "# ax.set_ylabel(\"FICO Score\")\n",
    "# ax.set_xlabel(\"Interest Rate\")\n",
    "# ax.set_title(\"Linear Regression\")"
   ]
  },
  {
   "cell_type": "code",
   "execution_count": null,
   "metadata": {
    "collapsed": false
   },
   "outputs": [],
   "source": [
    "df = pd.read(x)"
   ]
  },
  {
   "cell_type": "code",
   "execution_count": null,
   "metadata": {
    "collapsed": true
   },
   "outputs": [],
   "source": []
  },
  {
   "cell_type": "code",
   "execution_count": null,
   "metadata": {
    "collapsed": true
   },
   "outputs": [],
   "source": []
  },
  {
   "cell_type": "code",
   "execution_count": null,
   "metadata": {
    "collapsed": true
   },
   "outputs": [],
   "source": []
  },
  {
   "cell_type": "code",
   "execution_count": null,
   "metadata": {
    "collapsed": true
   },
   "outputs": [],
   "source": []
  },
  {
   "cell_type": "code",
   "execution_count": null,
   "metadata": {
    "collapsed": true
   },
   "outputs": [],
   "source": []
  },
  {
   "cell_type": "code",
   "execution_count": null,
   "metadata": {
    "collapsed": true
   },
   "outputs": [],
   "source": []
  }
 ],
 "metadata": {
  "kernelspec": {
   "display_name": "Python 2",
   "language": "python",
   "name": "python2"
  },
  "language_info": {
   "codemirror_mode": {
    "name": "ipython",
    "version": 2
   },
   "file_extension": ".py",
   "mimetype": "text/x-python",
   "name": "python",
   "nbconvert_exporter": "python",
   "pygments_lexer": "ipython2",
   "version": "2.7.11"
  }
 },
 "nbformat": 4,
 "nbformat_minor": 0
}
