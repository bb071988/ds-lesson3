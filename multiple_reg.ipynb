{
 "cells": [
  {
   "cell_type": "code",
   "execution_count": 17,
   "metadata": {
    "collapsed": true
   },
   "outputs": [],
   "source": [
    "%matplotlib inline"
   ]
  },
  {
   "cell_type": "code",
   "execution_count": 40,
   "metadata": {
    "collapsed": true
   },
   "outputs": [],
   "source": [
    "import multiple_reg as mr\n",
    "import pandas as pd\n",
    "import statsmodels.formula.api as smf"
   ]
  },
  {
   "cell_type": "code",
   "execution_count": 19,
   "metadata": {
    "collapsed": false
   },
   "outputs": [
    {
     "data": {
      "text/plain": [
       "<module 'multiple_reg' from 'multiple_reg.py'>"
      ]
     },
     "execution_count": 19,
     "metadata": {},
     "output_type": "execute_result"
    }
   ],
   "source": [
    "reload( multiple_reg)"
   ]
  },
  {
   "cell_type": "code",
   "execution_count": 20,
   "metadata": {
    "collapsed": false
   },
   "outputs": [
    {
     "name": "stdout",
     "output_type": "stream",
     "text": [
      "<bound method OLSResults.summary of <statsmodels.regression.linear_model.OLSResults object at 0x0000000019E052B0>>\n"
     ]
    }
   ],
   "source": [
    "df, linmodel = mr.analyze_it()"
   ]
  },
  {
   "cell_type": "code",
   "execution_count": 22,
   "metadata": {
    "collapsed": false
   },
   "outputs": [
    {
     "data": {
      "text/html": [
       "<table class=\"simpletable\">\n",
       "<caption>OLS Regression Results</caption>\n",
       "<tr>\n",
       "  <th>Dep. Variable:</th>            <td>y</td>        <th>  R-squared:         </th> <td>   0.000</td>\n",
       "</tr>\n",
       "<tr>\n",
       "  <th>Model:</th>                   <td>OLS</td>       <th>  Adj. R-squared:    </th> <td>  -0.000</td>\n",
       "</tr>\n",
       "<tr>\n",
       "  <th>Method:</th>             <td>Least Squares</td>  <th>  F-statistic:       </th> <td>  0.4168</td>\n",
       "</tr>\n",
       "<tr>\n",
       "  <th>Date:</th>             <td>Wed, 02 Mar 2016</td> <th>  Prob (F-statistic):</th>  <td> 0.519</td> \n",
       "</tr>\n",
       "<tr>\n",
       "  <th>Time:</th>                 <td>18:10:42</td>     <th>  Log-Likelihood:    </th> <td>  4388.2</td>\n",
       "</tr>\n",
       "<tr>\n",
       "  <th>No. Observations:</th>      <td>  2498</td>      <th>  AIC:               </th> <td>  -8772.</td>\n",
       "</tr>\n",
       "<tr>\n",
       "  <th>Df Residuals:</th>          <td>  2496</td>      <th>  BIC:               </th> <td>  -8761.</td>\n",
       "</tr>\n",
       "<tr>\n",
       "  <th>Df Model:</th>              <td>     1</td>      <th>                     </th>     <td> </td>   \n",
       "</tr>\n",
       "<tr>\n",
       "  <th>Covariance Type:</th>      <td>nonrobust</td>    <th>                     </th>     <td> </td>   \n",
       "</tr>\n",
       "</table>\n",
       "<table class=\"simpletable\">\n",
       "<tr>\n",
       "    <td></td>       <th>coef</th>     <th>std err</th>      <th>t</th>      <th>P>|t|</th> <th>[95.0% Conf. Int.]</th> \n",
       "</tr>\n",
       "<tr>\n",
       "  <th>const</th> <td>    0.1299</td> <td>    0.001</td> <td>   88.807</td> <td> 0.000</td> <td>    0.127     0.133</td>\n",
       "</tr>\n",
       "<tr>\n",
       "  <th>x1</th>    <td> 1.136e-08</td> <td> 1.76e-08</td> <td>    0.646</td> <td> 0.519</td> <td>-2.31e-08  4.59e-08</td>\n",
       "</tr>\n",
       "</table>\n",
       "<table class=\"simpletable\">\n",
       "<tr>\n",
       "  <th>Omnibus:</th>       <td>69.741</td> <th>  Durbin-Watson:     </th> <td>   1.989</td>\n",
       "</tr>\n",
       "<tr>\n",
       "  <th>Prob(Omnibus):</th> <td> 0.000</td> <th>  Jarque-Bera (JB):  </th> <td>  54.034</td>\n",
       "</tr>\n",
       "<tr>\n",
       "  <th>Skew:</th>          <td> 0.273</td> <th>  Prob(JB):          </th> <td>1.85e-12</td>\n",
       "</tr>\n",
       "<tr>\n",
       "  <th>Kurtosis:</th>      <td> 2.530</td> <th>  Cond. No.          </th> <td>1.45e+05</td>\n",
       "</tr>\n",
       "</table>"
      ],
      "text/plain": [
       "<class 'statsmodels.iolib.summary.Summary'>\n",
       "\"\"\"\n",
       "                            OLS Regression Results                            \n",
       "==============================================================================\n",
       "Dep. Variable:                      y   R-squared:                       0.000\n",
       "Model:                            OLS   Adj. R-squared:                 -0.000\n",
       "Method:                 Least Squares   F-statistic:                    0.4168\n",
       "Date:                Wed, 02 Mar 2016   Prob (F-statistic):              0.519\n",
       "Time:                        18:10:42   Log-Likelihood:                 4388.2\n",
       "No. Observations:                2498   AIC:                            -8772.\n",
       "Df Residuals:                    2496   BIC:                            -8761.\n",
       "Df Model:                           1                                         \n",
       "Covariance Type:            nonrobust                                         \n",
       "==============================================================================\n",
       "                 coef    std err          t      P>|t|      [95.0% Conf. Int.]\n",
       "------------------------------------------------------------------------------\n",
       "const          0.1299      0.001     88.807      0.000         0.127     0.133\n",
       "x1          1.136e-08   1.76e-08      0.646      0.519     -2.31e-08  4.59e-08\n",
       "==============================================================================\n",
       "Omnibus:                       69.741   Durbin-Watson:                   1.989\n",
       "Prob(Omnibus):                  0.000   Jarque-Bera (JB):               54.034\n",
       "Skew:                           0.273   Prob(JB):                     1.85e-12\n",
       "Kurtosis:                       2.530   Cond. No.                     1.45e+05\n",
       "==============================================================================\n",
       "\n",
       "Warnings:\n",
       "[1] Standard Errors assume that the covariance matrix of the errors is correctly specified.\n",
       "[2] The condition number is large, 1.45e+05. This might indicate that there are\n",
       "strong multicollinearity or other numerical problems.\n",
       "\"\"\""
      ]
     },
     "execution_count": 22,
     "metadata": {},
     "output_type": "execute_result"
    }
   ],
   "source": [
    "linmodel.summary()"
   ]
  },
  {
   "cell_type": "code",
   "execution_count": 31,
   "metadata": {
    "collapsed": true
   },
   "outputs": [],
   "source": [
    "# # fit OLS on categorical variables children and occupation\n",
    "\n",
    "# est = smf.ols(formula='chd ~ C(famhist)', data=df).fit()\n",
    "# short_summary(est)"
   ]
  },
  {
   "cell_type": "code",
   "execution_count": 32,
   "metadata": {
    "collapsed": true
   },
   "outputs": [],
   "source": [
    "df['Rate'] = df['Interest.Rate'] # seems silly to have to do this but smf chokes on Interest.Rate - No field named Interest?"
   ]
  },
  {
   "cell_type": "code",
   "execution_count": 36,
   "metadata": {
    "collapsed": false
   },
   "outputs": [
    {
     "data": {
      "text/html": [
       "<table class=\"simpletable\">\n",
       "<caption>OLS Regression Results</caption>\n",
       "<tr>\n",
       "  <th>Dep. Variable:</th>          <td>Rate</td>       <th>  R-squared:         </th> <td>   0.000</td>\n",
       "</tr>\n",
       "<tr>\n",
       "  <th>Model:</th>                   <td>OLS</td>       <th>  Adj. R-squared:    </th> <td>  -0.000</td>\n",
       "</tr>\n",
       "<tr>\n",
       "  <th>Method:</th>             <td>Least Squares</td>  <th>  F-statistic:       </th> <td>  0.4168</td>\n",
       "</tr>\n",
       "<tr>\n",
       "  <th>Date:</th>             <td>Wed, 02 Mar 2016</td> <th>  Prob (F-statistic):</th>  <td> 0.519</td> \n",
       "</tr>\n",
       "<tr>\n",
       "  <th>Time:</th>                 <td>22:11:43</td>     <th>  Log-Likelihood:    </th> <td>  4388.2</td>\n",
       "</tr>\n",
       "<tr>\n",
       "  <th>No. Observations:</th>      <td>  2498</td>      <th>  AIC:               </th> <td>  -8772.</td>\n",
       "</tr>\n",
       "<tr>\n",
       "  <th>Df Residuals:</th>          <td>  2496</td>      <th>  BIC:               </th> <td>  -8761.</td>\n",
       "</tr>\n",
       "<tr>\n",
       "  <th>Df Model:</th>              <td>     1</td>      <th>                     </th>     <td> </td>   \n",
       "</tr>\n",
       "<tr>\n",
       "  <th>Covariance Type:</th>      <td>nonrobust</td>    <th>                     </th>     <td> </td>   \n",
       "</tr>\n",
       "</table>\n",
       "<table class=\"simpletable\">\n",
       "<tr>\n",
       "       <td></td>         <th>coef</th>     <th>std err</th>      <th>t</th>      <th>P>|t|</th> <th>[95.0% Conf. Int.]</th> \n",
       "</tr>\n",
       "<tr>\n",
       "  <th>Intercept</th>  <td>    0.1299</td> <td>    0.001</td> <td>   88.807</td> <td> 0.000</td> <td>    0.127     0.133</td>\n",
       "</tr>\n",
       "<tr>\n",
       "  <th>annual_inc</th> <td> 1.136e-08</td> <td> 1.76e-08</td> <td>    0.646</td> <td> 0.519</td> <td>-2.31e-08  4.59e-08</td>\n",
       "</tr>\n",
       "</table>\n",
       "<table class=\"simpletable\">\n",
       "<tr>\n",
       "  <th>Omnibus:</th>       <td>69.741</td> <th>  Durbin-Watson:     </th> <td>   1.989</td>\n",
       "</tr>\n",
       "<tr>\n",
       "  <th>Prob(Omnibus):</th> <td> 0.000</td> <th>  Jarque-Bera (JB):  </th> <td>  54.034</td>\n",
       "</tr>\n",
       "<tr>\n",
       "  <th>Skew:</th>          <td> 0.273</td> <th>  Prob(JB):          </th> <td>1.85e-12</td>\n",
       "</tr>\n",
       "<tr>\n",
       "  <th>Kurtosis:</th>      <td> 2.530</td> <th>  Cond. No.          </th> <td>1.45e+05</td>\n",
       "</tr>\n",
       "</table>"
      ],
      "text/plain": [
       "<class 'statsmodels.iolib.summary.Summary'>\n",
       "\"\"\"\n",
       "                            OLS Regression Results                            \n",
       "==============================================================================\n",
       "Dep. Variable:                   Rate   R-squared:                       0.000\n",
       "Model:                            OLS   Adj. R-squared:                 -0.000\n",
       "Method:                 Least Squares   F-statistic:                    0.4168\n",
       "Date:                Wed, 02 Mar 2016   Prob (F-statistic):              0.519\n",
       "Time:                        22:11:43   Log-Likelihood:                 4388.2\n",
       "No. Observations:                2498   AIC:                            -8772.\n",
       "Df Residuals:                    2496   BIC:                            -8761.\n",
       "Df Model:                           1                                         \n",
       "Covariance Type:            nonrobust                                         \n",
       "==============================================================================\n",
       "                 coef    std err          t      P>|t|      [95.0% Conf. Int.]\n",
       "------------------------------------------------------------------------------\n",
       "Intercept      0.1299      0.001     88.807      0.000         0.127     0.133\n",
       "annual_inc  1.136e-08   1.76e-08      0.646      0.519     -2.31e-08  4.59e-08\n",
       "==============================================================================\n",
       "Omnibus:                       69.741   Durbin-Watson:                   1.989\n",
       "Prob(Omnibus):                  0.000   Jarque-Bera (JB):               54.034\n",
       "Skew:                           0.273   Prob(JB):                     1.85e-12\n",
       "Kurtosis:                       2.530   Cond. No.                     1.45e+05\n",
       "==============================================================================\n",
       "\n",
       "Warnings:\n",
       "[1] Standard Errors assume that the covariance matrix of the errors is correctly specified.\n",
       "[2] The condition number is large, 1.45e+05. This might indicate that there are\n",
       "strong multicollinearity or other numerical problems.\n",
       "\"\"\""
      ]
     },
     "execution_count": 36,
     "metadata": {},
     "output_type": "execute_result"
    }
   ],
   "source": [
    "# fit OLS on categorical variables children and occupation\n",
    "\n",
    "\n",
    "# copy data and separate predictors and response\n",
    "X = df.copy()\n",
    "y = X.pop('Interest.Rate')\n",
    "\n",
    "est = smf.ols(formula='Rate ~ annual_inc', data=df).fit()\n",
    "est.summary()"
   ]
  },
  {
   "cell_type": "code",
   "execution_count": 59,
   "metadata": {
    "collapsed": false
   },
   "outputs": [
    {
     "name": "stderr",
     "output_type": "stream",
     "text": [
      "C:\\Users\\bob071988\\Anaconda2\\lib\\site-packages\\ipykernel\\__main__.py:2: FutureWarning: 'labels' is deprecated. Use 'codes' instead\n",
      "  from ipykernel import kernelapp as app\n"
     ]
    },
    {
     "data": {
      "text/html": [
       "<table class=\"simpletable\">\n",
       "<caption>OLS Regression Results</caption>\n",
       "<tr>\n",
       "  <th>Dep. Variable:</th>          <td>Rate</td>       <th>  R-squared:         </th> <td>   0.008</td>\n",
       "</tr>\n",
       "<tr>\n",
       "  <th>Model:</th>                   <td>OLS</td>       <th>  Adj. R-squared:    </th> <td>   0.006</td>\n",
       "</tr>\n",
       "<tr>\n",
       "  <th>Method:</th>             <td>Least Squares</td>  <th>  F-statistic:       </th> <td>   5.015</td>\n",
       "</tr>\n",
       "<tr>\n",
       "  <th>Date:</th>             <td>Wed, 02 Mar 2016</td> <th>  Prob (F-statistic):</th> <td>0.000502</td>\n",
       "</tr>\n",
       "<tr>\n",
       "  <th>Time:</th>                 <td>22:37:18</td>     <th>  Log-Likelihood:    </th> <td>  4398.0</td>\n",
       "</tr>\n",
       "<tr>\n",
       "  <th>No. Observations:</th>      <td>  2498</td>      <th>  AIC:               </th> <td>  -8786.</td>\n",
       "</tr>\n",
       "<tr>\n",
       "  <th>Df Residuals:</th>          <td>  2493</td>      <th>  BIC:               </th> <td>  -8757.</td>\n",
       "</tr>\n",
       "<tr>\n",
       "  <th>Df Model:</th>              <td>     4</td>      <th>                     </th>     <td> </td>   \n",
       "</tr>\n",
       "<tr>\n",
       "  <th>Covariance Type:</th>      <td>nonrobust</td>    <th>                     </th>     <td> </td>   \n",
       "</tr>\n",
       "</table>\n",
       "<table class=\"simpletable\">\n",
       "<tr>\n",
       "            <td></td>               <th>coef</th>     <th>std err</th>      <th>t</th>      <th>P>|t|</th> <th>[95.0% Conf. Int.]</th> \n",
       "</tr>\n",
       "<tr>\n",
       "  <th>Intercept</th>             <td>    0.1253</td> <td>    0.002</td> <td>   66.444</td> <td> 0.000</td> <td>    0.122     0.129</td>\n",
       "</tr>\n",
       "<tr>\n",
       "  <th>C(ownership)[T.OTHER]</th> <td>    0.0333</td> <td>    0.019</td> <td>    1.784</td> <td> 0.075</td> <td>   -0.003     0.070</td>\n",
       "</tr>\n",
       "<tr>\n",
       "  <th>C(ownership)[T.OWN]</th>   <td>    0.0022</td> <td>    0.003</td> <td>    0.695</td> <td> 0.487</td> <td>   -0.004     0.009</td>\n",
       "</tr>\n",
       "<tr>\n",
       "  <th>C(ownership)[T.RENT]</th>  <td>    0.0073</td> <td>    0.002</td> <td>    4.102</td> <td> 0.000</td> <td>    0.004     0.011</td>\n",
       "</tr>\n",
       "<tr>\n",
       "  <th>annual_inc</th>            <td> 2.627e-08</td> <td>  1.8e-08</td> <td>    1.461</td> <td> 0.144</td> <td>-8.99e-09  6.15e-08</td>\n",
       "</tr>\n",
       "</table>\n",
       "<table class=\"simpletable\">\n",
       "<tr>\n",
       "  <th>Omnibus:</th>       <td>68.156</td> <th>  Durbin-Watson:     </th> <td>   1.993</td>\n",
       "</tr>\n",
       "<tr>\n",
       "  <th>Prob(Omnibus):</th> <td> 0.000</td> <th>  Jarque-Bera (JB):  </th> <td>  54.882</td>\n",
       "</tr>\n",
       "<tr>\n",
       "  <th>Skew:</th>          <td> 0.284</td> <th>  Prob(JB):          </th> <td>1.21e-12</td>\n",
       "</tr>\n",
       "<tr>\n",
       "  <th>Kurtosis:</th>      <td> 2.548</td> <th>  Cond. No.          </th> <td>1.86e+06</td>\n",
       "</tr>\n",
       "</table>"
      ],
      "text/plain": [
       "<class 'statsmodels.iolib.summary.Summary'>\n",
       "\"\"\"\n",
       "                            OLS Regression Results                            \n",
       "==============================================================================\n",
       "Dep. Variable:                   Rate   R-squared:                       0.008\n",
       "Model:                            OLS   Adj. R-squared:                  0.006\n",
       "Method:                 Least Squares   F-statistic:                     5.015\n",
       "Date:                Wed, 02 Mar 2016   Prob (F-statistic):           0.000502\n",
       "Time:                        22:37:18   Log-Likelihood:                 4398.0\n",
       "No. Observations:                2498   AIC:                            -8786.\n",
       "Df Residuals:                    2493   BIC:                            -8757.\n",
       "Df Model:                           4                                         \n",
       "Covariance Type:            nonrobust                                         \n",
       "=========================================================================================\n",
       "                            coef    std err          t      P>|t|      [95.0% Conf. Int.]\n",
       "-----------------------------------------------------------------------------------------\n",
       "Intercept                 0.1253      0.002     66.444      0.000         0.122     0.129\n",
       "C(ownership)[T.OTHER]     0.0333      0.019      1.784      0.075        -0.003     0.070\n",
       "C(ownership)[T.OWN]       0.0022      0.003      0.695      0.487        -0.004     0.009\n",
       "C(ownership)[T.RENT]      0.0073      0.002      4.102      0.000         0.004     0.011\n",
       "annual_inc             2.627e-08    1.8e-08      1.461      0.144     -8.99e-09  6.15e-08\n",
       "==============================================================================\n",
       "Omnibus:                       68.156   Durbin-Watson:                   1.993\n",
       "Prob(Omnibus):                  0.000   Jarque-Bera (JB):               54.882\n",
       "Skew:                           0.284   Prob(JB):                     1.21e-12\n",
       "Kurtosis:                       2.548   Cond. No.                     1.86e+06\n",
       "==============================================================================\n",
       "\n",
       "Warnings:\n",
       "[1] Standard Errors assume that the covariance matrix of the errors is correctly specified.\n",
       "[2] The condition number is large, 1.86e+06. This might indicate that there are\n",
       "strong multicollinearity or other numerical problems.\n",
       "\"\"\""
      ]
     },
     "execution_count": 59,
     "metadata": {},
     "output_type": "execute_result"
    }
   ],
   "source": [
    "# encode df.famhist as a numeric via pd.Factor\n",
    "df['own'] = pd.Categorical(df['Home.Ownership']).labels\n",
    "df['ownership'] = df['Home.Ownership']\n",
    "df.head()\n",
    "\n",
    "# fit OLS on categorical variables children and occupation\n",
    "import statsmodels.formula.api as smf\n",
    "\n",
    "# copy data and separate predictors and response\n",
    "X = df.copy()\n",
    "X.dropna()\n",
    "\n",
    "y = X.pop('Interest.Rate')\n",
    "\n",
    "est = smf.ols(formula='Rate ~ annual_inc + C(ownership)', data=df).fit() # need a plus sign to add variables\n",
    "est.summary()\n"
   ]
  },
  {
   "cell_type": "code",
   "execution_count": null,
   "metadata": {
    "collapsed": true
   },
   "outputs": [],
   "source": [
    "# p values way too high and R squared way too low for this model to be useful."
   ]
  },
  {
   "cell_type": "code",
   "execution_count": null,
   "metadata": {
    "collapsed": true
   },
   "outputs": [],
   "source": []
  },
  {
   "cell_type": "code",
   "execution_count": null,
   "metadata": {
    "collapsed": true
   },
   "outputs": [],
   "source": []
  }
 ],
 "metadata": {
  "kernelspec": {
   "display_name": "Python 2",
   "language": "python",
   "name": "python2"
  },
  "language_info": {
   "codemirror_mode": {
    "name": "ipython",
    "version": 2
   },
   "file_extension": ".py",
   "mimetype": "text/x-python",
   "name": "python",
   "nbconvert_exporter": "python",
   "pygments_lexer": "ipython2",
   "version": "2.7.11"
  }
 },
 "nbformat": 4,
 "nbformat_minor": 0
}
