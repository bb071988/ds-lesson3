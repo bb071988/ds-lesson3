{
 "cells": [
  {
   "cell_type": "code",
   "execution_count": 1,
   "metadata": {
    "collapsed": false
   },
   "outputs": [
    {
     "name": "stdout",
     "output_type": "stream",
     "text": [
      "       rainy  sunny\n",
      "rainy    0.4    0.6\n",
      "sunny    0.7    0.3\n"
     ]
    }
   ],
   "source": [
    "import pandas as pd\n",
    "df = pd.DataFrame({'rainy': [.4, .7], \n",
    "                   'sunny': [.6, .3]\n",
    "                  }, \n",
    "                  index=[\"rainy\", \"sunny\"])\n",
    "print(df)"
   ]
  },
  {
   "cell_type": "code",
   "execution_count": 20,
   "metadata": {
    "collapsed": false
   },
   "outputs": [
    {
     "name": "stdout",
     "output_type": "stream",
     "text": [
      "           bear  bull  stagnant\n",
      "bull      0.075  0.90     0.025\n",
      "bear      0.800  0.15     0.050\n",
      "stagnant  0.250  0.25     0.500\n"
     ]
    }
   ],
   "source": [
    "import pandas as pd\n",
    "df = pd.DataFrame({'bull': [.9, .15, .25], \n",
    "                   'bear': [.075, .8, 0.25],\n",
    "                   'stagnant': [.025, .05, .5]\n",
    "                  }, \n",
    "                  index=[\"bull\", \"bear\", \"stagnant\"])\n",
    "print(df)\n",
    "\n",
    "# bull\t0.9\t0.15\t0.25\n",
    "# bear\t0.075\t0.8\t0.25\n",
    "# stagnant\t0.025\t0.05\t0.5\n"
   ]
  },
  {
   "cell_type": "code",
   "execution_count": 4,
   "metadata": {
    "collapsed": false
   },
   "outputs": [
    {
     "name": "stdout",
     "output_type": "stream",
     "text": [
      "             bear    bull  stagnant\n",
      "bull      0.13375  0.8275   0.03875\n",
      "bear      0.66375  0.2675   0.06875\n",
      "stagnant  0.34375  0.3875   0.26875\n"
     ]
    }
   ],
   "source": [
    "#for two transitions\n",
    "print(df.dot(df))"
   ]
  },
  {
   "cell_type": "code",
   "execution_count": 22,
   "metadata": {
    "collapsed": false
   },
   "outputs": [
    {
     "name": "stdout",
     "output_type": "stream",
     "text": [
      "****************** power of 2 ************************\n",
      "             bear    bull  stagnant\n",
      "bull      0.13375  0.8275   0.03875\n",
      "bear      0.66375  0.2675   0.06875\n",
      "stagnant  0.34375  0.3875   0.26875\n",
      "****************** power of 3 ************************\n",
      "              bear     bull  stagnant\n",
      "bull      0.212775  0.73555  0.051675\n",
      "bear      0.499975  0.42555  0.074475\n",
      "stagnant  0.372375  0.51675  0.110875\n",
      "****************** power of 4 ************************\n",
      "              bear      bull  stagnant\n",
      "bull      0.282131  0.658283  0.059585\n",
      "bear      0.368254  0.564263  0.067483\n",
      "stagnant  0.337417  0.595854  0.066729\n",
      "****************** power of 5 ************************\n",
      "              bear      bull  stagnant\n",
      "bull      0.309723  0.628037  0.062239\n",
      "bear      0.317577  0.619447  0.062976\n",
      "stagnant  0.314880  0.622393  0.062727\n",
      "****************** power of 6 ************************\n",
      "              bear      bull  stagnant\n",
      "bull      0.312477  0.625025  0.062498\n",
      "bear      0.312542  0.624954  0.062504\n",
      "stagnant  0.312520  0.624978  0.062502\n",
      "****************** power of 7 ************************\n",
      "            bear   bull  stagnant\n",
      "bull      0.3125  0.625    0.0625\n",
      "bear      0.3125  0.625    0.0625\n",
      "stagnant  0.3125  0.625    0.0625\n",
      "****************** power of 8 ************************\n",
      "            bear   bull  stagnant\n",
      "bull      0.3125  0.625    0.0625\n",
      "bear      0.3125  0.625    0.0625\n",
      "stagnant  0.3125  0.625    0.0625\n",
      "****************** power of 9 ************************\n",
      "            bear   bull  stagnant\n",
      "bull      0.3125  0.625    0.0625\n",
      "bear      0.3125  0.625    0.0625\n",
      "stagnant  0.3125  0.625    0.0625\n",
      "****************** power of 10 ************************\n",
      "            bear   bull  stagnant\n",
      "bull      0.3125  0.625    0.0625\n",
      "bear      0.3125  0.625    0.0625\n",
      "stagnant  0.3125  0.625    0.0625\n",
      "****************** power of 11 ************************\n",
      "            bear   bull  stagnant\n",
      "bull      0.3125  0.625    0.0625\n",
      "bear      0.3125  0.625    0.0625\n",
      "stagnant  0.3125  0.625    0.0625\n",
      "****************** power of 12 ************************\n",
      "            bear   bull  stagnant\n",
      "bull      0.3125  0.625    0.0625\n",
      "bear      0.3125  0.625    0.0625\n",
      "stagnant  0.3125  0.625    0.0625\n",
      "****************** power of 13 ************************\n",
      "            bear   bull  stagnant\n",
      "bull      0.3125  0.625    0.0625\n",
      "bear      0.3125  0.625    0.0625\n",
      "stagnant  0.3125  0.625    0.0625\n",
      "****************** power of 14 ************************\n",
      "            bear   bull  stagnant\n",
      "bull      0.3125  0.625    0.0625\n",
      "bear      0.3125  0.625    0.0625\n",
      "stagnant  0.3125  0.625    0.0625\n",
      "****************** power of 15 ************************\n",
      "            bear   bull  stagnant\n",
      "bull      0.3125  0.625    0.0625\n",
      "bear      0.3125  0.625    0.0625\n",
      "stagnant  0.3125  0.625    0.0625\n",
      "****************** power of 16 ************************\n",
      "            bear   bull  stagnant\n",
      "bull      0.3125  0.625    0.0625\n",
      "bear      0.3125  0.625    0.0625\n",
      "stagnant  0.3125  0.625    0.0625\n",
      "****************** power of 17 ************************\n",
      "            bear   bull  stagnant\n",
      "bull      0.3125  0.625    0.0625\n",
      "bear      0.3125  0.625    0.0625\n",
      "stagnant  0.3125  0.625    0.0625\n",
      "****************** power of 18 ************************\n",
      "            bear   bull  stagnant\n",
      "bull      0.3125  0.625    0.0625\n",
      "bear      0.3125  0.625    0.0625\n",
      "stagnant  0.3125  0.625    0.0625\n",
      "****************** power of 19 ************************\n",
      "            bear   bull  stagnant\n",
      "bull      0.3125  0.625    0.0625\n",
      "bear      0.3125  0.625    0.0625\n",
      "stagnant  0.3125  0.625    0.0625\n",
      "****************** power of 20 ************************\n",
      "            bear   bull  stagnant\n",
      "bull      0.3125  0.625    0.0625\n",
      "bear      0.3125  0.625    0.0625\n",
      "stagnant  0.3125  0.625    0.0625\n"
     ]
    }
   ],
   "source": [
    "import pandas as pd\n",
    "df = pd.DataFrame({'bull': [.9, .15, .25], \n",
    "                   'bear': [.075, .8, 0.25],\n",
    "                   'stagnant': [.025, .05, .5]\n",
    "                  }, \n",
    "                  index=[\"bull\", \"bear\", \"stagnant\"])\n",
    "\n",
    "# how many\n",
    "raise_power = 20\n",
    "\n",
    "count = 1\n",
    "\n",
    "while count < raise_power:\n",
    "    df = df.dot(df)\n",
    "    count += 1\n",
    "    \n",
    "    print(\"****************** power of {} ************************\".format(count))\n",
    "    print(df)"
   ]
  },
  {
   "cell_type": "code",
   "execution_count": null,
   "metadata": {
    "collapsed": true
   },
   "outputs": [],
   "source": []
  },
  {
   "cell_type": "code",
   "execution_count": null,
   "metadata": {
    "collapsed": true
   },
   "outputs": [],
   "source": []
  }
 ],
 "metadata": {
  "kernelspec": {
   "display_name": "Python 2",
   "language": "python",
   "name": "python2"
  },
  "language_info": {
   "codemirror_mode": {
    "name": "ipython",
    "version": 2
   },
   "file_extension": ".py",
   "mimetype": "text/x-python",
   "name": "python",
   "nbconvert_exporter": "python",
   "pygments_lexer": "ipython2",
   "version": "2.7.11"
  }
 },
 "nbformat": 4,
 "nbformat_minor": 0
}
