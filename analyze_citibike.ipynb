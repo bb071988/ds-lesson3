{
 "cells": [
  {
   "cell_type": "code",
   "execution_count": 20,
   "metadata": {
    "collapsed": true
   },
   "outputs": [],
   "source": [
    "%matplotlib inline"
   ]
  },
  {
   "cell_type": "code",
   "execution_count": 1,
   "metadata": {
    "collapsed": true
   },
   "outputs": [],
   "source": [
    "# analyzing citibike data"
   ]
  },
  {
   "cell_type": "code",
   "execution_count": 19,
   "metadata": {
    "collapsed": true
   },
   "outputs": [],
   "source": [
    "import pandas as pd\n",
    "import psycopg2\n",
    "import collections\n",
    "import datetime\n",
    "import matplotlib.pyplot as plt\n",
    "\n"
   ]
  },
  {
   "cell_type": "code",
   "execution_count": null,
   "metadata": {
    "collapsed": true
   },
   "outputs": [],
   "source": []
  },
  {
   "cell_type": "code",
   "execution_count": 9,
   "metadata": {
    "collapsed": true
   },
   "outputs": [],
   "source": [
    "conn = psycopg2.connect(\"dbname=getting_started user=postgres password=Gatsby\")\n",
    "\n",
    "with conn:\n",
    "#open the cursor\n",
    "\tcur = conn.cursor()\n",
    "\tdf = pd.read_sql_query(\"SELECT * FROM available_bikes ORDER BY execution_time\", conn, index_col='execution_time')"
   ]
  },
  {
   "cell_type": "code",
   "execution_count": 10,
   "metadata": {
    "collapsed": false
   },
   "outputs": [
    {
     "data": {
      "text/html": [
       "<div>\n",
       "<table border=\"1\" class=\"dataframe\">\n",
       "  <thead>\n",
       "    <tr style=\"text-align: right;\">\n",
       "      <th></th>\n",
       "      <th>_72</th>\n",
       "      <th>_79</th>\n",
       "      <th>_82</th>\n",
       "      <th>_83</th>\n",
       "      <th>_116</th>\n",
       "      <th>_119</th>\n",
       "      <th>_120</th>\n",
       "      <th>_127</th>\n",
       "      <th>_128</th>\n",
       "      <th>_137</th>\n",
       "      <th>...</th>\n",
       "      <th>_3236</th>\n",
       "      <th>_3237</th>\n",
       "      <th>_3238</th>\n",
       "      <th>_3241</th>\n",
       "      <th>_3242</th>\n",
       "      <th>_3243</th>\n",
       "      <th>_3244</th>\n",
       "      <th>_3246</th>\n",
       "      <th>_3248</th>\n",
       "      <th>_3249</th>\n",
       "    </tr>\n",
       "    <tr>\n",
       "      <th>execution_time</th>\n",
       "      <th></th>\n",
       "      <th></th>\n",
       "      <th></th>\n",
       "      <th></th>\n",
       "      <th></th>\n",
       "      <th></th>\n",
       "      <th></th>\n",
       "      <th></th>\n",
       "      <th></th>\n",
       "      <th></th>\n",
       "      <th></th>\n",
       "      <th></th>\n",
       "      <th></th>\n",
       "      <th></th>\n",
       "      <th></th>\n",
       "      <th></th>\n",
       "      <th></th>\n",
       "      <th></th>\n",
       "      <th></th>\n",
       "      <th></th>\n",
       "      <th></th>\n",
       "    </tr>\n",
       "  </thead>\n",
       "  <tbody>\n",
       "    <tr>\n",
       "      <th>1460588512</th>\n",
       "      <td>10</td>\n",
       "      <td>2</td>\n",
       "      <td>8</td>\n",
       "      <td>18</td>\n",
       "      <td>0</td>\n",
       "      <td>12</td>\n",
       "      <td>17</td>\n",
       "      <td>26</td>\n",
       "      <td>2</td>\n",
       "      <td>0</td>\n",
       "      <td>...</td>\n",
       "      <td>1</td>\n",
       "      <td>0</td>\n",
       "      <td>26</td>\n",
       "      <td>4</td>\n",
       "      <td>20</td>\n",
       "      <td>0</td>\n",
       "      <td>11</td>\n",
       "      <td>0</td>\n",
       "      <td>0</td>\n",
       "      <td>2</td>\n",
       "    </tr>\n",
       "    <tr>\n",
       "      <th>1460588573</th>\n",
       "      <td>10</td>\n",
       "      <td>2</td>\n",
       "      <td>8</td>\n",
       "      <td>18</td>\n",
       "      <td>1</td>\n",
       "      <td>12</td>\n",
       "      <td>17</td>\n",
       "      <td>28</td>\n",
       "      <td>2</td>\n",
       "      <td>0</td>\n",
       "      <td>...</td>\n",
       "      <td>1</td>\n",
       "      <td>0</td>\n",
       "      <td>26</td>\n",
       "      <td>4</td>\n",
       "      <td>20</td>\n",
       "      <td>0</td>\n",
       "      <td>10</td>\n",
       "      <td>0</td>\n",
       "      <td>0</td>\n",
       "      <td>2</td>\n",
       "    </tr>\n",
       "    <tr>\n",
       "      <th>1460588635</th>\n",
       "      <td>10</td>\n",
       "      <td>2</td>\n",
       "      <td>8</td>\n",
       "      <td>18</td>\n",
       "      <td>1</td>\n",
       "      <td>12</td>\n",
       "      <td>17</td>\n",
       "      <td>28</td>\n",
       "      <td>2</td>\n",
       "      <td>0</td>\n",
       "      <td>...</td>\n",
       "      <td>1</td>\n",
       "      <td>0</td>\n",
       "      <td>26</td>\n",
       "      <td>4</td>\n",
       "      <td>20</td>\n",
       "      <td>0</td>\n",
       "      <td>9</td>\n",
       "      <td>0</td>\n",
       "      <td>0</td>\n",
       "      <td>2</td>\n",
       "    </tr>\n",
       "    <tr>\n",
       "      <th>1460588697</th>\n",
       "      <td>10</td>\n",
       "      <td>2</td>\n",
       "      <td>8</td>\n",
       "      <td>18</td>\n",
       "      <td>1</td>\n",
       "      <td>12</td>\n",
       "      <td>17</td>\n",
       "      <td>28</td>\n",
       "      <td>2</td>\n",
       "      <td>0</td>\n",
       "      <td>...</td>\n",
       "      <td>1</td>\n",
       "      <td>0</td>\n",
       "      <td>26</td>\n",
       "      <td>4</td>\n",
       "      <td>20</td>\n",
       "      <td>0</td>\n",
       "      <td>9</td>\n",
       "      <td>0</td>\n",
       "      <td>0</td>\n",
       "      <td>2</td>\n",
       "    </tr>\n",
       "    <tr>\n",
       "      <th>1460588758</th>\n",
       "      <td>10</td>\n",
       "      <td>2</td>\n",
       "      <td>8</td>\n",
       "      <td>18</td>\n",
       "      <td>1</td>\n",
       "      <td>12</td>\n",
       "      <td>17</td>\n",
       "      <td>28</td>\n",
       "      <td>3</td>\n",
       "      <td>0</td>\n",
       "      <td>...</td>\n",
       "      <td>1</td>\n",
       "      <td>0</td>\n",
       "      <td>26</td>\n",
       "      <td>4</td>\n",
       "      <td>20</td>\n",
       "      <td>0</td>\n",
       "      <td>9</td>\n",
       "      <td>0</td>\n",
       "      <td>0</td>\n",
       "      <td>2</td>\n",
       "    </tr>\n",
       "  </tbody>\n",
       "</table>\n",
       "<p>5 rows × 508 columns</p>\n",
       "</div>"
      ],
      "text/plain": [
       "                _72  _79  _82  _83  _116  _119  _120  _127  _128  _137  ...    \\\n",
       "execution_time                                                          ...     \n",
       "1460588512       10    2    8   18     0    12    17    26     2     0  ...     \n",
       "1460588573       10    2    8   18     1    12    17    28     2     0  ...     \n",
       "1460588635       10    2    8   18     1    12    17    28     2     0  ...     \n",
       "1460588697       10    2    8   18     1    12    17    28     2     0  ...     \n",
       "1460588758       10    2    8   18     1    12    17    28     3     0  ...     \n",
       "\n",
       "                _3236  _3237  _3238  _3241  _3242  _3243  _3244  _3246  _3248  \\\n",
       "execution_time                                                                  \n",
       "1460588512          1      0     26      4     20      0     11      0      0   \n",
       "1460588573          1      0     26      4     20      0     10      0      0   \n",
       "1460588635          1      0     26      4     20      0      9      0      0   \n",
       "1460588697          1      0     26      4     20      0      9      0      0   \n",
       "1460588758          1      0     26      4     20      0      9      0      0   \n",
       "\n",
       "                _3249  \n",
       "execution_time         \n",
       "1460588512          2  \n",
       "1460588573          2  \n",
       "1460588635          2  \n",
       "1460588697          2  \n",
       "1460588758          2  \n",
       "\n",
       "[5 rows x 508 columns]"
      ]
     },
     "execution_count": 10,
     "metadata": {},
     "output_type": "execute_result"
    }
   ],
   "source": [
    "df.head()"
   ]
  },
  {
   "cell_type": "code",
   "execution_count": 11,
   "metadata": {
    "collapsed": false
   },
   "outputs": [],
   "source": [
    "hour_change = collections.defaultdict(int)\n",
    "for col in df.columns:\n",
    "    station_vals = df[col].tolist()\n",
    "    station_id = col[1:] #trim the \"_\"\n",
    "    station_change = 0\n",
    "    for k,v in enumerate(station_vals):\n",
    "        if k < len(station_vals) - 1:\n",
    "            station_change += abs(station_vals[k] - station_vals[k+1])\n",
    "    hour_change[int(station_id)] = station_change #convert the station id back to integer"
   ]
  },
  {
   "cell_type": "code",
   "execution_count": 12,
   "metadata": {
    "collapsed": true
   },
   "outputs": [],
   "source": [
    "def keywithmaxval(d):\n",
    "    \"\"\"Find the key with the greatest value\"\"\"\n",
    "    return max(d, key=lambda k: d[k])\n",
    "\n",
    "# assign the max key to max_station\n",
    "max_station = keywithmaxval(hour_change)"
   ]
  },
  {
   "cell_type": "code",
   "execution_count": 18,
   "metadata": {
    "collapsed": false
   },
   "outputs": [
    {
     "name": "stdout",
     "output_type": "stream",
     "text": [
      "The most active station is station id 368 at Carmine St & 6 Ave latitude: 40.73038599 longitude: -74.00214988 \n",
      "With 14 bicycles coming and going in the hour between 2016-04-13T18:01:52 and 2016-04-13T19:03:51\n"
     ]
    }
   ],
   "source": [
    "conn = psycopg2.connect(\"dbname=getting_started user=postgres password=Gatsby\")\n",
    "\n",
    "with conn:\n",
    "#open the cursor\n",
    "\tcur = conn.cursor()\n",
    "\n",
    "#query sqlite for reference information\n",
    "cur.execute(\"SELECT id, stationname, latitude, longitude FROM citibike_reference WHERE id = %s\", (max_station,))\n",
    "data = cur.fetchone()\n",
    "print(\"The most active station is station id %s at %s latitude: %s longitude: %s \" % data)\n",
    "print(\"With %d bicycles coming and going in the hour between %s and %s\" % (\n",
    "    hour_change[max_station],\n",
    "    datetime.datetime.fromtimestamp(int(df.index[0])).strftime('%Y-%m-%dT%H:%M:%S'),\n",
    "    datetime.datetime.fromtimestamp(int(df.index[-1])).strftime('%Y-%m-%dT%H:%M:%S'),\n",
    "))"
   ]
  },
  {
   "cell_type": "code",
   "execution_count": 21,
   "metadata": {
    "collapsed": false
   },
   "outputs": [
    {
     "data": {
      "image/png": "[encoded data removed]",
      "text/plain": [
       "<matplotlib.figure.Figure at 0x9359080>"
      ]
     },
     "metadata": {},
     "output_type": "display_data"
    }
   ],
   "source": [
    "plt.bar(hour_change.keys(), hour_change.values())\n",
    "plt.show()"
   ]
  },
  {
   "cell_type": "code",
   "execution_count": null,
   "metadata": {
    "collapsed": true
   },
   "outputs": [],
   "source": []
  },
  {
   "cell_type": "code",
   "execution_count": null,
   "metadata": {
    "collapsed": true
   },
   "outputs": [],
   "source": []
  },
  {
   "cell_type": "code",
   "execution_count": null,
   "metadata": {
    "collapsed": true
   },
   "outputs": [],
   "source": []
  },
  {
   "cell_type": "code",
   "execution_count": null,
   "metadata": {
    "collapsed": true
   },
   "outputs": [],
   "source": []
  },
  {
   "cell_type": "code",
   "execution_count": null,
   "metadata": {
    "collapsed": true
   },
   "outputs": [],
   "source": []
  },
  {
   "cell_type": "code",
   "execution_count": null,
   "metadata": {
    "collapsed": true
   },
   "outputs": [],
   "source": []
  },
  {
   "cell_type": "code",
   "execution_count": null,
   "metadata": {
    "collapsed": true
   },
   "outputs": [],
   "source": []
  },
  {
   "cell_type": "code",
   "execution_count": null,
   "metadata": {
    "collapsed": true
   },
   "outputs": [],
   "source": []
  }
 ],
 "metadata": {
  "kernelspec": {
   "display_name": "Python 2",
   "language": "python",
   "name": "python2"
  },
  "language_info": {
   "codemirror_mode": {
    "name": "ipython",
    "version": 2
   },
   "file_extension": ".py",
   "mimetype": "text/x-python",
   "name": "python",
   "nbconvert_exporter": "python",
   "pygments_lexer": "ipython2",
   "version": "2.7.11"
  }
 },
 "nbformat": 4,
 "nbformat_minor": 0
}
