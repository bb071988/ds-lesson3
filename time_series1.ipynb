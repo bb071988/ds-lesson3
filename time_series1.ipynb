{
 "cells": [
  {
   "cell_type": "code",
   "execution_count": 18,
   "metadata": {
    "collapsed": true
   },
   "outputs": [],
   "source": [
    "%matplotlib inline"
   ]
  },
  {
   "cell_type": "code",
   "execution_count": 26,
   "metadata": {
    "collapsed": true
   },
   "outputs": [],
   "source": [
    "import ts1 as ts\n",
    "import pandas as pd\n",
    "import statsmodels.formula.api as smf\n",
    "import statsmodels"
   ]
  },
  {
   "cell_type": "code",
   "execution_count": 20,
   "metadata": {
    "collapsed": false
   },
   "outputs": [
    {
     "data": {
      "text/plain": [
       "<module 'ts1' from 'ts1.py'>"
      ]
     },
     "execution_count": 20,
     "metadata": {},
     "output_type": "execute_result"
    }
   ],
   "source": [
    "reload(ts)"
   ]
  },
  {
   "cell_type": "code",
   "execution_count": 21,
   "metadata": {
    "collapsed": false
   },
   "outputs": [],
   "source": [
    "df = ts.analyze_it()"
   ]
  },
  {
   "cell_type": "code",
   "execution_count": 22,
   "metadata": {
    "collapsed": false
   },
   "outputs": [
    {
     "data": {
      "text/html": [
       "<div>\n",
       "<table border=\"1\" class=\"dataframe\">\n",
       "  <thead>\n",
       "    <tr style=\"text-align: right;\">\n",
       "      <th></th>\n",
       "      <th>id</th>\n",
       "      <th>member_id</th>\n",
       "      <th>loan_amnt</th>\n",
       "      <th>funded_amnt</th>\n",
       "      <th>funded_amnt_inv</th>\n",
       "      <th>term</th>\n",
       "      <th>int_rate</th>\n",
       "      <th>installment</th>\n",
       "      <th>grade</th>\n",
       "      <th>sub_grade</th>\n",
       "      <th>...</th>\n",
       "      <th>num_tl_90g_dpd_24m</th>\n",
       "      <th>num_tl_op_past_12m</th>\n",
       "      <th>pct_tl_nvr_dlq</th>\n",
       "      <th>percent_bc_gt_75</th>\n",
       "      <th>pub_rec_bankruptcies</th>\n",
       "      <th>tax_liens</th>\n",
       "      <th>tot_hi_cred_lim</th>\n",
       "      <th>total_bal_ex_mort</th>\n",
       "      <th>total_bc_limit</th>\n",
       "      <th>total_il_high_credit_limit</th>\n",
       "    </tr>\n",
       "  </thead>\n",
       "  <tbody>\n",
       "    <tr>\n",
       "      <th>0</th>\n",
       "      <td>10179520</td>\n",
       "      <td>12031088</td>\n",
       "      <td>3000</td>\n",
       "      <td>3000</td>\n",
       "      <td>3000</td>\n",
       "      <td>36 months</td>\n",
       "      <td>12.85%</td>\n",
       "      <td>100.87</td>\n",
       "      <td>B</td>\n",
       "      <td>B4</td>\n",
       "      <td>...</td>\n",
       "      <td>0</td>\n",
       "      <td>1</td>\n",
       "      <td>91.3</td>\n",
       "      <td>66.7</td>\n",
       "      <td>2</td>\n",
       "      <td>0</td>\n",
       "      <td>32082</td>\n",
       "      <td>19530</td>\n",
       "      <td>4300</td>\n",
       "      <td>26782</td>\n",
       "    </tr>\n",
       "    <tr>\n",
       "      <th>1</th>\n",
       "      <td>10129403</td>\n",
       "      <td>11981032</td>\n",
       "      <td>7550</td>\n",
       "      <td>7550</td>\n",
       "      <td>7550</td>\n",
       "      <td>36 months</td>\n",
       "      <td>16.24%</td>\n",
       "      <td>266.34</td>\n",
       "      <td>C</td>\n",
       "      <td>C5</td>\n",
       "      <td>...</td>\n",
       "      <td>0</td>\n",
       "      <td>0</td>\n",
       "      <td>100.0</td>\n",
       "      <td>100.0</td>\n",
       "      <td>0</td>\n",
       "      <td>0</td>\n",
       "      <td>8000</td>\n",
       "      <td>5759</td>\n",
       "      <td>4000</td>\n",
       "      <td>0</td>\n",
       "    </tr>\n",
       "    <tr>\n",
       "      <th>2</th>\n",
       "      <td>10129506</td>\n",
       "      <td>11981122</td>\n",
       "      <td>20800</td>\n",
       "      <td>20800</td>\n",
       "      <td>20800</td>\n",
       "      <td>36 months</td>\n",
       "      <td>13.53%</td>\n",
       "      <td>706.16</td>\n",
       "      <td>B</td>\n",
       "      <td>B5</td>\n",
       "      <td>...</td>\n",
       "      <td>0</td>\n",
       "      <td>3</td>\n",
       "      <td>90.2</td>\n",
       "      <td>50.0</td>\n",
       "      <td>0</td>\n",
       "      <td>0</td>\n",
       "      <td>43100</td>\n",
       "      <td>23473</td>\n",
       "      <td>15000</td>\n",
       "      <td>0</td>\n",
       "    </tr>\n",
       "    <tr>\n",
       "      <th>3</th>\n",
       "      <td>10159548</td>\n",
       "      <td>12011167</td>\n",
       "      <td>15000</td>\n",
       "      <td>15000</td>\n",
       "      <td>15000</td>\n",
       "      <td>36 months</td>\n",
       "      <td>8.90%</td>\n",
       "      <td>476.30</td>\n",
       "      <td>A</td>\n",
       "      <td>A5</td>\n",
       "      <td>...</td>\n",
       "      <td>0</td>\n",
       "      <td>0</td>\n",
       "      <td>89.3</td>\n",
       "      <td>66.7</td>\n",
       "      <td>0</td>\n",
       "      <td>0</td>\n",
       "      <td>288195</td>\n",
       "      <td>39448</td>\n",
       "      <td>14200</td>\n",
       "      <td>33895</td>\n",
       "    </tr>\n",
       "    <tr>\n",
       "      <th>4</th>\n",
       "      <td>10159584</td>\n",
       "      <td>12011200</td>\n",
       "      <td>9750</td>\n",
       "      <td>9750</td>\n",
       "      <td>9750</td>\n",
       "      <td>36 months</td>\n",
       "      <td>13.98%</td>\n",
       "      <td>333.14</td>\n",
       "      <td>C</td>\n",
       "      <td>C1</td>\n",
       "      <td>...</td>\n",
       "      <td>0</td>\n",
       "      <td>2</td>\n",
       "      <td>100.0</td>\n",
       "      <td>66.7</td>\n",
       "      <td>0</td>\n",
       "      <td>0</td>\n",
       "      <td>21314</td>\n",
       "      <td>14123</td>\n",
       "      <td>7200</td>\n",
       "      <td>6214</td>\n",
       "    </tr>\n",
       "  </tbody>\n",
       "</table>\n",
       "<p>5 rows × 111 columns</p>\n",
       "</div>"
      ],
      "text/plain": [
       "         id  member_id  loan_amnt  funded_amnt  funded_amnt_inv        term  \\\n",
       "0  10179520   12031088       3000         3000             3000   36 months   \n",
       "1  10129403   11981032       7550         7550             7550   36 months   \n",
       "2  10129506   11981122      20800        20800            20800   36 months   \n",
       "3  10159548   12011167      15000        15000            15000   36 months   \n",
       "4  10159584   12011200       9750         9750             9750   36 months   \n",
       "\n",
       "  int_rate  installment grade sub_grade            ...              \\\n",
       "0   12.85%       100.87     B        B4            ...               \n",
       "1   16.24%       266.34     C        C5            ...               \n",
       "2   13.53%       706.16     B        B5            ...               \n",
       "3    8.90%       476.30     A        A5            ...               \n",
       "4   13.98%       333.14     C        C1            ...               \n",
       "\n",
       "  num_tl_90g_dpd_24m num_tl_op_past_12m pct_tl_nvr_dlq  percent_bc_gt_75  \\\n",
       "0                  0                  1           91.3              66.7   \n",
       "1                  0                  0          100.0             100.0   \n",
       "2                  0                  3           90.2              50.0   \n",
       "3                  0                  0           89.3              66.7   \n",
       "4                  0                  2          100.0              66.7   \n",
       "\n",
       "  pub_rec_bankruptcies tax_liens tot_hi_cred_lim total_bal_ex_mort  \\\n",
       "0                    2         0           32082             19530   \n",
       "1                    0         0            8000              5759   \n",
       "2                    0         0           43100             23473   \n",
       "3                    0         0          288195             39448   \n",
       "4                    0         0           21314             14123   \n",
       "\n",
       "  total_bc_limit total_il_high_credit_limit  \n",
       "0           4300                      26782  \n",
       "1           4000                          0  \n",
       "2          15000                          0  \n",
       "3          14200                      33895  \n",
       "4           7200                       6214  \n",
       "\n",
       "[5 rows x 111 columns]"
      ]
     },
     "execution_count": 22,
     "metadata": {},
     "output_type": "execute_result"
    }
   ],
   "source": [
    "df.head()"
   ]
  },
  {
   "cell_type": "code",
   "execution_count": 23,
   "metadata": {
    "collapsed": true
   },
   "outputs": [],
   "source": [
    "# converts string to datetime object in pandas:\n",
    "df['issue_d_format'] = pd.to_datetime(df['issue_d']) \n",
    "dfts = df.set_index('issue_d_format') \n",
    "year_month_summary = dfts.groupby(lambda x : x.year * 100 + x.month).count()\n",
    "loan_count_summary = year_month_summary['issue_d']"
   ]
  },
  {
   "cell_type": "code",
   "execution_count": 24,
   "metadata": {
    "collapsed": true
   },
   "outputs": [],
   "source": [
    "#plot the loan_count_summary in from the previous assignment)"
   ]
  },
  {
   "cell_type": "code",
   "execution_count": 27,
   "metadata": {
    "collapsed": false
   },
   "outputs": [
    {
     "ename": "TypeError",
     "evalue": "plot_acf() takes at least 1 argument (0 given)",
     "output_type": "error",
     "traceback": [
      "\u001b[1;31m---------------------------------------------------------------------------\u001b[0m",
      "\u001b[1;31mTypeError\u001b[0m                                 Traceback (most recent call last)",
      "\u001b[1;32m<ipython-input-27-345540624cde>\u001b[0m in \u001b[0;36m<module>\u001b[1;34m()\u001b[0m\n\u001b[1;32m----> 1\u001b[1;33m \u001b[0mstatsmodels\u001b[0m\u001b[1;33m.\u001b[0m\u001b[0mapi\u001b[0m\u001b[1;33m.\u001b[0m\u001b[0mgraphics\u001b[0m\u001b[1;33m.\u001b[0m\u001b[0mtsa\u001b[0m\u001b[1;33m.\u001b[0m\u001b[0mplot_acf\u001b[0m\u001b[1;33m(\u001b[0m\u001b[1;33m)\u001b[0m\u001b[1;33m\u001b[0m\u001b[0m\n\u001b[0m",
      "\u001b[1;31mTypeError\u001b[0m: plot_acf() takes at least 1 argument (0 given)"
     ]
    }
   ],
   "source": [
    "statsmodels.api.graphics.tsa.plot_acf()"
   ]
  },
  {
   "cell_type": "code",
   "execution_count": null,
   "metadata": {
    "collapsed": true
   },
   "outputs": [],
   "source": []
  }
 ],
 "metadata": {
  "kernelspec": {
   "display_name": "Python 2",
   "language": "python",
   "name": "python2"
  },
  "language_info": {
   "codemirror_mode": {
    "name": "ipython",
    "version": 2
   },
   "file_extension": ".py",
   "mimetype": "text/x-python",
   "name": "python",
   "nbconvert_exporter": "python",
   "pygments_lexer": "ipython2",
   "version": "2.7.11"
  }
 },
 "nbformat": 4,
 "nbformat_minor": 0
}
