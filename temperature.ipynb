{
 "cells": [
  {
   "cell_type": "code",
   "execution_count": 1,
   "metadata": {
    "collapsed": true
   },
   "outputs": [],
   "source": [
    "%matplotlib inline"
   ]
  },
  {
   "cell_type": "code",
   "execution_count": 2,
   "metadata": {
    "collapsed": true
   },
   "outputs": [],
   "source": [
    "import datetime\n",
    "import requests as req\n",
    "import psycopg2\n",
    "import matplotlib.pyplot as plt"
   ]
  },
  {
   "cell_type": "code",
   "execution_count": null,
   "metadata": {
    "collapsed": true
   },
   "outputs": [],
   "source": []
  },
  {
   "cell_type": "code",
   "execution_count": 3,
   "metadata": {
    "collapsed": false
   },
   "outputs": [],
   "source": [
    "cities = { \"Atlanta\": '33.762909,-84.422675',\n",
    "        \"Austin\": '30.303936,-97.754355',\n",
    "        \"Boston\": '42.331960,-71.020173',\n",
    "        \"Chicago\": '41.837551,-87.681844',\n",
    "        \"Cleveland\": '41.478462,-81.679435'\n",
    "    }\n",
    "\n",
    "# Connect to an existing database\n",
    "conn = psycopg2.connect(\"dbname=getting_started user=postgres password=Gatsby\")\n",
    "\n",
    "with conn:\n",
    "#open the cursor\n",
    "    cur = conn.cursor()\n",
    "\n",
    "# set up the tables.\n",
    "    cur.execute(\"DROP TABLE IF EXISTS weatherapi\")\n",
    "\n",
    "# CHANGED TO TEXT TYPE TO ELIMINATE INPUT ERRORS\n",
    "\n",
    "    cur.execute(\"CREATE TABLE weatherapi (id serial, \\\n",
    "    entry_date text, \\\n",
    "    utime int, \\\n",
    "    city TEXT, \\\n",
    "    maxtemp float NOT NULL DEFAULT 0);\")\n",
    "\n",
    "# Connect to an existing database\n",
    "conn = psycopg2.connect(\"dbname=getting_started user=postgres password=Gatsby\")\n",
    "\n",
    "with conn:\n",
    "#open the cursor\n",
    "    cur = conn.cursor()\n",
    "\n",
    "# start_date = datetime.datetime.now() - datetime.timedelta(days=30)\n",
    "    exec_time = datetime.datetime.now()\n",
    "    # s =(timenow - datetime.datetime(1970,1,1)).total_seconds()\n",
    "    sql = \"insert into weatherapi (utime, entry_date, maxtemp, city) values(%s, %s, %s, %s)\"\n",
    "\n",
    "    for days in range(30):\n",
    "        get_date = (exec_time - datetime.timedelta(days=days))\n",
    "        s =(get_date - datetime.datetime(1970,1,1)).total_seconds()\n",
    "        entry_date = get_date.strftime('%Y-%m-%d')\n",
    "        \n",
    "    #     print get_date\n",
    "        for key in cities:\n",
    "            lat = cities[key].split(',')[0]\n",
    "            longi = cities[key].split(',')[1]\n",
    "            s=int(s)\n",
    "#             print days, key, lat, longi, s\n",
    "            reqstring = \"https://api.forecast.io/forecast/c99c5091c3a50bda392fb7850c54b4ef/\" +str(lat) + ',' + str(longi) + ',' +str(s)\n",
    "#             print reqstring\n",
    "\n",
    "            r = req.get(reqstring)\n",
    "    #         print r\n",
    "\n",
    "            maxtemp = r.json()['daily']['data'][0]['apparentTemperatureMax']\n",
    "#             print maxtemp\n",
    "\n",
    "            cur.execute(sql , (s, entry_date, maxtemp, key))\n",
    "        \n",
    "\n",
    "\n"
   ]
  },
  {
   "cell_type": "code",
   "execution_count": 4,
   "metadata": {
    "collapsed": false
   },
   "outputs": [],
   "source": [
    "import pandas as pd\n",
    "# Connect to an existing database\n",
    "conn = psycopg2.connect(\"dbname=getting_started user=postgres password=Gatsby\")\n",
    "\n",
    "with conn:\n",
    "#open the cursor\n",
    "    cur = conn.cursor()\n",
    "    df = pd.read_sql_query(\"SELECT * FROM weatherapi ORDER BY entry_date, city\",conn,index_col='entry_date')"
   ]
  },
  {
   "cell_type": "code",
   "execution_count": 5,
   "metadata": {
    "collapsed": false
   },
   "outputs": [
    {
     "data": {
      "text/html": [
       "<div>\n",
       "<table border=\"1\" class=\"dataframe\">\n",
       "  <thead>\n",
       "    <tr style=\"text-align: right;\">\n",
       "      <th></th>\n",
       "      <th>id</th>\n",
       "      <th>utime</th>\n",
       "      <th>city</th>\n",
       "      <th>maxtemp</th>\n",
       "    </tr>\n",
       "    <tr>\n",
       "      <th>entry_date</th>\n",
       "      <th></th>\n",
       "      <th></th>\n",
       "      <th></th>\n",
       "      <th></th>\n",
       "    </tr>\n",
       "  </thead>\n",
       "  <tbody>\n",
       "    <tr>\n",
       "      <th>2016-03-24</th>\n",
       "      <td>147</td>\n",
       "      <td>1458823336</td>\n",
       "      <td>Atlanta</td>\n",
       "      <td>73.41</td>\n",
       "    </tr>\n",
       "    <tr>\n",
       "      <th>2016-03-24</th>\n",
       "      <td>149</td>\n",
       "      <td>1458823336</td>\n",
       "      <td>Austin</td>\n",
       "      <td>69.30</td>\n",
       "    </tr>\n",
       "    <tr>\n",
       "      <th>2016-03-24</th>\n",
       "      <td>146</td>\n",
       "      <td>1458823336</td>\n",
       "      <td>Boston</td>\n",
       "      <td>40.30</td>\n",
       "    </tr>\n",
       "    <tr>\n",
       "      <th>2016-03-24</th>\n",
       "      <td>150</td>\n",
       "      <td>1458823336</td>\n",
       "      <td>Chicago</td>\n",
       "      <td>35.16</td>\n",
       "    </tr>\n",
       "    <tr>\n",
       "      <th>2016-03-24</th>\n",
       "      <td>148</td>\n",
       "      <td>1458823336</td>\n",
       "      <td>Cleveland</td>\n",
       "      <td>71.92</td>\n",
       "    </tr>\n",
       "  </tbody>\n",
       "</table>\n",
       "</div>"
      ],
      "text/plain": [
       "             id       utime       city  maxtemp\n",
       "entry_date                                     \n",
       "2016-03-24  147  1458823336    Atlanta    73.41\n",
       "2016-03-24  149  1458823336     Austin    69.30\n",
       "2016-03-24  146  1458823336     Boston    40.30\n",
       "2016-03-24  150  1458823336    Chicago    35.16\n",
       "2016-03-24  148  1458823336  Cleveland    71.92"
      ]
     },
     "execution_count": 5,
     "metadata": {},
     "output_type": "execute_result"
    }
   ],
   "source": [
    "df.head()"
   ]
  },
  {
   "cell_type": "code",
   "execution_count": 6,
   "metadata": {
    "collapsed": false
   },
   "outputs": [
    {
     "data": {
      "text/plain": [
       "1460076136.0"
      ]
     },
     "execution_count": 6,
     "metadata": {},
     "output_type": "execute_result"
    }
   ],
   "source": [
    "df['utime'].mean()"
   ]
  },
  {
   "cell_type": "code",
   "execution_count": 7,
   "metadata": {
    "collapsed": false
   },
   "outputs": [
    {
     "data": {
      "text/plain": [
       "59.73513333333335"
      ]
     },
     "execution_count": 7,
     "metadata": {},
     "output_type": "execute_result"
    }
   ],
   "source": [
    "df['maxtemp'].mean()"
   ]
  },
  {
   "cell_type": "code",
   "execution_count": 25,
   "metadata": {
    "collapsed": false
   },
   "outputs": [
    {
     "name": "stdout",
     "output_type": "stream",
     "text": [
      "Boston\n",
      "Mean 48.6446666667\n",
      "Min 18.83\n",
      "Max 72.04\n",
      "Var 163.227798161\n",
      "temperature difference 53.21\n",
      "**********************\n",
      "Atlanta\n",
      "Mean 69.9213333333\n",
      "Min 59.51\n",
      "Max 81.22\n",
      "Var 32.6713567816\n",
      "temperature difference 21.71\n",
      "**********************\n",
      "Cleveland\n",
      "Mean 53.392\n",
      "Min 25.36\n",
      "Max 73.37\n",
      "Var 217.605892414\n",
      "temperature difference 48.01\n",
      "**********************\n",
      "Austin\n",
      "Mean 76.031\n",
      "Min 66.55\n",
      "Max 88.79\n",
      "Var 23.3660989655\n",
      "temperature difference 22.24\n",
      "**********************\n",
      "Chicago\n",
      "Mean 50.6866666667\n",
      "Min 28.42\n",
      "Max 74.41\n",
      "Var 192.389354023\n",
      "temperature difference 45.99\n",
      "**********************\n"
     ]
    }
   ],
   "source": [
    "# get the mean for each city\n",
    "for key in cities:\n",
    "    print(key)\n",
    "    maxtemp = df[df['city'] == key]['maxtemp'].max()\n",
    "    mintemp = df[df['city'] == key]['maxtemp'].min()\n",
    "    print(\"Mean {}\".format(df[df['city'] == key]['maxtemp'].mean()))\n",
    "    print(\"Min {}\".format(df[df['city'] == key]['maxtemp'].min()))\n",
    "    print(\"Max {}\".format(df[df['city'] == key]['maxtemp'].max()))\n",
    "    print(\"Var {}\".format(df[df['city'] == key]['maxtemp'].var()))\n",
    "    print(\"temperature difference {}\".format(maxtemp - mintemp))\n",
    "    \n",
    "    \n",
    "    print(\"**********************\")\n",
    "#     print(df[df['city'] == key]['maxtemp'].describe())\n",
    "\n",
    "# range of temps for each city - below\n",
    "# Boston is biggest temp swing at 53.21 degrees\n",
    "    \n",
    "    "
   ]
  },
  {
   "cell_type": "code",
   "execution_count": 18,
   "metadata": {
    "collapsed": false
   },
   "outputs": [
    {
     "ename": "ValueError",
     "evalue": "invalid literal for float(): 2016-04-22",
     "output_type": "error",
     "traceback": [
      "\u001b[1;31m---------------------------------------------------------------------------\u001b[0m",
      "\u001b[1;31mValueError\u001b[0m                                Traceback (most recent call last)",
      "\u001b[1;32m<ipython-input-18-8a63ecfddf4f>\u001b[0m in \u001b[0;36m<module>\u001b[1;34m()\u001b[0m\n\u001b[0;32m      6\u001b[0m \u001b[1;31m# ax.set_ylabel(\"Interest rate\",fontsize=12)\u001b[0m\u001b[1;33m\u001b[0m\u001b[1;33m\u001b[0m\u001b[0m\n\u001b[0;32m      7\u001b[0m \u001b[1;33m\u001b[0m\u001b[0m\n\u001b[1;32m----> 8\u001b[1;33m \u001b[0mplt\u001b[0m\u001b[1;33m.\u001b[0m\u001b[0mplot\u001b[0m\u001b[1;33m(\u001b[0m\u001b[0mdf\u001b[0m\u001b[1;33m.\u001b[0m\u001b[0mindex\u001b[0m\u001b[1;33m.\u001b[0m\u001b[0mvalues\u001b[0m\u001b[1;33m,\u001b[0m \u001b[0mdf\u001b[0m\u001b[1;33m[\u001b[0m\u001b[1;34m'maxtemp'\u001b[0m\u001b[1;33m]\u001b[0m\u001b[1;33m)\u001b[0m\u001b[1;33m\u001b[0m\u001b[0m\n\u001b[0m\u001b[0;32m      9\u001b[0m \u001b[1;33m\u001b[0m\u001b[0m\n\u001b[0;32m     10\u001b[0m \u001b[1;31m# plt.scatter(df[df['city']=='Chicago'],df['entry_date'], c='red')\u001b[0m\u001b[1;33m\u001b[0m\u001b[1;33m\u001b[0m\u001b[0m\n",
      "\u001b[1;32mC:\\Users\\bob071988\\Anaconda2\\lib\\site-packages\\matplotlib\\pyplot.pyc\u001b[0m in \u001b[0;36mplot\u001b[1;34m(*args, **kwargs)\u001b[0m\n\u001b[0;32m   3152\u001b[0m         \u001b[0max\u001b[0m\u001b[1;33m.\u001b[0m\u001b[0mhold\u001b[0m\u001b[1;33m(\u001b[0m\u001b[0mhold\u001b[0m\u001b[1;33m)\u001b[0m\u001b[1;33m\u001b[0m\u001b[0m\n\u001b[0;32m   3153\u001b[0m     \u001b[1;32mtry\u001b[0m\u001b[1;33m:\u001b[0m\u001b[1;33m\u001b[0m\u001b[0m\n\u001b[1;32m-> 3154\u001b[1;33m         \u001b[0mret\u001b[0m \u001b[1;33m=\u001b[0m \u001b[0max\u001b[0m\u001b[1;33m.\u001b[0m\u001b[0mplot\u001b[0m\u001b[1;33m(\u001b[0m\u001b[1;33m*\u001b[0m\u001b[0margs\u001b[0m\u001b[1;33m,\u001b[0m \u001b[1;33m**\u001b[0m\u001b[0mkwargs\u001b[0m\u001b[1;33m)\u001b[0m\u001b[1;33m\u001b[0m\u001b[0m\n\u001b[0m\u001b[0;32m   3155\u001b[0m     \u001b[1;32mfinally\u001b[0m\u001b[1;33m:\u001b[0m\u001b[1;33m\u001b[0m\u001b[0m\n\u001b[0;32m   3156\u001b[0m         \u001b[0max\u001b[0m\u001b[1;33m.\u001b[0m\u001b[0mhold\u001b[0m\u001b[1;33m(\u001b[0m\u001b[0mwashold\u001b[0m\u001b[1;33m)\u001b[0m\u001b[1;33m\u001b[0m\u001b[0m\n",
      "\u001b[1;32mC:\\Users\\bob071988\\Anaconda2\\lib\\site-packages\\matplotlib\\__init__.pyc\u001b[0m in \u001b[0;36minner\u001b[1;34m(ax, *args, **kwargs)\u001b[0m\n\u001b[0;32m   1808\u001b[0m                     warnings.warn(msg % (label_namer, func.__name__),\n\u001b[0;32m   1809\u001b[0m                                   RuntimeWarning, stacklevel=2)\n\u001b[1;32m-> 1810\u001b[1;33m             \u001b[1;32mreturn\u001b[0m \u001b[0mfunc\u001b[0m\u001b[1;33m(\u001b[0m\u001b[0max\u001b[0m\u001b[1;33m,\u001b[0m \u001b[1;33m*\u001b[0m\u001b[0margs\u001b[0m\u001b[1;33m,\u001b[0m \u001b[1;33m**\u001b[0m\u001b[0mkwargs\u001b[0m\u001b[1;33m)\u001b[0m\u001b[1;33m\u001b[0m\u001b[0m\n\u001b[0m\u001b[0;32m   1811\u001b[0m         \u001b[0mpre_doc\u001b[0m \u001b[1;33m=\u001b[0m \u001b[0minner\u001b[0m\u001b[1;33m.\u001b[0m\u001b[0m__doc__\u001b[0m\u001b[1;33m\u001b[0m\u001b[0m\n\u001b[0;32m   1812\u001b[0m         \u001b[1;32mif\u001b[0m \u001b[0mpre_doc\u001b[0m \u001b[1;32mis\u001b[0m \u001b[0mNone\u001b[0m\u001b[1;33m:\u001b[0m\u001b[1;33m\u001b[0m\u001b[0m\n",
      "\u001b[1;32mC:\\Users\\bob071988\\Anaconda2\\lib\\site-packages\\matplotlib\\axes\\_axes.pyc\u001b[0m in \u001b[0;36mplot\u001b[1;34m(self, *args, **kwargs)\u001b[0m\n\u001b[0;32m   1426\u001b[0m \u001b[1;33m\u001b[0m\u001b[0m\n\u001b[0;32m   1427\u001b[0m         \u001b[1;32mfor\u001b[0m \u001b[0mline\u001b[0m \u001b[1;32min\u001b[0m \u001b[0mself\u001b[0m\u001b[1;33m.\u001b[0m\u001b[0m_get_lines\u001b[0m\u001b[1;33m(\u001b[0m\u001b[1;33m*\u001b[0m\u001b[0margs\u001b[0m\u001b[1;33m,\u001b[0m \u001b[1;33m**\u001b[0m\u001b[0mkwargs\u001b[0m\u001b[1;33m)\u001b[0m\u001b[1;33m:\u001b[0m\u001b[1;33m\u001b[0m\u001b[0m\n\u001b[1;32m-> 1428\u001b[1;33m             \u001b[0mself\u001b[0m\u001b[1;33m.\u001b[0m\u001b[0madd_line\u001b[0m\u001b[1;33m(\u001b[0m\u001b[0mline\u001b[0m\u001b[1;33m)\u001b[0m\u001b[1;33m\u001b[0m\u001b[0m\n\u001b[0m\u001b[0;32m   1429\u001b[0m             \u001b[0mlines\u001b[0m\u001b[1;33m.\u001b[0m\u001b[0mappend\u001b[0m\u001b[1;33m(\u001b[0m\u001b[0mline\u001b[0m\u001b[1;33m)\u001b[0m\u001b[1;33m\u001b[0m\u001b[0m\n\u001b[0;32m   1430\u001b[0m \u001b[1;33m\u001b[0m\u001b[0m\n",
      "\u001b[1;32mC:\\Users\\bob071988\\Anaconda2\\lib\\site-packages\\matplotlib\\axes\\_base.pyc\u001b[0m in \u001b[0;36madd_line\u001b[1;34m(self, line)\u001b[0m\n\u001b[0;32m   1697\u001b[0m             \u001b[0mline\u001b[0m\u001b[1;33m.\u001b[0m\u001b[0mset_clip_path\u001b[0m\u001b[1;33m(\u001b[0m\u001b[0mself\u001b[0m\u001b[1;33m.\u001b[0m\u001b[0mpatch\u001b[0m\u001b[1;33m)\u001b[0m\u001b[1;33m\u001b[0m\u001b[0m\n\u001b[0;32m   1698\u001b[0m \u001b[1;33m\u001b[0m\u001b[0m\n\u001b[1;32m-> 1699\u001b[1;33m         \u001b[0mself\u001b[0m\u001b[1;33m.\u001b[0m\u001b[0m_update_line_limits\u001b[0m\u001b[1;33m(\u001b[0m\u001b[0mline\u001b[0m\u001b[1;33m)\u001b[0m\u001b[1;33m\u001b[0m\u001b[0m\n\u001b[0m\u001b[0;32m   1700\u001b[0m         \u001b[1;32mif\u001b[0m \u001b[1;32mnot\u001b[0m \u001b[0mline\u001b[0m\u001b[1;33m.\u001b[0m\u001b[0mget_label\u001b[0m\u001b[1;33m(\u001b[0m\u001b[1;33m)\u001b[0m\u001b[1;33m:\u001b[0m\u001b[1;33m\u001b[0m\u001b[0m\n\u001b[0;32m   1701\u001b[0m             \u001b[0mline\u001b[0m\u001b[1;33m.\u001b[0m\u001b[0mset_label\u001b[0m\u001b[1;33m(\u001b[0m\u001b[1;34m'_line%d'\u001b[0m \u001b[1;33m%\u001b[0m \u001b[0mlen\u001b[0m\u001b[1;33m(\u001b[0m\u001b[0mself\u001b[0m\u001b[1;33m.\u001b[0m\u001b[0mlines\u001b[0m\u001b[1;33m)\u001b[0m\u001b[1;33m)\u001b[0m\u001b[1;33m\u001b[0m\u001b[0m\n",
      "\u001b[1;32mC:\\Users\\bob071988\\Anaconda2\\lib\\site-packages\\matplotlib\\axes\\_base.pyc\u001b[0m in \u001b[0;36m_update_line_limits\u001b[1;34m(self, line)\u001b[0m\n\u001b[0;32m   1708\u001b[0m         \u001b[0mFigures\u001b[0m \u001b[0mout\u001b[0m \u001b[0mthe\u001b[0m \u001b[0mdata\u001b[0m \u001b[0mlimit\u001b[0m \u001b[0mof\u001b[0m \u001b[0mthe\u001b[0m \u001b[0mgiven\u001b[0m \u001b[0mline\u001b[0m\u001b[1;33m,\u001b[0m \u001b[0mupdating\u001b[0m \u001b[0mself\u001b[0m\u001b[1;33m.\u001b[0m\u001b[0mdataLim\u001b[0m\u001b[1;33m.\u001b[0m\u001b[1;33m\u001b[0m\u001b[0m\n\u001b[0;32m   1709\u001b[0m         \"\"\"\n\u001b[1;32m-> 1710\u001b[1;33m         \u001b[0mpath\u001b[0m \u001b[1;33m=\u001b[0m \u001b[0mline\u001b[0m\u001b[1;33m.\u001b[0m\u001b[0mget_path\u001b[0m\u001b[1;33m(\u001b[0m\u001b[1;33m)\u001b[0m\u001b[1;33m\u001b[0m\u001b[0m\n\u001b[0m\u001b[0;32m   1711\u001b[0m         \u001b[1;32mif\u001b[0m \u001b[0mpath\u001b[0m\u001b[1;33m.\u001b[0m\u001b[0mvertices\u001b[0m\u001b[1;33m.\u001b[0m\u001b[0msize\u001b[0m \u001b[1;33m==\u001b[0m \u001b[1;36m0\u001b[0m\u001b[1;33m:\u001b[0m\u001b[1;33m\u001b[0m\u001b[0m\n\u001b[0;32m   1712\u001b[0m             \u001b[1;32mreturn\u001b[0m\u001b[1;33m\u001b[0m\u001b[0m\n",
      "\u001b[1;32mC:\\Users\\bob071988\\Anaconda2\\lib\\site-packages\\matplotlib\\lines.pyc\u001b[0m in \u001b[0;36mget_path\u001b[1;34m(self)\u001b[0m\n\u001b[0;32m    924\u001b[0m         \"\"\"\n\u001b[0;32m    925\u001b[0m         \u001b[1;32mif\u001b[0m \u001b[0mself\u001b[0m\u001b[1;33m.\u001b[0m\u001b[0m_invalidy\u001b[0m \u001b[1;32mor\u001b[0m \u001b[0mself\u001b[0m\u001b[1;33m.\u001b[0m\u001b[0m_invalidx\u001b[0m\u001b[1;33m:\u001b[0m\u001b[1;33m\u001b[0m\u001b[0m\n\u001b[1;32m--> 926\u001b[1;33m             \u001b[0mself\u001b[0m\u001b[1;33m.\u001b[0m\u001b[0mrecache\u001b[0m\u001b[1;33m(\u001b[0m\u001b[1;33m)\u001b[0m\u001b[1;33m\u001b[0m\u001b[0m\n\u001b[0m\u001b[0;32m    927\u001b[0m         \u001b[1;32mreturn\u001b[0m \u001b[0mself\u001b[0m\u001b[1;33m.\u001b[0m\u001b[0m_path\u001b[0m\u001b[1;33m\u001b[0m\u001b[0m\n\u001b[0;32m    928\u001b[0m \u001b[1;33m\u001b[0m\u001b[0m\n",
      "\u001b[1;32mC:\\Users\\bob071988\\Anaconda2\\lib\\site-packages\\matplotlib\\lines.pyc\u001b[0m in \u001b[0;36mrecache\u001b[1;34m(self, always)\u001b[0m\n\u001b[0;32m    609\u001b[0m                 \u001b[0mx\u001b[0m \u001b[1;33m=\u001b[0m \u001b[0mma\u001b[0m\u001b[1;33m.\u001b[0m\u001b[0masarray\u001b[0m\u001b[1;33m(\u001b[0m\u001b[0mxconv\u001b[0m\u001b[1;33m,\u001b[0m \u001b[0mnp\u001b[0m\u001b[1;33m.\u001b[0m\u001b[0mfloat_\u001b[0m\u001b[1;33m)\u001b[0m\u001b[1;33m.\u001b[0m\u001b[0mfilled\u001b[0m\u001b[1;33m(\u001b[0m\u001b[0mnp\u001b[0m\u001b[1;33m.\u001b[0m\u001b[0mnan\u001b[0m\u001b[1;33m)\u001b[0m\u001b[1;33m\u001b[0m\u001b[0m\n\u001b[0;32m    610\u001b[0m             \u001b[1;32melse\u001b[0m\u001b[1;33m:\u001b[0m\u001b[1;33m\u001b[0m\u001b[0m\n\u001b[1;32m--> 611\u001b[1;33m                 \u001b[0mx\u001b[0m \u001b[1;33m=\u001b[0m \u001b[0mnp\u001b[0m\u001b[1;33m.\u001b[0m\u001b[0masarray\u001b[0m\u001b[1;33m(\u001b[0m\u001b[0mxconv\u001b[0m\u001b[1;33m,\u001b[0m \u001b[0mnp\u001b[0m\u001b[1;33m.\u001b[0m\u001b[0mfloat_\u001b[0m\u001b[1;33m)\u001b[0m\u001b[1;33m\u001b[0m\u001b[0m\n\u001b[0m\u001b[0;32m    612\u001b[0m             \u001b[0mx\u001b[0m \u001b[1;33m=\u001b[0m \u001b[0mx\u001b[0m\u001b[1;33m.\u001b[0m\u001b[0mravel\u001b[0m\u001b[1;33m(\u001b[0m\u001b[1;33m)\u001b[0m\u001b[1;33m\u001b[0m\u001b[0m\n\u001b[0;32m    613\u001b[0m         \u001b[1;32melse\u001b[0m\u001b[1;33m:\u001b[0m\u001b[1;33m\u001b[0m\u001b[0m\n",
      "\u001b[1;32mC:\\Users\\bob071988\\Anaconda2\\lib\\site-packages\\numpy\\core\\numeric.pyc\u001b[0m in \u001b[0;36masarray\u001b[1;34m(a, dtype, order)\u001b[0m\n\u001b[0;32m    472\u001b[0m \u001b[1;33m\u001b[0m\u001b[0m\n\u001b[0;32m    473\u001b[0m     \"\"\"\n\u001b[1;32m--> 474\u001b[1;33m     \u001b[1;32mreturn\u001b[0m \u001b[0marray\u001b[0m\u001b[1;33m(\u001b[0m\u001b[0ma\u001b[0m\u001b[1;33m,\u001b[0m \u001b[0mdtype\u001b[0m\u001b[1;33m,\u001b[0m \u001b[0mcopy\u001b[0m\u001b[1;33m=\u001b[0m\u001b[0mFalse\u001b[0m\u001b[1;33m,\u001b[0m \u001b[0morder\u001b[0m\u001b[1;33m=\u001b[0m\u001b[0morder\u001b[0m\u001b[1;33m)\u001b[0m\u001b[1;33m\u001b[0m\u001b[0m\n\u001b[0m\u001b[0;32m    475\u001b[0m \u001b[1;33m\u001b[0m\u001b[0m\n\u001b[0;32m    476\u001b[0m \u001b[1;32mdef\u001b[0m \u001b[0masanyarray\u001b[0m\u001b[1;33m(\u001b[0m\u001b[0ma\u001b[0m\u001b[1;33m,\u001b[0m \u001b[0mdtype\u001b[0m\u001b[1;33m=\u001b[0m\u001b[0mNone\u001b[0m\u001b[1;33m,\u001b[0m \u001b[0morder\u001b[0m\u001b[1;33m=\u001b[0m\u001b[0mNone\u001b[0m\u001b[1;33m)\u001b[0m\u001b[1;33m:\u001b[0m\u001b[1;33m\u001b[0m\u001b[0m\n",
      "\u001b[1;31mValueError\u001b[0m: invalid literal for float(): 2016-04-22"
     ]
    },
    {
     "data": {
      "image/png": "[encoded data removed]",
      "text/plain": [
       "<matplotlib.figure.Figure at 0xac3d2e8>"
      ]
     },
     "metadata": {},
     "output_type": "display_data"
    }
   ],
   "source": [
    "# use pyplot's factory functions...\n",
    "fig, ax = plt.subplots()\n",
    "\n",
    "# ax.set_title(\"Fico Score vs Interest Rate\",fontsize=14)\n",
    "# ax.set_xlabel(\"FICO score\",fontsize=12)\n",
    "# ax.set_ylabel(\"Interest rate\",fontsize=12)\n",
    "\n",
    "plt.plot(df.index.values, df['maxtemp'])\n",
    "\n",
    "# plt.scatter(df[df['city']=='Chicago'],df['entry_date'], c='red')\n",
    "               \n",
    "# plt.xticks( site2['Cl'], site2.index.values ) # location, labels\n",
    "# plt.plot( site2['Cl'] )\n",
    "plt.show()"
   ]
  },
  {
   "cell_type": "code",
   "execution_count": 16,
   "metadata": {
    "collapsed": false
   },
   "outputs": [
    {
     "data": {
      "text/plain": [
       "Index([u'2016-03-24', u'2016-03-24', u'2016-03-24', u'2016-03-24',\n",
       "       u'2016-03-24', u'2016-03-25', u'2016-03-25', u'2016-03-25',\n",
       "       u'2016-03-25', u'2016-03-25',\n",
       "       ...\n",
       "       u'2016-04-21', u'2016-04-21', u'2016-04-21', u'2016-04-21',\n",
       "       u'2016-04-21', u'2016-04-22', u'2016-04-22', u'2016-04-22',\n",
       "       u'2016-04-22', u'2016-04-22'],\n",
       "      dtype='object', name=u'entry_date', length=150)"
      ]
     },
     "execution_count": 16,
     "metadata": {},
     "output_type": "execute_result"
    }
   ],
   "source": [
    "df.index"
   ]
  },
  {
   "cell_type": "code",
   "execution_count": 22,
   "metadata": {
    "collapsed": false
   },
   "outputs": [
    {
     "data": {
      "text/plain": [
       "[str,\n",
       " str,\n",
       " str,\n",
       " str,\n",
       " str,\n",
       " str,\n",
       " str,\n",
       " str,\n",
       " str,\n",
       " str,\n",
       " str,\n",
       " str,\n",
       " str,\n",
       " str,\n",
       " str,\n",
       " str,\n",
       " str,\n",
       " str,\n",
       " str,\n",
       " str,\n",
       " str,\n",
       " str,\n",
       " str,\n",
       " str,\n",
       " str,\n",
       " str,\n",
       " str,\n",
       " str,\n",
       " str,\n",
       " str,\n",
       " str,\n",
       " str,\n",
       " str,\n",
       " str,\n",
       " str,\n",
       " str,\n",
       " str,\n",
       " str,\n",
       " str,\n",
       " str,\n",
       " str,\n",
       " str,\n",
       " str,\n",
       " str,\n",
       " str,\n",
       " str,\n",
       " str,\n",
       " str,\n",
       " str,\n",
       " str,\n",
       " str,\n",
       " str,\n",
       " str,\n",
       " str,\n",
       " str,\n",
       " str,\n",
       " str,\n",
       " str,\n",
       " str,\n",
       " str,\n",
       " str,\n",
       " str,\n",
       " str,\n",
       " str,\n",
       " str,\n",
       " str,\n",
       " str,\n",
       " str,\n",
       " str,\n",
       " str,\n",
       " str,\n",
       " str,\n",
       " str,\n",
       " str,\n",
       " str,\n",
       " str,\n",
       " str,\n",
       " str,\n",
       " str,\n",
       " str,\n",
       " str,\n",
       " str,\n",
       " str,\n",
       " str,\n",
       " str,\n",
       " str,\n",
       " str,\n",
       " str,\n",
       " str,\n",
       " str,\n",
       " str,\n",
       " str,\n",
       " str,\n",
       " str,\n",
       " str,\n",
       " str,\n",
       " str,\n",
       " str,\n",
       " str,\n",
       " str,\n",
       " str,\n",
       " str,\n",
       " str,\n",
       " str,\n",
       " str,\n",
       " str,\n",
       " str,\n",
       " str,\n",
       " str,\n",
       " str,\n",
       " str,\n",
       " str,\n",
       " str,\n",
       " str,\n",
       " str,\n",
       " str,\n",
       " str,\n",
       " str,\n",
       " str,\n",
       " str,\n",
       " str,\n",
       " str,\n",
       " str,\n",
       " str,\n",
       " str,\n",
       " str,\n",
       " str,\n",
       " str,\n",
       " str,\n",
       " str,\n",
       " str,\n",
       " str,\n",
       " str,\n",
       " str,\n",
       " str,\n",
       " str,\n",
       " str,\n",
       " str,\n",
       " str,\n",
       " str,\n",
       " str,\n",
       " str,\n",
       " str,\n",
       " str,\n",
       " str,\n",
       " str,\n",
       " str,\n",
       " str,\n",
       " str,\n",
       " str]"
      ]
     },
     "execution_count": 22,
     "metadata": {},
     "output_type": "execute_result"
    }
   ],
   "source": [
    "[type(item) for item in df.index.values]\n"
   ]
  },
  {
   "cell_type": "code",
   "execution_count": 19,
   "metadata": {
    "collapsed": false
   },
   "outputs": [
    {
     "data": {
      "text/plain": [
       "<bound method DataFrame.info of              id       utime       city  maxtemp\n",
       "entry_date                                     \n",
       "2016-03-24  147  1458823336    Atlanta    73.41\n",
       "2016-03-24  149  1458823336     Austin    69.30\n",
       "2016-03-24  146  1458823336     Boston    40.30\n",
       "2016-03-24  150  1458823336    Chicago    35.16\n",
       "2016-03-24  148  1458823336  Cleveland    71.92\n",
       "2016-03-25  142  1458909736    Atlanta    71.82\n",
       "2016-03-25  144  1458909736     Austin    72.60\n",
       "2016-03-25  141  1458909736     Boston    41.38\n",
       "2016-03-25  145  1458909736    Chicago    35.71\n",
       "2016-03-25  143  1458909736  Cleveland    50.91\n",
       "2016-03-26  137  1458996136    Atlanta    64.65\n",
       "2016-03-26  139  1458996136     Austin    72.83\n",
       "2016-03-26  136  1458996136     Boston    39.27\n",
       "2016-03-26  140  1458996136    Chicago    44.29\n",
       "2016-03-26  138  1458996136  Cleveland    33.50\n",
       "2016-03-27  132  1459082536    Atlanta    64.60\n",
       "2016-03-27  134  1459082536     Austin    72.79\n",
       "2016-03-27  131  1459082536     Boston    35.13\n",
       "2016-03-27  135  1459082536    Chicago    63.90\n",
       "2016-03-27  133  1459082536  Cleveland    71.61\n",
       "2016-03-28  127  1459168936    Atlanta    69.87\n",
       "2016-03-28  129  1459168936     Austin    73.80\n",
       "2016-03-28  126  1459168936     Boston    39.53\n",
       "2016-03-28  130  1459168936    Chicago    45.56\n",
       "2016-03-28  128  1459168936  Cleveland    68.71\n",
       "2016-03-29  122  1459255336    Atlanta    71.63\n",
       "2016-03-29  124  1459255336     Austin    68.73\n",
       "2016-03-29  121  1459255336     Boston    42.75\n",
       "2016-03-29  125  1459255336    Chicago    53.76\n",
       "2016-03-29  123  1459255336  Cleveland    36.35\n",
       "...         ...         ...        ...      ...\n",
       "2016-04-17   27  1460896936    Atlanta    74.01\n",
       "2016-04-17   29  1460896936     Austin    75.04\n",
       "2016-04-17   26  1460896936     Boston    53.96\n",
       "2016-04-17   30  1460896936    Chicago    70.37\n",
       "2016-04-17   28  1460896936  Cleveland    67.01\n",
       "2016-04-18   22  1460983336    Atlanta    79.98\n",
       "2016-04-18   24  1460983336     Austin    73.85\n",
       "2016-04-18   21  1460983336     Boston    58.82\n",
       "2016-04-18   25  1460983336    Chicago    74.41\n",
       "2016-04-18   23  1460983336  Cleveland    73.37\n",
       "2016-04-19   17  1461069736    Atlanta    81.22\n",
       "2016-04-19   19  1461069736     Austin    76.62\n",
       "2016-04-19   16  1461069736     Boston    51.95\n",
       "2016-04-19   20  1461069736    Chicago    57.11\n",
       "2016-04-19   18  1461069736  Cleveland    58.24\n",
       "2016-04-20   12  1461156136    Atlanta    80.78\n",
       "2016-04-20   14  1461156136     Austin    78.77\n",
       "2016-04-20   11  1461156136     Boston    50.85\n",
       "2016-04-20   15  1461156136    Chicago    68.20\n",
       "2016-04-20   13  1461156136  Cleveland    64.29\n",
       "2016-04-21    7  1461242536    Atlanta    77.99\n",
       "2016-04-21    9  1461242536     Austin    82.12\n",
       "2016-04-21    6  1461242536     Boston    71.23\n",
       "2016-04-21   10  1461242536    Chicago    65.42\n",
       "2016-04-21    8  1461242536  Cleveland    62.56\n",
       "2016-04-22    2  1461328936    Atlanta    71.16\n",
       "2016-04-22    4  1461328936     Austin    80.93\n",
       "2016-04-22    1  1461328936     Boston    72.04\n",
       "2016-04-22    5  1461328936    Chicago    54.00\n",
       "2016-04-22    3  1461328936  Cleveland    62.91\n",
       "\n",
       "[150 rows x 4 columns]>"
      ]
     },
     "execution_count": 19,
     "metadata": {},
     "output_type": "execute_result"
    }
   ],
   "source": [
    "df.info"
   ]
  },
  {
   "cell_type": "code",
   "execution_count": null,
   "metadata": {
    "collapsed": true
   },
   "outputs": [],
   "source": []
  }
 ],
 "metadata": {
  "kernelspec": {
   "display_name": "Python 2",
   "language": "python",
   "name": "python2"
  },
  "language_info": {
   "codemirror_mode": {
    "name": "ipython",
    "version": 2
   },
   "file_extension": ".py",
   "mimetype": "text/x-python",
   "name": "python",
   "nbconvert_exporter": "python",
   "pygments_lexer": "ipython2",
   "version": "2.7.11"
  }
 },
 "nbformat": 4,
 "nbformat_minor": 0
}
