{
 "cells": [
  {
   "cell_type": "code",
   "execution_count": 46,
   "metadata": {
    "collapsed": true
   },
   "outputs": [],
   "source": [
    "import datetime\n",
    "import requests as req\n",
    "import psycopg2"
   ]
  },
  {
   "cell_type": "code",
   "execution_count": null,
   "metadata": {
    "collapsed": true
   },
   "outputs": [],
   "source": []
  },
  {
   "cell_type": "code",
   "execution_count": 2,
   "metadata": {
    "collapsed": true
   },
   "outputs": [],
   "source": [
    "timenow = datetime.datetime.now()"
   ]
  },
  {
   "cell_type": "code",
   "execution_count": 3,
   "metadata": {
    "collapsed": false
   },
   "outputs": [
    {
     "data": {
      "text/plain": [
       "datetime.datetime(2016, 4, 20, 6, 58, 6, 825000)"
      ]
     },
     "execution_count": 3,
     "metadata": {},
     "output_type": "execute_result"
    }
   ],
   "source": [
    "timenow"
   ]
  },
  {
   "cell_type": "code",
   "execution_count": 4,
   "metadata": {
    "collapsed": false
   },
   "outputs": [
    {
     "data": {
      "text/plain": [
       "datetime.datetime"
      ]
     },
     "execution_count": 4,
     "metadata": {},
     "output_type": "execute_result"
    }
   ],
   "source": [
    "type(timenow)"
   ]
  },
  {
   "cell_type": "code",
   "execution_count": 5,
   "metadata": {
    "collapsed": false
   },
   "outputs": [
    {
     "data": {
      "text/plain": [
       "'2016-04-20 06:58:07.489000'"
      ]
     },
     "execution_count": 5,
     "metadata": {},
     "output_type": "execute_result"
    }
   ],
   "source": [
    "datetime.datetime.now().isoformat(' ')"
   ]
  },
  {
   "cell_type": "code",
   "execution_count": 6,
   "metadata": {
    "collapsed": true
   },
   "outputs": [],
   "source": [
    "start_date = datetime.datetime.now() - datetime.timedelta(days=30)"
   ]
  },
  {
   "cell_type": "code",
   "execution_count": 15,
   "metadata": {
    "collapsed": false
   },
   "outputs": [
    {
     "data": {
      "text/plain": [
       "datetime.time(6, 58, 7, 694000)"
      ]
     },
     "execution_count": 15,
     "metadata": {},
     "output_type": "execute_result"
    }
   ],
   "source": [
    "start_date.time()"
   ]
  },
  {
   "cell_type": "code",
   "execution_count": 16,
   "metadata": {
    "collapsed": true
   },
   "outputs": [],
   "source": [
    "s =(timenow - datetime.datetime(1970,1,1)).total_seconds()"
   ]
  },
  {
   "cell_type": "code",
   "execution_count": 17,
   "metadata": {
    "collapsed": false
   },
   "outputs": [
    {
     "data": {
      "text/plain": [
       "1461135486.825"
      ]
     },
     "execution_count": 17,
     "metadata": {},
     "output_type": "execute_result"
    }
   ],
   "source": [
    "s"
   ]
  },
  {
   "cell_type": "code",
   "execution_count": 18,
   "metadata": {
    "collapsed": false
   },
   "outputs": [
    {
     "ename": "AttributeError",
     "evalue": "'datetime.datetime' object has no attribute 'total_seconds'",
     "output_type": "error",
     "traceback": [
      "\u001b[1;31m---------------------------------------------------------------------------\u001b[0m",
      "\u001b[1;31mAttributeError\u001b[0m                            Traceback (most recent call last)",
      "\u001b[1;32m<ipython-input-18-cc1bddae4f8c>\u001b[0m in \u001b[0;36m<module>\u001b[1;34m()\u001b[0m\n\u001b[1;32m----> 1\u001b[1;33m \u001b[0mtimenow\u001b[0m\u001b[1;33m.\u001b[0m\u001b[0mtotal_seconds\u001b[0m\u001b[1;33m(\u001b[0m\u001b[1;33m)\u001b[0m\u001b[1;33m\u001b[0m\u001b[0m\n\u001b[0m",
      "\u001b[1;31mAttributeError\u001b[0m: 'datetime.datetime' object has no attribute 'total_seconds'"
     ]
    }
   ],
   "source": [
    "timenow.total_seconds()"
   ]
  },
  {
   "cell_type": "code",
   "execution_count": 31,
   "metadata": {
    "collapsed": true
   },
   "outputs": [],
   "source": [
    "r = req.get('https://api.forecast.io/forecast/c99c5091c3a50bda392fb7850c54b4ef/33.762909,-84.422675,1461135486')"
   ]
  },
  {
   "cell_type": "code",
   "execution_count": 34,
   "metadata": {
    "collapsed": false
   },
   "outputs": [
    {
     "data": {
      "text/plain": [
       "[u'hourly',\n",
       " u'currently',\n",
       " u'longitude',\n",
       " u'flags',\n",
       " u'daily',\n",
       " u'offset',\n",
       " u'latitude',\n",
       " u'timezone']"
      ]
     },
     "execution_count": 34,
     "metadata": {},
     "output_type": "execute_result"
    }
   ],
   "source": [
    "r.json().keys()"
   ]
  },
  {
   "cell_type": "code",
   "execution_count": null,
   "metadata": {
    "collapsed": true
   },
   "outputs": [],
   "source": [
    "# 00, daily\n",
    "# temperatureMax: 81.74,"
   ]
  },
  {
   "cell_type": "code",
   "execution_count": 35,
   "metadata": {
    "collapsed": false
   },
   "outputs": [
    {
     "ename": "KeyError",
     "evalue": "'temperatureMax'",
     "output_type": "error",
     "traceback": [
      "\u001b[1;31m---------------------------------------------------------------------------\u001b[0m",
      "\u001b[1;31mKeyError\u001b[0m                                  Traceback (most recent call last)",
      "\u001b[1;32m<ipython-input-35-99f65c15e4e9>\u001b[0m in \u001b[0;36m<module>\u001b[1;34m()\u001b[0m\n\u001b[1;32m----> 1\u001b[1;33m \u001b[0mr\u001b[0m\u001b[1;33m.\u001b[0m\u001b[0mjson\u001b[0m\u001b[1;33m(\u001b[0m\u001b[1;33m)\u001b[0m\u001b[1;33m[\u001b[0m\u001b[1;34m'daily'\u001b[0m\u001b[1;33m]\u001b[0m\u001b[1;33m[\u001b[0m\u001b[1;34m'temperatureMax'\u001b[0m\u001b[1;33m]\u001b[0m\u001b[1;33m\u001b[0m\u001b[0m\n\u001b[0m",
      "\u001b[1;31mKeyError\u001b[0m: 'temperatureMax'"
     ]
    }
   ],
   "source": [
    "r.json()['daily']['temperatureMax']"
   ]
  },
  {
   "cell_type": "code",
   "execution_count": 45,
   "metadata": {
    "collapsed": false
   },
   "outputs": [
    {
     "data": {
      "text/plain": [
       "80.55"
      ]
     },
     "execution_count": 45,
     "metadata": {},
     "output_type": "execute_result"
    }
   ],
   "source": [
    "r.json()['daily']['data'][0]['apparentTemperatureMax']"
   ]
  },
  {
   "cell_type": "code",
   "execution_count": 117,
   "metadata": {
    "collapsed": false
   },
   "outputs": [],
   "source": [
    "\n",
    "# Connect to an existing database\n",
    "conn = psycopg2.connect(\"dbname=getting_started user=postgres password=Gatsby\")\n",
    "\n",
    "with conn:\n",
    "#open the cursor\n",
    "    cur = conn.cursor()\n",
    "\n",
    "# set up the tables.\n",
    "    cur.execute(\"DROP TABLE IF EXISTS weatherapi\")\n",
    "\n",
    "# CHANGED TO TEXT TYPE TO ELIMINATE INPUT ERRORS\n",
    "\n",
    "    cur.execute(\"CREATE TABLE weatherapi (id serial, \\\n",
    "    time int, \\\n",
    "    city TEXT, \\\n",
    "    maxtemp float NOT NULL DEFAULT 0);\")\n"
   ]
  },
  {
   "cell_type": "code",
   "execution_count": null,
   "metadata": {
    "collapsed": true
   },
   "outputs": [],
   "source": []
  },
  {
   "cell_type": "code",
   "execution_count": null,
   "metadata": {
    "collapsed": true
   },
   "outputs": [],
   "source": []
  },
  {
   "cell_type": "code",
   "execution_count": null,
   "metadata": {
    "collapsed": true
   },
   "outputs": [],
   "source": []
  },
  {
   "cell_type": "code",
   "execution_count": null,
   "metadata": {
    "collapsed": true
   },
   "outputs": [],
   "source": []
  },
  {
   "cell_type": "code",
   "execution_count": null,
   "metadata": {
    "collapsed": true
   },
   "outputs": [],
   "source": []
  },
  {
   "cell_type": "code",
   "execution_count": null,
   "metadata": {
    "collapsed": true
   },
   "outputs": [],
   "source": []
  },
  {
   "cell_type": "code",
   "execution_count": 56,
   "metadata": {
    "collapsed": true
   },
   "outputs": [],
   "source": [
    "cities = { \"Atlanta\": '33.762909,-84.422675',\n",
    "        \"Austin\": '30.303936,-97.754355',\n",
    "        \"Boston\": '42.331960,-71.020173',\n",
    "        \"Chicago\": '41.837551,-87.681844',\n",
    "        \"Cleveland\": '41.478462,-81.679435'\n",
    "    }"
   ]
  },
  {
   "cell_type": "code",
   "execution_count": 77,
   "metadata": {
    "collapsed": false
   },
   "outputs": [
    {
     "name": "stdout",
     "output_type": "stream",
     "text": [
      "42.331960\n",
      "33.762909\n",
      "41.478462\n",
      "30.303936\n",
      "41.837551\n"
     ]
    }
   ],
   "source": [
    "for key in cities:\n",
    "    print cities[key].split(',')[0]\n"
   ]
  },
  {
   "cell_type": "code",
   "execution_count": null,
   "metadata": {
    "collapsed": true
   },
   "outputs": [],
   "source": []
  },
  {
   "cell_type": "code",
   "execution_count": null,
   "metadata": {
    "collapsed": true
   },
   "outputs": [],
   "source": []
  },
  {
   "cell_type": "code",
   "execution_count": null,
   "metadata": {
    "collapsed": true
   },
   "outputs": [],
   "source": []
  },
  {
   "cell_type": "code",
   "execution_count": null,
   "metadata": {
    "collapsed": true
   },
   "outputs": [],
   "source": []
  },
  {
   "cell_type": "code",
   "execution_count": null,
   "metadata": {
    "collapsed": true
   },
   "outputs": [],
   "source": []
  },
  {
   "cell_type": "code",
   "execution_count": null,
   "metadata": {
    "collapsed": true
   },
   "outputs": [],
   "source": []
  },
  {
   "cell_type": "code",
   "execution_count": null,
   "metadata": {
    "collapsed": true
   },
   "outputs": [],
   "source": []
  },
  {
   "cell_type": "code",
   "execution_count": null,
   "metadata": {
    "collapsed": true
   },
   "outputs": [],
   "source": []
  },
  {
   "cell_type": "code",
   "execution_count": null,
   "metadata": {
    "collapsed": true
   },
   "outputs": [],
   "source": []
  },
  {
   "cell_type": "code",
   "execution_count": null,
   "metadata": {
    "collapsed": true
   },
   "outputs": [],
   "source": []
  },
  {
   "cell_type": "code",
   "execution_count": null,
   "metadata": {
    "collapsed": true
   },
   "outputs": [],
   "source": []
  },
  {
   "cell_type": "code",
   "execution_count": null,
   "metadata": {
    "collapsed": true
   },
   "outputs": [],
   "source": [
    "key.1"
   ]
  },
  {
   "cell_type": "code",
   "execution_count": 59,
   "metadata": {
    "collapsed": false
   },
   "outputs": [
    {
     "ename": "KeyError",
     "evalue": "1",
     "output_type": "error",
     "traceback": [
      "\u001b[1;31m---------------------------------------------------------------------------\u001b[0m",
      "\u001b[1;31mKeyError\u001b[0m                                  Traceback (most recent call last)",
      "\u001b[1;32m<ipython-input-59-e8dda3d9f35c>\u001b[0m in \u001b[0;36m<module>\u001b[1;34m()\u001b[0m\n\u001b[1;32m----> 1\u001b[1;33m \u001b[0mcities\u001b[0m\u001b[1;33m[\u001b[0m\u001b[1;36m1\u001b[0m\u001b[1;33m]\u001b[0m\u001b[1;33m\u001b[0m\u001b[0m\n\u001b[0m",
      "\u001b[1;31mKeyError\u001b[0m: 1"
     ]
    }
   ],
   "source": [
    "cities[1]"
   ]
  },
  {
   "cell_type": "code",
   "execution_count": null,
   "metadata": {
    "collapsed": true
   },
   "outputs": [],
   "source": []
  },
  {
   "cell_type": "code",
   "execution_count": 130,
   "metadata": {
    "collapsed": false
   },
   "outputs": [
    {
     "name": "stdout",
     "output_type": "stream",
     "text": [
      "0 Boston 42.331960 -71.020173 1461239422\n",
      "https://api.forecast.io/forecast/c99c5091c3a50bda392fb7850c54b4ef/42.331960,-71.020173,1461239422\n",
      "72.06\n",
      "0 Atlanta 33.762909 -84.422675 1461239422\n",
      "https://api.forecast.io/forecast/c99c5091c3a50bda392fb7850c54b4ef/33.762909,-84.422675,1461239422\n",
      "79.72\n",
      "0 Cleveland 41.478462 -81.679435 1461239422\n",
      "https://api.forecast.io/forecast/c99c5091c3a50bda392fb7850c54b4ef/41.478462,-81.679435,1461239422\n",
      "68.59\n",
      "0 Austin 30.303936 -97.754355 1461239422\n",
      "https://api.forecast.io/forecast/c99c5091c3a50bda392fb7850c54b4ef/30.303936,-97.754355,1461239422\n",
      "79.03\n",
      "0 Chicago 41.837551 -87.681844 1461239422\n",
      "https://api.forecast.io/forecast/c99c5091c3a50bda392fb7850c54b4ef/41.837551,-87.681844,1461239422\n",
      "67.88\n",
      "1 Boston 42.331960 -71.020173 1461153022\n",
      "https://api.forecast.io/forecast/c99c5091c3a50bda392fb7850c54b4ef/42.331960,-71.020173,1461153022\n",
      "51.93\n",
      "1 Atlanta 33.762909 -84.422675 1461153022\n",
      "https://api.forecast.io/forecast/c99c5091c3a50bda392fb7850c54b4ef/33.762909,-84.422675,1461153022\n",
      "80.55\n",
      "1 Cleveland 41.478462 -81.679435 1461153022\n",
      "https://api.forecast.io/forecast/c99c5091c3a50bda392fb7850c54b4ef/41.478462,-81.679435,1461153022\n",
      "64.39\n",
      "1 Austin 30.303936 -97.754355 1461153022\n",
      "https://api.forecast.io/forecast/c99c5091c3a50bda392fb7850c54b4ef/30.303936,-97.754355,1461153022\n",
      "78.32\n",
      "1 Chicago 41.837551 -87.681844 1461153022\n",
      "https://api.forecast.io/forecast/c99c5091c3a50bda392fb7850c54b4ef/41.837551,-87.681844,1461153022\n",
      "66.43\n",
      "2 Boston 42.331960 -71.020173 1461066622\n",
      "https://api.forecast.io/forecast/c99c5091c3a50bda392fb7850c54b4ef/42.331960,-71.020173,1461066622\n",
      "50.97\n",
      "2 Atlanta 33.762909 -84.422675 1461066622\n",
      "https://api.forecast.io/forecast/c99c5091c3a50bda392fb7850c54b4ef/33.762909,-84.422675,1461066622\n",
      "81.03\n",
      "2 Cleveland 41.478462 -81.679435 1461066622\n",
      "https://api.forecast.io/forecast/c99c5091c3a50bda392fb7850c54b4ef/41.478462,-81.679435,1461066622\n",
      "60.71\n",
      "2 Austin 30.303936 -97.754355 1461066622\n",
      "https://api.forecast.io/forecast/c99c5091c3a50bda392fb7850c54b4ef/30.303936,-97.754355,1461066622\n",
      "77.23\n",
      "2 Chicago 41.837551 -87.681844 1461066622\n",
      "https://api.forecast.io/forecast/c99c5091c3a50bda392fb7850c54b4ef/41.837551,-87.681844,1461066622\n",
      "57.38\n",
      "3 Boston 42.331960 -71.020173 1460980222\n",
      "https://api.forecast.io/forecast/c99c5091c3a50bda392fb7850c54b4ef/42.331960,-71.020173,1460980222\n",
      "58.81\n",
      "3 Atlanta 33.762909 -84.422675 1460980222\n",
      "https://api.forecast.io/forecast/c99c5091c3a50bda392fb7850c54b4ef/33.762909,-84.422675,1460980222\n",
      "79.98\n",
      "3 Cleveland 41.478462 -81.679435 1460980222\n",
      "https://api.forecast.io/forecast/c99c5091c3a50bda392fb7850c54b4ef/41.478462,-81.679435,1460980222\n",
      "73.36\n",
      "3 Austin 30.303936 -97.754355 1460980222\n",
      "https://api.forecast.io/forecast/c99c5091c3a50bda392fb7850c54b4ef/30.303936,-97.754355,1460980222\n",
      "73.87\n",
      "3 Chicago 41.837551 -87.681844 1460980222\n",
      "https://api.forecast.io/forecast/c99c5091c3a50bda392fb7850c54b4ef/41.837551,-87.681844,1460980222\n",
      "74.3\n",
      "4 Boston 42.331960 -71.020173 1460893822\n",
      "https://api.forecast.io/forecast/c99c5091c3a50bda392fb7850c54b4ef/42.331960,-71.020173,1460893822\n",
      "53.9\n",
      "4 Atlanta 33.762909 -84.422675 1460893822\n",
      "https://api.forecast.io/forecast/c99c5091c3a50bda392fb7850c54b4ef/33.762909,-84.422675,1460893822\n",
      "74.02\n",
      "4 Cleveland 41.478462 -81.679435 1460893822\n",
      "https://api.forecast.io/forecast/c99c5091c3a50bda392fb7850c54b4ef/41.478462,-81.679435,1460893822\n",
      "66.96\n",
      "4 Austin 30.303936 -97.754355 1460893822\n",
      "https://api.forecast.io/forecast/c99c5091c3a50bda392fb7850c54b4ef/30.303936,-97.754355,1460893822\n",
      "75.11\n",
      "4 Chicago 41.837551 -87.681844 1460893822\n",
      "https://api.forecast.io/forecast/c99c5091c3a50bda392fb7850c54b4ef/41.837551,-87.681844,1460893822\n",
      "70.27\n",
      "5 Boston 42.331960 -71.020173 1460807422\n",
      "https://api.forecast.io/forecast/c99c5091c3a50bda392fb7850c54b4ef/42.331960,-71.020173,1460807422\n",
      "50.36\n",
      "5 Atlanta 33.762909 -84.422675 1460807422\n",
      "https://api.forecast.io/forecast/c99c5091c3a50bda392fb7850c54b4ef/33.762909,-84.422675,1460807422\n",
      "72.33\n",
      "5 Cleveland 41.478462 -81.679435 1460807422\n",
      "https://api.forecast.io/forecast/c99c5091c3a50bda392fb7850c54b4ef/41.478462,-81.679435,1460807422\n",
      "66.18\n",
      "5 Austin 30.303936 -97.754355 1460807422\n",
      "https://api.forecast.io/forecast/c99c5091c3a50bda392fb7850c54b4ef/30.303936,-97.754355,1460807422\n",
      "74.85\n",
      "5 Chicago 41.837551 -87.681844 1460807422\n",
      "https://api.forecast.io/forecast/c99c5091c3a50bda392fb7850c54b4ef/41.837551,-87.681844,1460807422\n",
      "68.32\n",
      "6 Boston 42.331960 -71.020173 1460721022\n",
      "https://api.forecast.io/forecast/c99c5091c3a50bda392fb7850c54b4ef/42.331960,-71.020173,1460721022\n",
      "51.95\n",
      "6 Atlanta 33.762909 -84.422675 1460721022\n",
      "https://api.forecast.io/forecast/c99c5091c3a50bda392fb7850c54b4ef/33.762909,-84.422675,1460721022\n",
      "65.65\n",
      "6 Cleveland 41.478462 -81.679435 1460721022\n",
      "https://api.forecast.io/forecast/c99c5091c3a50bda392fb7850c54b4ef/41.478462,-81.679435,1460721022\n",
      "64.24\n",
      "6 Austin 30.303936 -97.754355 1460721022\n",
      "https://api.forecast.io/forecast/c99c5091c3a50bda392fb7850c54b4ef/30.303936,-97.754355,1460721022\n",
      "77.86\n",
      "6 Chicago 41.837551 -87.681844 1460721022\n",
      "https://api.forecast.io/forecast/c99c5091c3a50bda392fb7850c54b4ef/41.837551,-87.681844,1460721022\n",
      "60.66\n",
      "7 Boston 42.331960 -71.020173 1460634622\n",
      "https://api.forecast.io/forecast/c99c5091c3a50bda392fb7850c54b4ef/42.331960,-71.020173,1460634622\n",
      "40.86\n",
      "7 Atlanta 33.762909 -84.422675 1460634622\n",
      "https://api.forecast.io/forecast/c99c5091c3a50bda392fb7850c54b4ef/33.762909,-84.422675,1460634622\n",
      "67.4\n",
      "7 Cleveland 41.478462 -81.679435 1460634622\n",
      "https://api.forecast.io/forecast/c99c5091c3a50bda392fb7850c54b4ef/41.478462,-81.679435,1460634622\n",
      "51.46\n",
      "7 Austin 30.303936 -97.754355 1460634622\n",
      "https://api.forecast.io/forecast/c99c5091c3a50bda392fb7850c54b4ef/30.303936,-97.754355,1460634622\n",
      "74.26\n",
      "7 Chicago 41.837551 -87.681844 1460634622\n",
      "https://api.forecast.io/forecast/c99c5091c3a50bda392fb7850c54b4ef/41.837551,-87.681844,1460634622\n",
      "54.25\n",
      "8 Boston 42.331960 -71.020173 1460548222\n",
      "https://api.forecast.io/forecast/c99c5091c3a50bda392fb7850c54b4ef/42.331960,-71.020173,1460548222\n",
      "44.42\n",
      "8 Atlanta 33.762909 -84.422675 1460548222\n",
      "https://api.forecast.io/forecast/c99c5091c3a50bda392fb7850c54b4ef/33.762909,-84.422675,1460548222\n",
      "64.2\n",
      "8 Cleveland 41.478462 -81.679435 1460548222\n",
      "https://api.forecast.io/forecast/c99c5091c3a50bda392fb7850c54b4ef/41.478462,-81.679435,1460548222\n",
      "39.99\n",
      "8 Austin 30.303936 -97.754355 1460548222\n",
      "https://api.forecast.io/forecast/c99c5091c3a50bda392fb7850c54b4ef/30.303936,-97.754355,1460548222\n",
      "69.48\n",
      "8 Chicago 41.837551 -87.681844 1460548222\n",
      "https://api.forecast.io/forecast/c99c5091c3a50bda392fb7850c54b4ef/41.837551,-87.681844,1460548222\n",
      "52.21\n",
      "9 Boston 42.331960 -71.020173 1460461822\n",
      "https://api.forecast.io/forecast/c99c5091c3a50bda392fb7850c54b4ef/42.331960,-71.020173,1460461822\n",
      "57.17\n",
      "9 Atlanta 33.762909 -84.422675 1460461822\n",
      "https://api.forecast.io/forecast/c99c5091c3a50bda392fb7850c54b4ef/33.762909,-84.422675,1460461822\n",
      "69.59\n",
      "9 Cleveland 41.478462 -81.679435 1460461822\n",
      "https://api.forecast.io/forecast/c99c5091c3a50bda392fb7850c54b4ef/41.478462,-81.679435,1460461822\n",
      "36.44\n",
      "9 Austin 30.303936 -97.754355 1460461822\n",
      "https://api.forecast.io/forecast/c99c5091c3a50bda392fb7850c54b4ef/30.303936,-97.754355,1460461822\n",
      "70.81\n",
      "9 Chicago 41.837551 -87.681844 1460461822\n",
      "https://api.forecast.io/forecast/c99c5091c3a50bda392fb7850c54b4ef/41.837551,-87.681844,1460461822\n",
      "37.62\n",
      "10 Boston 42.331960 -71.020173 1460375422\n",
      "https://api.forecast.io/forecast/c99c5091c3a50bda392fb7850c54b4ef/42.331960,-71.020173,1460375422\n",
      "56.97\n",
      "10 Atlanta 33.762909 -84.422675 1460375422\n",
      "https://api.forecast.io/forecast/c99c5091c3a50bda392fb7850c54b4ef/33.762909,-84.422675,1460375422\n",
      "71.69\n",
      "10 Cleveland 41.478462 -81.679435 1460375422\n",
      "https://api.forecast.io/forecast/c99c5091c3a50bda392fb7850c54b4ef/41.478462,-81.679435,1460375422\n",
      "53.57\n",
      "10 Austin 30.303936 -97.754355 1460375422\n",
      "https://api.forecast.io/forecast/c99c5091c3a50bda392fb7850c54b4ef/30.303936,-97.754355,1460375422\n",
      "88.79\n",
      "10 Chicago 41.837551 -87.681844 1460375422\n",
      "https://api.forecast.io/forecast/c99c5091c3a50bda392fb7850c54b4ef/41.837551,-87.681844,1460375422\n",
      "47.2\n",
      "11 Boston 42.331960 -71.020173 1460289022\n",
      "https://api.forecast.io/forecast/c99c5091c3a50bda392fb7850c54b4ef/42.331960,-71.020173,1460289022\n",
      "42.26\n",
      "11 Atlanta 33.762909 -84.422675 1460289022\n",
      "https://api.forecast.io/forecast/c99c5091c3a50bda392fb7850c54b4ef/33.762909,-84.422675,1460289022\n",
      "60.96\n",
      "11 Cleveland 41.478462 -81.679435 1460289022\n",
      "https://api.forecast.io/forecast/c99c5091c3a50bda392fb7850c54b4ef/41.478462,-81.679435,1460289022\n",
      "34.24\n",
      "11 Austin 30.303936 -97.754355 1460289022\n",
      "https://api.forecast.io/forecast/c99c5091c3a50bda392fb7850c54b4ef/30.303936,-97.754355,1460289022\n",
      "77.79\n",
      "11 Chicago 41.837551 -87.681844 1460289022\n",
      "https://api.forecast.io/forecast/c99c5091c3a50bda392fb7850c54b4ef/41.837551,-87.681844,1460289022\n",
      "45.31\n",
      "12 Boston 42.331960 -71.020173 1460202622\n",
      "https://api.forecast.io/forecast/c99c5091c3a50bda392fb7850c54b4ef/42.331960,-71.020173,1460202622\n",
      "40.31\n",
      "12 Atlanta 33.762909 -84.422675 1460202622\n",
      "https://api.forecast.io/forecast/c99c5091c3a50bda392fb7850c54b4ef/33.762909,-84.422675,1460202622\n",
      "59.51\n",
      "12 Cleveland 41.478462 -81.679435 1460202622\n",
      "https://api.forecast.io/forecast/c99c5091c3a50bda392fb7850c54b4ef/41.478462,-81.679435,1460202622\n",
      "27.77\n",
      "12 Austin 30.303936 -97.754355 1460202622\n",
      "https://api.forecast.io/forecast/c99c5091c3a50bda392fb7850c54b4ef/30.303936,-97.754355,1460202622\n",
      "75.13\n",
      "12 Chicago 41.837551 -87.681844 1460202622\n",
      "https://api.forecast.io/forecast/c99c5091c3a50bda392fb7850c54b4ef/41.837551,-87.681844,1460202622\n",
      "28.42\n",
      "13 Boston 42.331960 -71.020173 1460116222\n",
      "https://api.forecast.io/forecast/c99c5091c3a50bda392fb7850c54b4ef/42.331960,-71.020173,1460116222\n",
      "44.01\n",
      "13 Atlanta 33.762909 -84.422675 1460116222\n",
      "https://api.forecast.io/forecast/c99c5091c3a50bda392fb7850c54b4ef/33.762909,-84.422675,1460116222\n",
      "61.33\n",
      "13 Cleveland 41.478462 -81.679435 1460116222\n",
      "https://api.forecast.io/forecast/c99c5091c3a50bda392fb7850c54b4ef/41.478462,-81.679435,1460116222\n",
      "32.44\n",
      "13 Austin 30.303936 -97.754355 1460116222\n",
      "https://api.forecast.io/forecast/c99c5091c3a50bda392fb7850c54b4ef/30.303936,-97.754355,1460116222\n",
      "77.71\n",
      "13 Chicago 41.837551 -87.681844 1460116222\n",
      "https://api.forecast.io/forecast/c99c5091c3a50bda392fb7850c54b4ef/41.837551,-87.681844,1460116222\n",
      "32.82\n",
      "14 Boston 42.331960 -71.020173 1460029822\n",
      "https://api.forecast.io/forecast/c99c5091c3a50bda392fb7850c54b4ef/42.331960,-71.020173,1460029822\n",
      "55.17\n",
      "14 Atlanta 33.762909 -84.422675 1460029822\n",
      "https://api.forecast.io/forecast/c99c5091c3a50bda392fb7850c54b4ef/33.762909,-84.422675,1460029822\n",
      "69.95\n",
      "14 Cleveland 41.478462 -81.679435 1460029822\n",
      "https://api.forecast.io/forecast/c99c5091c3a50bda392fb7850c54b4ef/41.478462,-81.679435,1460029822\n",
      "52.45\n",
      "14 Austin 30.303936 -97.754355 1460029822\n",
      "https://api.forecast.io/forecast/c99c5091c3a50bda392fb7850c54b4ef/30.303936,-97.754355,1460029822\n",
      "81.25\n",
      "14 Chicago 41.837551 -87.681844 1460029822\n",
      "https://api.forecast.io/forecast/c99c5091c3a50bda392fb7850c54b4ef/41.837551,-87.681844,1460029822\n",
      "40.03\n",
      "15 Boston 42.331960 -71.020173 1459943422\n",
      "https://api.forecast.io/forecast/c99c5091c3a50bda392fb7850c54b4ef/42.331960,-71.020173,1459943422\n",
      "33.74\n",
      "15 Atlanta 33.762909 -84.422675 1459943422\n",
      "https://api.forecast.io/forecast/c99c5091c3a50bda392fb7850c54b4ef/33.762909,-84.422675,1459943422\n",
      "66.3\n",
      "15 Cleveland 41.478462 -81.679435 1459943422\n",
      "https://api.forecast.io/forecast/c99c5091c3a50bda392fb7850c54b4ef/41.478462,-81.679435,1459943422\n",
      "59.51\n",
      "15 Austin 30.303936 -97.754355 1459943422\n",
      "https://api.forecast.io/forecast/c99c5091c3a50bda392fb7850c54b4ef/30.303936,-97.754355,1459943422\n",
      "79.03\n",
      "15 Chicago 41.837551 -87.681844 1459943422\n",
      "https://api.forecast.io/forecast/c99c5091c3a50bda392fb7850c54b4ef/41.837551,-87.681844,1459943422\n",
      "50.03\n",
      "16 Boston 42.331960 -71.020173 1459857022\n",
      "https://api.forecast.io/forecast/c99c5091c3a50bda392fb7850c54b4ef/42.331960,-71.020173,1459857022\n",
      "27.04\n",
      "16 Atlanta 33.762909 -84.422675 1459857022\n",
      "https://api.forecast.io/forecast/c99c5091c3a50bda392fb7850c54b4ef/33.762909,-84.422675,1459857022\n",
      "67.11\n",
      "16 Cleveland 41.478462 -81.679435 1459857022\n",
      "https://api.forecast.io/forecast/c99c5091c3a50bda392fb7850c54b4ef/41.478462,-81.679435,1459857022\n",
      "25.36\n",
      "16 Austin 30.303936 -97.754355 1459857022\n",
      "https://api.forecast.io/forecast/c99c5091c3a50bda392fb7850c54b4ef/30.303936,-97.754355,1459857022\n",
      "80.15\n",
      "16 Chicago 41.837551 -87.681844 1459857022\n",
      "https://api.forecast.io/forecast/c99c5091c3a50bda392fb7850c54b4ef/41.837551,-87.681844,1459857022\n",
      "39.14\n",
      "17 Boston 42.331960 -71.020173 1459770622\n",
      "https://api.forecast.io/forecast/c99c5091c3a50bda392fb7850c54b4ef/42.331960,-71.020173,1459770622\n",
      "18.83\n",
      "17 Atlanta 33.762909 -84.422675 1459770622\n",
      "https://api.forecast.io/forecast/c99c5091c3a50bda392fb7850c54b4ef/33.762909,-84.422675,1459770622\n",
      "76.45\n",
      "17 Cleveland 41.478462 -81.679435 1459770622\n",
      "https://api.forecast.io/forecast/c99c5091c3a50bda392fb7850c54b4ef/41.478462,-81.679435,1459770622\n",
      "57.34\n",
      "17 Austin 30.303936 -97.754355 1459770622\n",
      "https://api.forecast.io/forecast/c99c5091c3a50bda392fb7850c54b4ef/30.303936,-97.754355,1459770622\n",
      "80.95\n",
      "17 Chicago 41.837551 -87.681844 1459770622\n",
      "https://api.forecast.io/forecast/c99c5091c3a50bda392fb7850c54b4ef/41.837551,-87.681844,1459770622\n",
      "30.14\n",
      "18 Boston 42.331960 -71.020173 1459684222\n",
      "https://api.forecast.io/forecast/c99c5091c3a50bda392fb7850c54b4ef/42.331960,-71.020173,1459684222\n",
      "39.24\n",
      "18 Atlanta 33.762909 -84.422675 1459684222\n",
      "https://api.forecast.io/forecast/c99c5091c3a50bda392fb7850c54b4ef/33.762909,-84.422675,1459684222\n",
      "67.67\n",
      "18 Cleveland 41.478462 -81.679435 1459684222\n",
      "https://api.forecast.io/forecast/c99c5091c3a50bda392fb7850c54b4ef/41.478462,-81.679435,1459684222\n",
      "42.62\n",
      "18 Austin 30.303936 -97.754355 1459684222\n",
      "https://api.forecast.io/forecast/c99c5091c3a50bda392fb7850c54b4ef/30.303936,-97.754355,1459684222\n",
      "77.51\n",
      "18 Chicago 41.837551 -87.681844 1459684222\n",
      "https://api.forecast.io/forecast/c99c5091c3a50bda392fb7850c54b4ef/41.837551,-87.681844,1459684222\n",
      "70.72\n",
      "19 Boston 42.331960 -71.020173 1459597822\n",
      "https://api.forecast.io/forecast/c99c5091c3a50bda392fb7850c54b4ef/42.331960,-71.020173,1459597822\n",
      "59.23\n",
      "19 Atlanta 33.762909 -84.422675 1459597822\n",
      "https://api.forecast.io/forecast/c99c5091c3a50bda392fb7850c54b4ef/33.762909,-84.422675,1459597822\n",
      "63.55\n",
      "19 Cleveland 41.478462 -81.679435 1459597822\n",
      "https://api.forecast.io/forecast/c99c5091c3a50bda392fb7850c54b4ef/41.478462,-81.679435,1459597822\n",
      "40.73\n",
      "19 Austin 30.303936 -97.754355 1459597822\n",
      "https://api.forecast.io/forecast/c99c5091c3a50bda392fb7850c54b4ef/30.303936,-97.754355,1459597822\n",
      "72.51\n",
      "19 Chicago 41.837551 -87.681844 1459597822\n",
      "https://api.forecast.io/forecast/c99c5091c3a50bda392fb7850c54b4ef/41.837551,-87.681844,1459597822\n",
      "28.89\n",
      "20 Boston 42.331960 -71.020173 1459511422\n",
      "https://api.forecast.io/forecast/c99c5091c3a50bda392fb7850c54b4ef/42.331960,-71.020173,1459511422\n",
      "67.64\n",
      "20 Atlanta 33.762909 -84.422675 1459511422\n",
      "https://api.forecast.io/forecast/c99c5091c3a50bda392fb7850c54b4ef/33.762909,-84.422675,1459511422\n",
      "70.65\n",
      "20 Cleveland 41.478462 -81.679435 1459511422\n",
      "https://api.forecast.io/forecast/c99c5091c3a50bda392fb7850c54b4ef/41.478462,-81.679435,1459511422\n",
      "62.32\n",
      "20 Austin 30.303936 -97.754355 1459511422\n",
      "https://api.forecast.io/forecast/c99c5091c3a50bda392fb7850c54b4ef/30.303936,-97.754355,1459511422\n",
      "66.55\n",
      "20 Chicago 41.837551 -87.681844 1459511422\n",
      "https://api.forecast.io/forecast/c99c5091c3a50bda392fb7850c54b4ef/41.837551,-87.681844,1459511422\n",
      "42.35\n",
      "21 Boston 42.331960 -71.020173 1459425022\n",
      "https://api.forecast.io/forecast/c99c5091c3a50bda392fb7850c54b4ef/42.331960,-71.020173,1459425022\n",
      "69.06\n",
      "21 Atlanta 33.762909 -84.422675 1459425022\n",
      "https://api.forecast.io/forecast/c99c5091c3a50bda392fb7850c54b4ef/33.762909,-84.422675,1459425022\n",
      "70.14\n",
      "21 Cleveland 41.478462 -81.679435 1459425022\n",
      "https://api.forecast.io/forecast/c99c5091c3a50bda392fb7850c54b4ef/41.478462,-81.679435,1459425022\n",
      "68.56\n",
      "21 Austin 30.303936 -97.754355 1459425022\n",
      "https://api.forecast.io/forecast/c99c5091c3a50bda392fb7850c54b4ef/30.303936,-97.754355,1459425022\n",
      "81.92\n",
      "21 Chicago 41.837551 -87.681844 1459425022\n",
      "https://api.forecast.io/forecast/c99c5091c3a50bda392fb7850c54b4ef/41.837551,-87.681844,1459425022\n",
      "65.03\n",
      "22 Boston 42.331960 -71.020173 1459338622\n",
      "https://api.forecast.io/forecast/c99c5091c3a50bda392fb7850c54b4ef/42.331960,-71.020173,1459338622\n",
      "57.01\n",
      "22 Atlanta 33.762909 -84.422675 1459338622\n",
      "https://api.forecast.io/forecast/c99c5091c3a50bda392fb7850c54b4ef/33.762909,-84.422675,1459338622\n",
      "72.34\n",
      "22 Cleveland 41.478462 -81.679435 1459338622\n",
      "https://api.forecast.io/forecast/c99c5091c3a50bda392fb7850c54b4ef/41.478462,-81.679435,1459338622\n",
      "66.21\n",
      "22 Austin 30.303936 -97.754355 1459338622\n",
      "https://api.forecast.io/forecast/c99c5091c3a50bda392fb7850c54b4ef/30.303936,-97.754355,1459338622\n",
      "76.39\n",
      "22 Chicago 41.837551 -87.681844 1459338622\n",
      "https://api.forecast.io/forecast/c99c5091c3a50bda392fb7850c54b4ef/41.837551,-87.681844,1459338622\n",
      "59.54\n",
      "23 Boston 42.331960 -71.020173 1459252222\n",
      "https://api.forecast.io/forecast/c99c5091c3a50bda392fb7850c54b4ef/42.331960,-71.020173,1459252222\n",
      "42.75\n",
      "23 Atlanta 33.762909 -84.422675 1459252222\n",
      "https://api.forecast.io/forecast/c99c5091c3a50bda392fb7850c54b4ef/33.762909,-84.422675,1459252222\n",
      "71.63\n",
      "23 Cleveland 41.478462 -81.679435 1459252222\n",
      "https://api.forecast.io/forecast/c99c5091c3a50bda392fb7850c54b4ef/41.478462,-81.679435,1459252222\n",
      "36.35\n",
      "23 Austin 30.303936 -97.754355 1459252222\n",
      "https://api.forecast.io/forecast/c99c5091c3a50bda392fb7850c54b4ef/30.303936,-97.754355,1459252222\n",
      "68.73\n",
      "23 Chicago 41.837551 -87.681844 1459252222\n",
      "https://api.forecast.io/forecast/c99c5091c3a50bda392fb7850c54b4ef/41.837551,-87.681844,1459252222\n",
      "53.76\n",
      "24 Boston 42.331960 -71.020173 1459165822\n",
      "https://api.forecast.io/forecast/c99c5091c3a50bda392fb7850c54b4ef/42.331960,-71.020173,1459165822\n",
      "39.53\n",
      "24 Atlanta 33.762909 -84.422675 1459165822\n",
      "https://api.forecast.io/forecast/c99c5091c3a50bda392fb7850c54b4ef/33.762909,-84.422675,1459165822\n",
      "69.87\n",
      "24 Cleveland 41.478462 -81.679435 1459165822\n",
      "https://api.forecast.io/forecast/c99c5091c3a50bda392fb7850c54b4ef/41.478462,-81.679435,1459165822\n",
      "68.71\n",
      "24 Austin 30.303936 -97.754355 1459165822\n",
      "https://api.forecast.io/forecast/c99c5091c3a50bda392fb7850c54b4ef/30.303936,-97.754355,1459165822\n",
      "73.8\n",
      "24 Chicago 41.837551 -87.681844 1459165822\n",
      "https://api.forecast.io/forecast/c99c5091c3a50bda392fb7850c54b4ef/41.837551,-87.681844,1459165822\n",
      "45.56\n",
      "25 Boston 42.331960 -71.020173 1459079422\n",
      "https://api.forecast.io/forecast/c99c5091c3a50bda392fb7850c54b4ef/42.331960,-71.020173,1459079422\n",
      "35.13\n",
      "25 Atlanta 33.762909 -84.422675 1459079422\n",
      "https://api.forecast.io/forecast/c99c5091c3a50bda392fb7850c54b4ef/33.762909,-84.422675,1459079422\n",
      "64.6\n",
      "25 Cleveland 41.478462 -81.679435 1459079422\n",
      "https://api.forecast.io/forecast/c99c5091c3a50bda392fb7850c54b4ef/41.478462,-81.679435,1459079422\n",
      "71.61\n",
      "25 Austin 30.303936 -97.754355 1459079422\n",
      "https://api.forecast.io/forecast/c99c5091c3a50bda392fb7850c54b4ef/30.303936,-97.754355,1459079422\n",
      "72.79\n",
      "25 Chicago 41.837551 -87.681844 1459079422\n",
      "https://api.forecast.io/forecast/c99c5091c3a50bda392fb7850c54b4ef/41.837551,-87.681844,1459079422\n",
      "63.9\n",
      "26 Boston 42.331960 -71.020173 1458993022\n",
      "https://api.forecast.io/forecast/c99c5091c3a50bda392fb7850c54b4ef/42.331960,-71.020173,1458993022\n",
      "39.27\n",
      "26 Atlanta 33.762909 -84.422675 1458993022\n",
      "https://api.forecast.io/forecast/c99c5091c3a50bda392fb7850c54b4ef/33.762909,-84.422675,1458993022\n",
      "64.65\n",
      "26 Cleveland 41.478462 -81.679435 1458993022\n",
      "https://api.forecast.io/forecast/c99c5091c3a50bda392fb7850c54b4ef/41.478462,-81.679435,1458993022\n",
      "33.5\n",
      "26 Austin 30.303936 -97.754355 1458993022\n",
      "https://api.forecast.io/forecast/c99c5091c3a50bda392fb7850c54b4ef/30.303936,-97.754355,1458993022\n",
      "72.83\n",
      "26 Chicago 41.837551 -87.681844 1458993022\n",
      "https://api.forecast.io/forecast/c99c5091c3a50bda392fb7850c54b4ef/41.837551,-87.681844,1458993022\n",
      "44.29\n",
      "27 Boston 42.331960 -71.020173 1458906622\n",
      "https://api.forecast.io/forecast/c99c5091c3a50bda392fb7850c54b4ef/42.331960,-71.020173,1458906622\n",
      "41.38\n",
      "27 Atlanta 33.762909 -84.422675 1458906622\n",
      "https://api.forecast.io/forecast/c99c5091c3a50bda392fb7850c54b4ef/33.762909,-84.422675,1458906622\n",
      "71.82\n",
      "27 Cleveland 41.478462 -81.679435 1458906622\n",
      "https://api.forecast.io/forecast/c99c5091c3a50bda392fb7850c54b4ef/41.478462,-81.679435,1458906622\n",
      "50.91\n",
      "27 Austin 30.303936 -97.754355 1458906622\n",
      "https://api.forecast.io/forecast/c99c5091c3a50bda392fb7850c54b4ef/30.303936,-97.754355,1458906622\n",
      "72.6\n",
      "27 Chicago 41.837551 -87.681844 1458906622\n",
      "https://api.forecast.io/forecast/c99c5091c3a50bda392fb7850c54b4ef/41.837551,-87.681844,1458906622\n",
      "35.71\n",
      "28 Boston 42.331960 -71.020173 1458820222\n",
      "https://api.forecast.io/forecast/c99c5091c3a50bda392fb7850c54b4ef/42.331960,-71.020173,1458820222\n",
      "40.3\n",
      "28 Atlanta 33.762909 -84.422675 1458820222\n",
      "https://api.forecast.io/forecast/c99c5091c3a50bda392fb7850c54b4ef/33.762909,-84.422675,1458820222\n",
      "73.41\n",
      "28 Cleveland 41.478462 -81.679435 1458820222\n",
      "https://api.forecast.io/forecast/c99c5091c3a50bda392fb7850c54b4ef/41.478462,-81.679435,1458820222\n",
      "71.92\n",
      "28 Austin 30.303936 -97.754355 1458820222\n",
      "https://api.forecast.io/forecast/c99c5091c3a50bda392fb7850c54b4ef/30.303936,-97.754355,1458820222\n",
      "69.3\n",
      "28 Chicago 41.837551 -87.681844 1458820222\n",
      "https://api.forecast.io/forecast/c99c5091c3a50bda392fb7850c54b4ef/41.837551,-87.681844,1458820222\n",
      "35.16\n",
      "29 Boston 42.331960 -71.020173 1458733822\n",
      "https://api.forecast.io/forecast/c99c5091c3a50bda392fb7850c54b4ef/42.331960,-71.020173,1458733822\n",
      "60.86\n",
      "29 Atlanta 33.762909 -84.422675 1458733822\n",
      "https://api.forecast.io/forecast/c99c5091c3a50bda392fb7850c54b4ef/33.762909,-84.422675,1458733822\n",
      "71.98\n",
      "29 Cleveland 41.478462 -81.679435 1458733822\n",
      "https://api.forecast.io/forecast/c99c5091c3a50bda392fb7850c54b4ef/41.478462,-81.679435,1458733822\n",
      "59.25\n",
      "29 Austin 30.303936 -97.754355 1458733822\n",
      "https://api.forecast.io/forecast/c99c5091c3a50bda392fb7850c54b4ef/30.303936,-97.754355,1458733822\n",
      "79.49\n",
      "29 Chicago 41.837551 -87.681844 1458733822\n",
      "https://api.forecast.io/forecast/c99c5091c3a50bda392fb7850c54b4ef/41.837551,-87.681844,1458733822\n",
      "52.16\n"
     ]
    }
   ],
   "source": [
    "cities = { \"Atlanta\": '33.762909,-84.422675',\n",
    "        \"Austin\": '30.303936,-97.754355',\n",
    "        \"Boston\": '42.331960,-71.020173',\n",
    "        \"Chicago\": '41.837551,-87.681844',\n",
    "        \"Cleveland\": '41.478462,-81.679435'\n",
    "    }\n",
    "\n",
    "# Connect to an existing database\n",
    "conn = psycopg2.connect(\"dbname=getting_started user=postgres password=Gatsby\")\n",
    "\n",
    "with conn:\n",
    "#open the cursor\n",
    "    cur = conn.cursor()\n",
    "\n",
    "# set up the tables.\n",
    "    cur.execute(\"DROP TABLE IF EXISTS weatherapi\")\n",
    "\n",
    "# CHANGED TO TEXT TYPE TO ELIMINATE INPUT ERRORS\n",
    "\n",
    "    cur.execute(\"CREATE TABLE weatherapi (id serial, \\\n",
    "    entry_date text, \\\n",
    "    utime int, \\\n",
    "    city TEXT, \\\n",
    "    maxtemp float NOT NULL DEFAULT 0);\")\n",
    "\n",
    "# Connect to an existing database\n",
    "conn = psycopg2.connect(\"dbname=getting_started user=postgres password=Gatsby\")\n",
    "\n",
    "with conn:\n",
    "#open the cursor\n",
    "    cur = conn.cursor()\n",
    "\n",
    "# start_date = datetime.datetime.now() - datetime.timedelta(days=30)\n",
    "    exec_time = datetime.datetime.now()\n",
    "    # s =(timenow - datetime.datetime(1970,1,1)).total_seconds()\n",
    "    sql = \"insert into weatherapi (utime, entry_date, maxtemp, city) values(%s, %s, %s, %s)\"\n",
    "\n",
    "    for days in range(30):\n",
    "        get_date = (exec_time - datetime.timedelta(days=days))\n",
    "        s =(get_date - datetime.datetime(1970,1,1)).total_seconds()\n",
    "        entry_date = get_date.strftime('%Y-%m-%d')\n",
    "        \n",
    "    #     print get_date\n",
    "        for key in cities:\n",
    "            lat = cities[key].split(',')[0]\n",
    "            longi = cities[key].split(',')[1]\n",
    "            s=int(s)\n",
    "            print days, key, lat, longi, s\n",
    "            reqstring = \"https://api.forecast.io/forecast/c99c5091c3a50bda392fb7850c54b4ef/\" +str(lat) + ',' + str(longi) + ',' +str(s)\n",
    "            print reqstring\n",
    "\n",
    "            r = req.get(reqstring)\n",
    "    #         print r\n",
    "\n",
    "            maxtemp = r.json()['daily']['data'][0]['apparentTemperatureMax']\n",
    "            print maxtemp\n",
    "\n",
    "            cur.execute(sql , (s, entry_date, maxtemp, key))\n",
    "        \n",
    "\n",
    "\n"
   ]
  },
  {
   "cell_type": "code",
   "execution_count": 134,
   "metadata": {
    "collapsed": false
   },
   "outputs": [],
   "source": [
    "import pandas as pd\n",
    "# Connect to an existing database\n",
    "conn = psycopg2.connect(\"dbname=getting_started user=postgres password=Gatsby\")\n",
    "\n",
    "with conn:\n",
    "#open the cursor\n",
    "    cur = conn.cursor()\n",
    "    df = pd.read_sql_query(\"SELECT * FROM weatherapi ORDER BY entry_date, city\",conn,index_col='entry_date')"
   ]
  },
  {
   "cell_type": "code",
   "execution_count": 135,
   "metadata": {
    "collapsed": false
   },
   "outputs": [
    {
     "data": {
      "text/html": [
       "<div>\n",
       "<table border=\"1\" class=\"dataframe\">\n",
       "  <thead>\n",
       "    <tr style=\"text-align: right;\">\n",
       "      <th></th>\n",
       "      <th>id</th>\n",
       "      <th>utime</th>\n",
       "      <th>city</th>\n",
       "      <th>maxtemp</th>\n",
       "    </tr>\n",
       "    <tr>\n",
       "      <th>entry_date</th>\n",
       "      <th></th>\n",
       "      <th></th>\n",
       "      <th></th>\n",
       "      <th></th>\n",
       "    </tr>\n",
       "  </thead>\n",
       "  <tbody>\n",
       "    <tr>\n",
       "      <th>2016-03-23</th>\n",
       "      <td>147</td>\n",
       "      <td>1458733822</td>\n",
       "      <td>Atlanta</td>\n",
       "      <td>71.98</td>\n",
       "    </tr>\n",
       "    <tr>\n",
       "      <th>2016-03-23</th>\n",
       "      <td>149</td>\n",
       "      <td>1458733822</td>\n",
       "      <td>Austin</td>\n",
       "      <td>79.49</td>\n",
       "    </tr>\n",
       "    <tr>\n",
       "      <th>2016-03-23</th>\n",
       "      <td>146</td>\n",
       "      <td>1458733822</td>\n",
       "      <td>Boston</td>\n",
       "      <td>60.86</td>\n",
       "    </tr>\n",
       "    <tr>\n",
       "      <th>2016-03-23</th>\n",
       "      <td>150</td>\n",
       "      <td>1458733822</td>\n",
       "      <td>Chicago</td>\n",
       "      <td>52.16</td>\n",
       "    </tr>\n",
       "    <tr>\n",
       "      <th>2016-03-23</th>\n",
       "      <td>148</td>\n",
       "      <td>1458733822</td>\n",
       "      <td>Cleveland</td>\n",
       "      <td>59.25</td>\n",
       "    </tr>\n",
       "  </tbody>\n",
       "</table>\n",
       "</div>"
      ],
      "text/plain": [
       "             id       utime       city  maxtemp\n",
       "entry_date                                     \n",
       "2016-03-23  147  1458733822    Atlanta    71.98\n",
       "2016-03-23  149  1458733822     Austin    79.49\n",
       "2016-03-23  146  1458733822     Boston    60.86\n",
       "2016-03-23  150  1458733822    Chicago    52.16\n",
       "2016-03-23  148  1458733822  Cleveland    59.25"
      ]
     },
     "execution_count": 135,
     "metadata": {},
     "output_type": "execute_result"
    }
   ],
   "source": [
    "df.head()"
   ]
  },
  {
   "cell_type": "code",
   "execution_count": null,
   "metadata": {
    "collapsed": true
   },
   "outputs": [],
   "source": [
    "df.tail()\n"
   ]
  },
  {
   "cell_type": "code",
   "execution_count": null,
   "metadata": {
    "collapsed": true
   },
   "outputs": [],
   "source": [
    "df"
   ]
  },
  {
   "cell_type": "code",
   "execution_count": null,
   "metadata": {
    "collapsed": true
   },
   "outputs": [],
   "source": [
    "df.head()"
   ]
  },
  {
   "cell_type": "code",
   "execution_count": null,
   "metadata": {
    "collapsed": true
   },
   "outputs": [],
   "source": []
  },
  {
   "cell_type": "code",
   "execution_count": null,
   "metadata": {
    "collapsed": true
   },
   "outputs": [],
   "source": []
  },
  {
   "cell_type": "code",
   "execution_count": null,
   "metadata": {
    "collapsed": true
   },
   "outputs": [],
   "source": []
  },
  {
   "cell_type": "code",
   "execution_count": null,
   "metadata": {
    "collapsed": true
   },
   "outputs": [],
   "source": []
  },
  {
   "cell_type": "code",
   "execution_count": null,
   "metadata": {
    "collapsed": true
   },
   "outputs": [],
   "source": []
  },
  {
   "cell_type": "code",
   "execution_count": null,
   "metadata": {
    "collapsed": true
   },
   "outputs": [],
   "source": []
  },
  {
   "cell_type": "code",
   "execution_count": null,
   "metadata": {
    "collapsed": true
   },
   "outputs": [],
   "source": []
  },
  {
   "cell_type": "code",
   "execution_count": null,
   "metadata": {
    "collapsed": true
   },
   "outputs": [],
   "source": [
    "'%Y-%m-%dT12:00:00'"
   ]
  },
  {
   "cell_type": "code",
   "execution_count": 127,
   "metadata": {
    "collapsed": false
   },
   "outputs": [
    {
     "data": {
      "text/plain": [
       "'2016-03-23'"
      ]
     },
     "execution_count": 127,
     "metadata": {},
     "output_type": "execute_result"
    }
   ],
   "source": [
    "get_date.strftime('%Y-%m-%d')"
   ]
  },
  {
   "cell_type": "code",
   "execution_count": null,
   "metadata": {
    "collapsed": true
   },
   "outputs": [],
   "source": []
  },
  {
   "cell_type": "code",
   "execution_count": null,
   "metadata": {
    "collapsed": true
   },
   "outputs": [],
   "source": []
  },
  {
   "cell_type": "code",
   "execution_count": null,
   "metadata": {
    "collapsed": true
   },
   "outputs": [],
   "source": []
  },
  {
   "cell_type": "code",
   "execution_count": null,
   "metadata": {
    "collapsed": true
   },
   "outputs": [],
   "source": []
  },
  {
   "cell_type": "code",
   "execution_count": null,
   "metadata": {
    "collapsed": true
   },
   "outputs": [],
   "source": []
  },
  {
   "cell_type": "code",
   "execution_count": null,
   "metadata": {
    "collapsed": true
   },
   "outputs": [],
   "source": []
  },
  {
   "cell_type": "code",
   "execution_count": null,
   "metadata": {
    "collapsed": true
   },
   "outputs": [],
   "source": []
  },
  {
   "cell_type": "code",
   "execution_count": null,
   "metadata": {
    "collapsed": true
   },
   "outputs": [],
   "source": []
  },
  {
   "cell_type": "code",
   "execution_count": null,
   "metadata": {
    "collapsed": true
   },
   "outputs": [],
   "source": []
  },
  {
   "cell_type": "code",
   "execution_count": null,
   "metadata": {
    "collapsed": true
   },
   "outputs": [],
   "source": []
  },
  {
   "cell_type": "code",
   "execution_count": null,
   "metadata": {
    "collapsed": true
   },
   "outputs": [],
   "source": []
  },
  {
   "cell_type": "code",
   "execution_count": null,
   "metadata": {
    "collapsed": true
   },
   "outputs": [],
   "source": []
  },
  {
   "cell_type": "code",
   "execution_count": 106,
   "metadata": {
    "collapsed": false
   },
   "outputs": [
    {
     "data": {
      "text/plain": [
       "'<html>\\r\\n<head><title>400 Bad Request</title></head>\\r\\n<body bgcolor=\"white\">\\r\\n<center><h1>400 Bad Request</h1></center>\\r\\n<hr><center>nginx/1.4.6 (Ubuntu)</center>\\r\\n</body>\\r\\n</html>\\r\\n'"
      ]
     },
     "execution_count": 106,
     "metadata": {},
     "output_type": "execute_result"
    }
   ],
   "source": [
    "r.content"
   ]
  },
  {
   "cell_type": "code",
   "execution_count": null,
   "metadata": {
    "collapsed": true
   },
   "outputs": [],
   "source": []
  },
  {
   "cell_type": "code",
   "execution_count": null,
   "metadata": {
    "collapsed": true
   },
   "outputs": [],
   "source": []
  },
  {
   "cell_type": "code",
   "execution_count": null,
   "metadata": {
    "collapsed": true
   },
   "outputs": [],
   "source": []
  },
  {
   "cell_type": "code",
   "execution_count": null,
   "metadata": {
    "collapsed": true
   },
   "outputs": [],
   "source": []
  },
  {
   "cell_type": "code",
   "execution_count": null,
   "metadata": {
    "collapsed": true
   },
   "outputs": [],
   "source": []
  },
  {
   "cell_type": "code",
   "execution_count": null,
   "metadata": {
    "collapsed": true
   },
   "outputs": [],
   "source": []
  },
  {
   "cell_type": "code",
   "execution_count": null,
   "metadata": {
    "collapsed": true
   },
   "outputs": [],
   "source": []
  },
  {
   "cell_type": "code",
   "execution_count": null,
   "metadata": {
    "collapsed": true
   },
   "outputs": [],
   "source": []
  },
  {
   "cell_type": "code",
   "execution_count": null,
   "metadata": {
    "collapsed": true
   },
   "outputs": [],
   "source": []
  },
  {
   "cell_type": "code",
   "execution_count": null,
   "metadata": {
    "collapsed": true
   },
   "outputs": [],
   "source": []
  },
  {
   "cell_type": "code",
   "execution_count": null,
   "metadata": {
    "collapsed": true
   },
   "outputs": [],
   "source": []
  },
  {
   "cell_type": "code",
   "execution_count": null,
   "metadata": {
    "collapsed": true
   },
   "outputs": [],
   "source": []
  },
  {
   "cell_type": "code",
   "execution_count": null,
   "metadata": {
    "collapsed": true
   },
   "outputs": [],
   "source": []
  },
  {
   "cell_type": "code",
   "execution_count": null,
   "metadata": {
    "collapsed": true
   },
   "outputs": [],
   "source": []
  },
  {
   "cell_type": "code",
   "execution_count": null,
   "metadata": {
    "collapsed": true
   },
   "outputs": [],
   "source": []
  },
  {
   "cell_type": "code",
   "execution_count": null,
   "metadata": {
    "collapsed": true
   },
   "outputs": [],
   "source": []
  },
  {
   "cell_type": "code",
   "execution_count": null,
   "metadata": {
    "collapsed": true
   },
   "outputs": [],
   "source": []
  },
  {
   "cell_type": "code",
   "execution_count": null,
   "metadata": {
    "collapsed": true
   },
   "outputs": [],
   "source": []
  },
  {
   "cell_type": "code",
   "execution_count": null,
   "metadata": {
    "collapsed": true
   },
   "outputs": [],
   "source": []
  },
  {
   "cell_type": "code",
   "execution_count": null,
   "metadata": {
    "collapsed": true
   },
   "outputs": [],
   "source": []
  },
  {
   "cell_type": "code",
   "execution_count": null,
   "metadata": {
    "collapsed": true
   },
   "outputs": [],
   "source": []
  },
  {
   "cell_type": "code",
   "execution_count": null,
   "metadata": {
    "collapsed": true
   },
   "outputs": [],
   "source": []
  },
  {
   "cell_type": "code",
   "execution_count": null,
   "metadata": {
    "collapsed": true
   },
   "outputs": [],
   "source": []
  },
  {
   "cell_type": "code",
   "execution_count": null,
   "metadata": {
    "collapsed": true
   },
   "outputs": [],
   "source": []
  },
  {
   "cell_type": "code",
   "execution_count": null,
   "metadata": {
    "collapsed": true
   },
   "outputs": [],
   "source": []
  },
  {
   "cell_type": "code",
   "execution_count": null,
   "metadata": {
    "collapsed": true
   },
   "outputs": [],
   "source": []
  },
  {
   "cell_type": "code",
   "execution_count": null,
   "metadata": {
    "collapsed": true
   },
   "outputs": [],
   "source": []
  },
  {
   "cell_type": "code",
   "execution_count": null,
   "metadata": {
    "collapsed": true
   },
   "outputs": [],
   "source": []
  },
  {
   "cell_type": "code",
   "execution_count": null,
   "metadata": {
    "collapsed": true
   },
   "outputs": [],
   "source": []
  },
  {
   "cell_type": "code",
   "execution_count": null,
   "metadata": {
    "collapsed": true
   },
   "outputs": [],
   "source": []
  },
  {
   "cell_type": "code",
   "execution_count": null,
   "metadata": {
    "collapsed": true
   },
   "outputs": [],
   "source": []
  },
  {
   "cell_type": "code",
   "execution_count": null,
   "metadata": {
    "collapsed": true
   },
   "outputs": [],
   "source": []
  },
  {
   "cell_type": "code",
   "execution_count": null,
   "metadata": {
    "collapsed": true
   },
   "outputs": [],
   "source": []
  },
  {
   "cell_type": "code",
   "execution_count": null,
   "metadata": {
    "collapsed": true
   },
   "outputs": [],
   "source": []
  },
  {
   "cell_type": "code",
   "execution_count": null,
   "metadata": {
    "collapsed": true
   },
   "outputs": [],
   "source": []
  },
  {
   "cell_type": "code",
   "execution_count": null,
   "metadata": {
    "collapsed": true
   },
   "outputs": [],
   "source": [
    "# for each day in last 30 days\n",
    "#     for each city in thelist\n",
    "#         get the data\n",
    "#             store the city - time and max temp"
   ]
  },
  {
   "cell_type": "code",
   "execution_count": null,
   "metadata": {
    "collapsed": true
   },
   "outputs": [],
   "source": []
  },
  {
   "cell_type": "code",
   "execution_count": null,
   "metadata": {
    "collapsed": true
   },
   "outputs": [],
   "source": []
  },
  {
   "cell_type": "code",
   "execution_count": null,
   "metadata": {
    "collapsed": true
   },
   "outputs": [],
   "source": []
  },
  {
   "cell_type": "code",
   "execution_count": null,
   "metadata": {
    "collapsed": true
   },
   "outputs": [],
   "source": []
  },
  {
   "cell_type": "code",
   "execution_count": null,
   "metadata": {
    "collapsed": true
   },
   "outputs": [],
   "source": []
  },
  {
   "cell_type": "code",
   "execution_count": null,
   "metadata": {
    "collapsed": true
   },
   "outputs": [],
   "source": []
  },
  {
   "cell_type": "code",
   "execution_count": null,
   "metadata": {
    "collapsed": true
   },
   "outputs": [],
   "source": []
  },
  {
   "cell_type": "code",
   "execution_count": null,
   "metadata": {
    "collapsed": true
   },
   "outputs": [],
   "source": []
  },
  {
   "cell_type": "code",
   "execution_count": null,
   "metadata": {
    "collapsed": true
   },
   "outputs": [],
   "source": []
  },
  {
   "cell_type": "code",
   "execution_count": null,
   "metadata": {
    "collapsed": true
   },
   "outputs": [],
   "source": []
  },
  {
   "cell_type": "code",
   "execution_count": null,
   "metadata": {
    "collapsed": true
   },
   "outputs": [],
   "source": []
  },
  {
   "cell_type": "code",
   "execution_count": null,
   "metadata": {
    "collapsed": true
   },
   "outputs": [],
   "source": []
  },
  {
   "cell_type": "code",
   "execution_count": null,
   "metadata": {
    "collapsed": true
   },
   "outputs": [],
   "source": []
  },
  {
   "cell_type": "code",
   "execution_count": null,
   "metadata": {
    "collapsed": true
   },
   "outputs": [],
   "source": []
  },
  {
   "cell_type": "code",
   "execution_count": 30,
   "metadata": {
    "collapsed": false
   },
   "outputs": [
    {
     "data": {
      "text/plain": [
       "<Response [400]>"
      ]
     },
     "execution_count": 30,
     "metadata": {},
     "output_type": "execute_result"
    }
   ],
   "source": [
    "r"
   ]
  },
  {
   "cell_type": "code",
   "execution_count": null,
   "metadata": {
    "collapsed": true
   },
   "outputs": [],
   "source": []
  },
  {
   "cell_type": "code",
   "execution_count": 29,
   "metadata": {
    "collapsed": false
   },
   "outputs": [
    {
     "ename": "ValueError",
     "evalue": "No JSON object could be decoded",
     "output_type": "error",
     "traceback": [
      "\u001b[1;31m---------------------------------------------------------------------------\u001b[0m",
      "\u001b[1;31mValueError\u001b[0m                                Traceback (most recent call last)",
      "\u001b[1;32m<ipython-input-29-03674b159cb8>\u001b[0m in \u001b[0;36m<module>\u001b[1;34m()\u001b[0m\n\u001b[1;32m----> 1\u001b[1;33m \u001b[0mr\u001b[0m\u001b[1;33m.\u001b[0m\u001b[0mjson\u001b[0m\u001b[1;33m(\u001b[0m\u001b[1;33m)\u001b[0m\u001b[1;33m.\u001b[0m\u001b[0mkeys\u001b[0m\u001b[1;33m(\u001b[0m\u001b[1;33m)\u001b[0m\u001b[1;33m\u001b[0m\u001b[0m\n\u001b[0m",
      "\u001b[1;32mC:\\Users\\bob071988\\Anaconda2\\lib\\site-packages\\requests\\models.pyc\u001b[0m in \u001b[0;36mjson\u001b[1;34m(self, **kwargs)\u001b[0m\n\u001b[0;32m    806\u001b[0m                     \u001b[1;31m# used.\u001b[0m\u001b[1;33m\u001b[0m\u001b[1;33m\u001b[0m\u001b[0m\n\u001b[0;32m    807\u001b[0m                     \u001b[1;32mpass\u001b[0m\u001b[1;33m\u001b[0m\u001b[0m\n\u001b[1;32m--> 808\u001b[1;33m         \u001b[1;32mreturn\u001b[0m \u001b[0mcomplexjson\u001b[0m\u001b[1;33m.\u001b[0m\u001b[0mloads\u001b[0m\u001b[1;33m(\u001b[0m\u001b[0mself\u001b[0m\u001b[1;33m.\u001b[0m\u001b[0mtext\u001b[0m\u001b[1;33m,\u001b[0m \u001b[1;33m**\u001b[0m\u001b[0mkwargs\u001b[0m\u001b[1;33m)\u001b[0m\u001b[1;33m\u001b[0m\u001b[0m\n\u001b[0m\u001b[0;32m    809\u001b[0m \u001b[1;33m\u001b[0m\u001b[0m\n\u001b[0;32m    810\u001b[0m     \u001b[1;33m@\u001b[0m\u001b[0mproperty\u001b[0m\u001b[1;33m\u001b[0m\u001b[0m\n",
      "\u001b[1;32mC:\\Users\\bob071988\\Anaconda2\\lib\\json\\__init__.pyc\u001b[0m in \u001b[0;36mloads\u001b[1;34m(s, encoding, cls, object_hook, parse_float, parse_int, parse_constant, object_pairs_hook, **kw)\u001b[0m\n\u001b[0;32m    337\u001b[0m             \u001b[0mparse_int\u001b[0m \u001b[1;32mis\u001b[0m \u001b[0mNone\u001b[0m \u001b[1;32mand\u001b[0m \u001b[0mparse_float\u001b[0m \u001b[1;32mis\u001b[0m \u001b[0mNone\u001b[0m \u001b[1;32mand\u001b[0m\u001b[1;33m\u001b[0m\u001b[0m\n\u001b[0;32m    338\u001b[0m             parse_constant is None and object_pairs_hook is None and not kw):\n\u001b[1;32m--> 339\u001b[1;33m         \u001b[1;32mreturn\u001b[0m \u001b[0m_default_decoder\u001b[0m\u001b[1;33m.\u001b[0m\u001b[0mdecode\u001b[0m\u001b[1;33m(\u001b[0m\u001b[0ms\u001b[0m\u001b[1;33m)\u001b[0m\u001b[1;33m\u001b[0m\u001b[0m\n\u001b[0m\u001b[0;32m    340\u001b[0m     \u001b[1;32mif\u001b[0m \u001b[0mcls\u001b[0m \u001b[1;32mis\u001b[0m \u001b[0mNone\u001b[0m\u001b[1;33m:\u001b[0m\u001b[1;33m\u001b[0m\u001b[0m\n\u001b[0;32m    341\u001b[0m         \u001b[0mcls\u001b[0m \u001b[1;33m=\u001b[0m \u001b[0mJSONDecoder\u001b[0m\u001b[1;33m\u001b[0m\u001b[0m\n",
      "\u001b[1;32mC:\\Users\\bob071988\\Anaconda2\\lib\\json\\decoder.pyc\u001b[0m in \u001b[0;36mdecode\u001b[1;34m(self, s, _w)\u001b[0m\n\u001b[0;32m    362\u001b[0m \u001b[1;33m\u001b[0m\u001b[0m\n\u001b[0;32m    363\u001b[0m         \"\"\"\n\u001b[1;32m--> 364\u001b[1;33m         \u001b[0mobj\u001b[0m\u001b[1;33m,\u001b[0m \u001b[0mend\u001b[0m \u001b[1;33m=\u001b[0m \u001b[0mself\u001b[0m\u001b[1;33m.\u001b[0m\u001b[0mraw_decode\u001b[0m\u001b[1;33m(\u001b[0m\u001b[0ms\u001b[0m\u001b[1;33m,\u001b[0m \u001b[0midx\u001b[0m\u001b[1;33m=\u001b[0m\u001b[0m_w\u001b[0m\u001b[1;33m(\u001b[0m\u001b[0ms\u001b[0m\u001b[1;33m,\u001b[0m \u001b[1;36m0\u001b[0m\u001b[1;33m)\u001b[0m\u001b[1;33m.\u001b[0m\u001b[0mend\u001b[0m\u001b[1;33m(\u001b[0m\u001b[1;33m)\u001b[0m\u001b[1;33m)\u001b[0m\u001b[1;33m\u001b[0m\u001b[0m\n\u001b[0m\u001b[0;32m    365\u001b[0m         \u001b[0mend\u001b[0m \u001b[1;33m=\u001b[0m \u001b[0m_w\u001b[0m\u001b[1;33m(\u001b[0m\u001b[0ms\u001b[0m\u001b[1;33m,\u001b[0m \u001b[0mend\u001b[0m\u001b[1;33m)\u001b[0m\u001b[1;33m.\u001b[0m\u001b[0mend\u001b[0m\u001b[1;33m(\u001b[0m\u001b[1;33m)\u001b[0m\u001b[1;33m\u001b[0m\u001b[0m\n\u001b[0;32m    366\u001b[0m         \u001b[1;32mif\u001b[0m \u001b[0mend\u001b[0m \u001b[1;33m!=\u001b[0m \u001b[0mlen\u001b[0m\u001b[1;33m(\u001b[0m\u001b[0ms\u001b[0m\u001b[1;33m)\u001b[0m\u001b[1;33m:\u001b[0m\u001b[1;33m\u001b[0m\u001b[0m\n",
      "\u001b[1;32mC:\\Users\\bob071988\\Anaconda2\\lib\\json\\decoder.pyc\u001b[0m in \u001b[0;36mraw_decode\u001b[1;34m(self, s, idx)\u001b[0m\n\u001b[0;32m    380\u001b[0m             \u001b[0mobj\u001b[0m\u001b[1;33m,\u001b[0m \u001b[0mend\u001b[0m \u001b[1;33m=\u001b[0m \u001b[0mself\u001b[0m\u001b[1;33m.\u001b[0m\u001b[0mscan_once\u001b[0m\u001b[1;33m(\u001b[0m\u001b[0ms\u001b[0m\u001b[1;33m,\u001b[0m \u001b[0midx\u001b[0m\u001b[1;33m)\u001b[0m\u001b[1;33m\u001b[0m\u001b[0m\n\u001b[0;32m    381\u001b[0m         \u001b[1;32mexcept\u001b[0m \u001b[0mStopIteration\u001b[0m\u001b[1;33m:\u001b[0m\u001b[1;33m\u001b[0m\u001b[0m\n\u001b[1;32m--> 382\u001b[1;33m             \u001b[1;32mraise\u001b[0m \u001b[0mValueError\u001b[0m\u001b[1;33m(\u001b[0m\u001b[1;34m\"No JSON object could be decoded\"\u001b[0m\u001b[1;33m)\u001b[0m\u001b[1;33m\u001b[0m\u001b[0m\n\u001b[0m\u001b[0;32m    383\u001b[0m         \u001b[1;32mreturn\u001b[0m \u001b[0mobj\u001b[0m\u001b[1;33m,\u001b[0m \u001b[0mend\u001b[0m\u001b[1;33m\u001b[0m\u001b[0m\n",
      "\u001b[1;31mValueError\u001b[0m: No JSON object could be decoded"
     ]
    }
   ],
   "source": [
    "r.json().keys()"
   ]
  },
  {
   "cell_type": "code",
   "execution_count": null,
   "metadata": {
    "collapsed": true
   },
   "outputs": [],
   "source": []
  },
  {
   "cell_type": "code",
   "execution_count": null,
   "metadata": {
    "collapsed": true
   },
   "outputs": [],
   "source": []
  },
  {
   "cell_type": "code",
   "execution_count": 26,
   "metadata": {
    "collapsed": false
   },
   "outputs": [
    {
     "data": {
      "text/plain": [
       "<Response [400]>"
      ]
     },
     "execution_count": 26,
     "metadata": {},
     "output_type": "execute_result"
    }
   ],
   "source": [
    "r"
   ]
  },
  {
   "cell_type": "code",
   "execution_count": null,
   "metadata": {
    "collapsed": true
   },
   "outputs": [],
   "source": []
  },
  {
   "cell_type": "code",
   "execution_count": null,
   "metadata": {
    "collapsed": true
   },
   "outputs": [],
   "source": []
  },
  {
   "cell_type": "code",
   "execution_count": null,
   "metadata": {
    "collapsed": true
   },
   "outputs": [],
   "source": []
  },
  {
   "cell_type": "code",
   "execution_count": null,
   "metadata": {
    "collapsed": true
   },
   "outputs": [],
   "source": []
  },
  {
   "cell_type": "code",
   "execution_count": 8,
   "metadata": {
    "collapsed": false
   },
   "outputs": [
    {
     "ename": "AttributeError",
     "evalue": "'datetime.datetime' object has no attribute 'total_seconds'",
     "output_type": "error",
     "traceback": [
      "\u001b[1;31m---------------------------------------------------------------------------\u001b[0m",
      "\u001b[1;31mAttributeError\u001b[0m                            Traceback (most recent call last)",
      "\u001b[1;32m<ipython-input-8-94baab2f4a9f>\u001b[0m in \u001b[0;36m<module>\u001b[1;34m()\u001b[0m\n\u001b[1;32m----> 1\u001b[1;33m \u001b[0msecnow\u001b[0m \u001b[1;33m=\u001b[0m \u001b[0mdatetime\u001b[0m\u001b[1;33m.\u001b[0m\u001b[0mdatetime\u001b[0m\u001b[1;33m(\u001b[0m\u001b[1;36m1970\u001b[0m\u001b[1;33m,\u001b[0m\u001b[1;36m1\u001b[0m\u001b[1;33m,\u001b[0m\u001b[1;36m1\u001b[0m\u001b[1;33m)\u001b[0m\u001b[1;33m.\u001b[0m\u001b[0mtotal_seconds\u001b[0m\u001b[1;33m(\u001b[0m\u001b[1;33m)\u001b[0m\u001b[1;33m\u001b[0m\u001b[0m\n\u001b[0m",
      "\u001b[1;31mAttributeError\u001b[0m: 'datetime.datetime' object has no attribute 'total_seconds'"
     ]
    }
   ],
   "source": [
    "secnow = datetime.datetime(1970,1,1).total_seconds()\n"
   ]
  },
  {
   "cell_type": "code",
   "execution_count": 19,
   "metadata": {
    "collapsed": true
   },
   "outputs": [],
   "source": [
    "cities = { \"Atlanta\": '33.762909,-84.422675',\n",
    "        \"Austin\": '30.303936,-97.754355',\n",
    "        \"Boston\": '42.331960,-71.020173',\n",
    "        \"Chicago\": '41.837551,-87.681844',\n",
    "        \"Cleveland\": '41.478462,-81.679435'\n",
    "    }"
   ]
  },
  {
   "cell_type": "code",
   "execution_count": null,
   "metadata": {
    "collapsed": true
   },
   "outputs": [],
   "source": []
  },
  {
   "cell_type": "code",
   "execution_count": null,
   "metadata": {
    "collapsed": true
   },
   "outputs": [],
   "source": []
  },
  {
   "cell_type": "code",
   "execution_count": null,
   "metadata": {
    "collapsed": true
   },
   "outputs": [],
   "source": []
  },
  {
   "cell_type": "code",
   "execution_count": null,
   "metadata": {
    "collapsed": true
   },
   "outputs": [],
   "source": []
  },
  {
   "cell_type": "code",
   "execution_count": 9,
   "metadata": {
    "collapsed": true
   },
   "outputs": [],
   "source": [
    "# class datetime.datetime\n",
    "# A combination of a date and a time. Attributes: year, month, day, hour, minute, second, microsecond, and tzinfo."
   ]
  },
  {
   "cell_type": "code",
   "execution_count": 10,
   "metadata": {
    "collapsed": true
   },
   "outputs": [],
   "source": [
    "# https://api.forecast.io/forecast/APIKEY/LATITUDE,LONGITUDE,TIME\n",
    "# \"YYYY-MM-DDThh:mm:ss\"."
   ]
  },
  {
   "cell_type": "code",
   "execution_count": 11,
   "metadata": {
    "collapsed": false
   },
   "outputs": [
    {
     "ename": "SyntaxError",
     "evalue": "invalid syntax (<ipython-input-11-ab1dc5a521ab>, line 1)",
     "output_type": "error",
     "traceback": [
      "\u001b[1;36m  File \u001b[1;32m\"<ipython-input-11-ab1dc5a521ab>\"\u001b[1;36m, line \u001b[1;32m1\u001b[0m\n\u001b[1;33m    mytime =\u001b[0m\n\u001b[1;37m             ^\u001b[0m\n\u001b[1;31mSyntaxError\u001b[0m\u001b[1;31m:\u001b[0m invalid syntax\n"
     ]
    }
   ],
   "source": [
    "mytime = "
   ]
  },
  {
   "cell_type": "code",
   "execution_count": 12,
   "metadata": {
    "collapsed": false
   },
   "outputs": [
    {
     "ename": "KeyError",
     "evalue": "'%A'",
     "output_type": "error",
     "traceback": [
      "\u001b[1;31m---------------------------------------------------------------------------\u001b[0m",
      "\u001b[1;31mKeyError\u001b[0m                                  Traceback (most recent call last)",
      "\u001b[1;32m<ipython-input-12-6ff9bd911edb>\u001b[0m in \u001b[0;36m<module>\u001b[1;34m()\u001b[0m\n\u001b[1;32m----> 1\u001b[1;33m \u001b[0mmytime\u001b[0m \u001b[1;33m=\u001b[0m \u001b[1;34m\"{%A}-{%d}-{%Y}T{%H}:{%M}:{%S}\"\u001b[0m\u001b[1;33m.\u001b[0m\u001b[0mformat\u001b[0m\u001b[1;33m(\u001b[0m\u001b[0mdatetime\u001b[0m\u001b[1;33m.\u001b[0m\u001b[0mdatetime\u001b[0m\u001b[1;33m.\u001b[0m\u001b[0mnow\u001b[0m\u001b[1;33m(\u001b[0m\u001b[1;33m)\u001b[0m\u001b[1;33m)\u001b[0m\u001b[1;33m\u001b[0m\u001b[0m\n\u001b[0m",
      "\u001b[1;31mKeyError\u001b[0m: '%A'"
     ]
    }
   ],
   "source": [
    "mytime = \"{%A}-{%d}-{%Y}T{%H}:{%M}:{%S}\".format(datetime.datetime.now())"
   ]
  },
  {
   "cell_type": "code",
   "execution_count": 13,
   "metadata": {
    "collapsed": false
   },
   "outputs": [
    {
     "data": {
      "text/plain": [
       "'06:58:06'"
      ]
     },
     "execution_count": 13,
     "metadata": {},
     "output_type": "execute_result"
    }
   ],
   "source": [
    "timenow.strftime(\"%H:%M:%S\")"
   ]
  },
  {
   "cell_type": "code",
   "execution_count": null,
   "metadata": {
    "collapsed": true
   },
   "outputs": [],
   "source": []
  },
  {
   "cell_type": "code",
   "execution_count": null,
   "metadata": {
    "collapsed": true
   },
   "outputs": [],
   "source": []
  },
  {
   "cell_type": "code",
   "execution_count": null,
   "metadata": {
    "collapsed": true
   },
   "outputs": [],
   "source": []
  },
  {
   "cell_type": "code",
   "execution_count": null,
   "metadata": {
    "collapsed": true
   },
   "outputs": [],
   "source": []
  },
  {
   "cell_type": "code",
   "execution_count": 14,
   "metadata": {
    "collapsed": false
   },
   "outputs": [
    {
     "data": {
      "text/plain": [
       "1"
      ]
     },
     "execution_count": 14,
     "metadata": {},
     "output_type": "execute_result"
    }
   ],
   "source": [
    "x = (1,2,3)\n",
    "x[0]"
   ]
  },
  {
   "cell_type": "code",
   "execution_count": null,
   "metadata": {
    "collapsed": true
   },
   "outputs": [],
   "source": []
  },
  {
   "cell_type": "code",
   "execution_count": null,
   "metadata": {
    "collapsed": true
   },
   "outputs": [],
   "source": []
  }
 ],
 "metadata": {
  "kernelspec": {
   "display_name": "Python 2",
   "language": "python",
   "name": "python2"
  },
  "language_info": {
   "codemirror_mode": {
    "name": "ipython",
    "version": 2
   },
   "file_extension": ".py",
   "mimetype": "text/x-python",
   "name": "python",
   "nbconvert_exporter": "python",
   "pygments_lexer": "ipython2",
   "version": "2.7.11"
  }
 },
 "nbformat": 4,
 "nbformat_minor": 0
}
