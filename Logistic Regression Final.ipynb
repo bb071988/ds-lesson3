{
 "cells": [
  {
   "cell_type": "code",
   "execution_count": 151,
   "metadata": {
    "collapsed": true
   },
   "outputs": [],
   "source": [
    "%matplotlib inline"
   ]
  },
  {
   "cell_type": "code",
   "execution_count": 152,
   "metadata": {
    "collapsed": true
   },
   "outputs": [],
   "source": [
    "import matplotlib.pyplot as plt\n",
    "import numpy as np"
   ]
  },
  {
   "cell_type": "code",
   "execution_count": 153,
   "metadata": {
    "collapsed": true
   },
   "outputs": [],
   "source": [
    "import logreg as lr  ## created a .py file to do cleanup and run basic models.   \n",
    "#jupyter seems better for playing with the models once we have them."
   ]
  },
  {
   "cell_type": "code",
   "execution_count": 154,
   "metadata": {
    "collapsed": false
   },
   "outputs": [
    {
     "data": {
      "text/plain": [
       "<module 'logreg' from 'logreg.py'>"
      ]
     },
     "execution_count": 154,
     "metadata": {},
     "output_type": "execute_result"
    }
   ],
   "source": [
    "reload(lr)"
   ]
  },
  {
   "cell_type": "code",
   "execution_count": 155,
   "metadata": {
    "collapsed": false
   },
   "outputs": [
    {
     "name": "stdout",
     "output_type": "stream",
     "text": [
      "Optimization terminated successfully.\n",
      "         Current function value: 0.319276\n",
      "         Iterations 8\n",
      "FICO.Score          -0.087480\n",
      "Amount.Requested     0.000174\n",
      "constant            60.171952\n",
      "dtype: float64\n",
      "                           Logit Regression Results                           \n",
      "==============================================================================\n",
      "Dep. Variable:                  IR_TF   No. Observations:                 2498\n",
      "Model:                          Logit   Df Residuals:                     2495\n",
      "Method:                           MLE   Df Model:                            2\n",
      "Date:                Sun, 28 Feb 2016   Pseudo R-squ.:                  0.5245\n",
      "Time:                        20:37:44   Log-Likelihood:                -797.55\n",
      "converged:                       True   LL-Null:                       -1677.4\n",
      "                                        LLR p-value:                     0.000\n",
      "====================================================================================\n",
      "                       coef    std err          z      P>|z|      [95.0% Conf. Int.]\n",
      "------------------------------------------------------------------------------------\n",
      "FICO.Score          -0.0875      0.004    -24.778      0.000        -0.094    -0.081\n",
      "Amount.Requested     0.0002    1.1e-05     15.787      0.000         0.000     0.000\n",
      "constant            60.1720      2.422     24.839      0.000        55.424    64.920\n",
      "====================================================================================\n",
      "The logit regression predicts the likelihood our interest rate will\n",
      "be > 12 percent with fico 750 and loan amount $10,000 as [ 1.]\n",
      "                            OLS Regression Results                            \n",
      "==============================================================================\n",
      "Dep. Variable:                      y   R-squared:                       0.657\n",
      "Model:                            OLS   Adj. R-squared:                  0.657\n",
      "Method:                 Least Squares   F-statistic:                     2389.\n",
      "Date:                Sun, 28 Feb 2016   Prob (F-statistic):               0.00\n",
      "Time:                        20:37:44   Log-Likelihood:                 5724.1\n",
      "No. Observations:                2498   AIC:                        -1.144e+04\n",
      "Df Residuals:                    2495   BIC:                        -1.142e+04\n",
      "Df Model:                           2                                         \n",
      "Covariance Type:            nonrobust                                         \n",
      "==============================================================================\n",
      "                 coef    std err          t      P>|t|      [95.0% Conf. Int.]\n",
      "------------------------------------------------------------------------------\n",
      "const          0.7299      0.010     73.765      0.000         0.710     0.749\n",
      "x1            -0.0009    1.4e-05    -63.059      0.000        -0.001    -0.001\n",
      "x2          2.108e-06    6.3e-08     33.457      0.000      1.98e-06  2.23e-06\n",
      "==============================================================================\n",
      "Omnibus:                       69.899   Durbin-Watson:                   1.978\n",
      "Prob(Omnibus):                  0.000   Jarque-Bera (JB):               78.457\n",
      "Skew:                           0.380   Prob(JB):                     9.19e-18\n",
      "Kurtosis:                       3.421   Cond. No.                     2.96e+05\n",
      "==============================================================================\n",
      "\n",
      "Warnings:\n",
      "[1] Standard Errors assume that the covariance matrix of the errors is correctly specified.\n",
      "[2] The condition number is large, 2.96e+05. This might indicate that there are\n",
      "strong multicollinearity or other numerical problems.\n",
      "The linear regression model predicts interest rate of [ 0.0865093] \n",
      "with fico 750 and loan amount 10,000\n",
      "       Amount.Requested  Amount.Funded.By.Investors  Interest.Rate  \\\n",
      "81174             20000                       20000         0.0890   \n",
      "99592             19200                       19200         0.1212   \n",
      "80059             35000                       35000         0.2198   \n",
      "15825             10000                        9975         0.0999   \n",
      "33182             12000                       12000         0.1171   \n",
      "\n",
      "      Loan.Length        Loan.Purpose Debt.To.Income.Ratio State  \\\n",
      "81174   36 months  debt_consolidation               14.90%    SC   \n",
      "99592   36 months  debt_consolidation               28.36%    TX   \n",
      "80059   60 months  debt_consolidation               23.81%    CA   \n",
      "15825   36 months  debt_consolidation               14.30%    KS   \n",
      "33182   36 months         credit_card               18.78%    NJ   \n",
      "\n",
      "      Home.Ownership  Monthly.Income FICO.Range  Open.CREDIT.Lines  \\\n",
      "81174       MORTGAGE         6541.67    735-739                 14   \n",
      "99592       MORTGAGE         4583.33    715-719                 12   \n",
      "80059       MORTGAGE        11500.00    690-694                 14   \n",
      "15825       MORTGAGE         3833.33    695-699                 10   \n",
      "33182           RENT         3195.00    695-699                 11   \n",
      "\n",
      "       Revolving.CREDIT.Balance  Inquiries.in.the.Last.6.Months  \\\n",
      "81174                     14272                               2   \n",
      "99592                     11140                               1   \n",
      "80059                     21977                               1   \n",
      "15825                      9346                               0   \n",
      "33182                     14469                               0   \n",
      "\n",
      "      Employment.Length  FICO.Score  IR_TF  constant  \n",
      "81174          < 1 year         735  False         1  \n",
      "99592           2 years         715   True         1  \n",
      "80059           2 years         690   True         1  \n",
      "15825           5 years         695  False         1  \n",
      "33182           9 years         695  False         1  \n"
     ]
    }
   ],
   "source": [
    "df, linmodel, logmodel = lr.analyze_it() # get the models from the import"
   ]
  },
  {
   "cell_type": "code",
   "execution_count": 156,
   "metadata": {
    "collapsed": false
   },
   "outputs": [
    {
     "data": {
      "text/html": [
       "<table class=\"simpletable\">\n",
       "<caption>OLS Regression Results</caption>\n",
       "<tr>\n",
       "  <th>Dep. Variable:</th>            <td>y</td>        <th>  R-squared:         </th>  <td>   0.657</td> \n",
       "</tr>\n",
       "<tr>\n",
       "  <th>Model:</th>                   <td>OLS</td>       <th>  Adj. R-squared:    </th>  <td>   0.657</td> \n",
       "</tr>\n",
       "<tr>\n",
       "  <th>Method:</th>             <td>Least Squares</td>  <th>  F-statistic:       </th>  <td>   2389.</td> \n",
       "</tr>\n",
       "<tr>\n",
       "  <th>Date:</th>             <td>Sun, 28 Feb 2016</td> <th>  Prob (F-statistic):</th>   <td>  0.00</td>  \n",
       "</tr>\n",
       "<tr>\n",
       "  <th>Time:</th>                 <td>20:37:44</td>     <th>  Log-Likelihood:    </th>  <td>  5724.1</td> \n",
       "</tr>\n",
       "<tr>\n",
       "  <th>No. Observations:</th>      <td>  2498</td>      <th>  AIC:               </th> <td>-1.144e+04</td>\n",
       "</tr>\n",
       "<tr>\n",
       "  <th>Df Residuals:</th>          <td>  2495</td>      <th>  BIC:               </th> <td>-1.142e+04</td>\n",
       "</tr>\n",
       "<tr>\n",
       "  <th>Df Model:</th>              <td>     2</td>      <th>                     </th>      <td> </td>    \n",
       "</tr>\n",
       "<tr>\n",
       "  <th>Covariance Type:</th>      <td>nonrobust</td>    <th>                     </th>      <td> </td>    \n",
       "</tr>\n",
       "</table>\n",
       "<table class=\"simpletable\">\n",
       "<tr>\n",
       "    <td></td>       <th>coef</th>     <th>std err</th>      <th>t</th>      <th>P>|t|</th> <th>[95.0% Conf. Int.]</th> \n",
       "</tr>\n",
       "<tr>\n",
       "  <th>const</th> <td>    0.7299</td> <td>    0.010</td> <td>   73.765</td> <td> 0.000</td> <td>    0.710     0.749</td>\n",
       "</tr>\n",
       "<tr>\n",
       "  <th>x1</th>    <td>   -0.0009</td> <td>  1.4e-05</td> <td>  -63.059</td> <td> 0.000</td> <td>   -0.001    -0.001</td>\n",
       "</tr>\n",
       "<tr>\n",
       "  <th>x2</th>    <td> 2.108e-06</td> <td>  6.3e-08</td> <td>   33.457</td> <td> 0.000</td> <td> 1.98e-06  2.23e-06</td>\n",
       "</tr>\n",
       "</table>\n",
       "<table class=\"simpletable\">\n",
       "<tr>\n",
       "  <th>Omnibus:</th>       <td>69.899</td> <th>  Durbin-Watson:     </th> <td>   1.978</td>\n",
       "</tr>\n",
       "<tr>\n",
       "  <th>Prob(Omnibus):</th> <td> 0.000</td> <th>  Jarque-Bera (JB):  </th> <td>  78.457</td>\n",
       "</tr>\n",
       "<tr>\n",
       "  <th>Skew:</th>          <td> 0.380</td> <th>  Prob(JB):          </th> <td>9.19e-18</td>\n",
       "</tr>\n",
       "<tr>\n",
       "  <th>Kurtosis:</th>      <td> 3.421</td> <th>  Cond. No.          </th> <td>2.96e+05</td>\n",
       "</tr>\n",
       "</table>"
      ],
      "text/plain": [
       "<class 'statsmodels.iolib.summary.Summary'>\n",
       "\"\"\"\n",
       "                            OLS Regression Results                            \n",
       "==============================================================================\n",
       "Dep. Variable:                      y   R-squared:                       0.657\n",
       "Model:                            OLS   Adj. R-squared:                  0.657\n",
       "Method:                 Least Squares   F-statistic:                     2389.\n",
       "Date:                Sun, 28 Feb 2016   Prob (F-statistic):               0.00\n",
       "Time:                        20:37:44   Log-Likelihood:                 5724.1\n",
       "No. Observations:                2498   AIC:                        -1.144e+04\n",
       "Df Residuals:                    2495   BIC:                        -1.142e+04\n",
       "Df Model:                           2                                         \n",
       "Covariance Type:            nonrobust                                         \n",
       "==============================================================================\n",
       "                 coef    std err          t      P>|t|      [95.0% Conf. Int.]\n",
       "------------------------------------------------------------------------------\n",
       "const          0.7299      0.010     73.765      0.000         0.710     0.749\n",
       "x1            -0.0009    1.4e-05    -63.059      0.000        -0.001    -0.001\n",
       "x2          2.108e-06    6.3e-08     33.457      0.000      1.98e-06  2.23e-06\n",
       "==============================================================================\n",
       "Omnibus:                       69.899   Durbin-Watson:                   1.978\n",
       "Prob(Omnibus):                  0.000   Jarque-Bera (JB):               78.457\n",
       "Skew:                           0.380   Prob(JB):                     9.19e-18\n",
       "Kurtosis:                       3.421   Cond. No.                     2.96e+05\n",
       "==============================================================================\n",
       "\n",
       "Warnings:\n",
       "[1] Standard Errors assume that the covariance matrix of the errors is correctly specified.\n",
       "[2] The condition number is large, 2.96e+05. This might indicate that there are\n",
       "strong multicollinearity or other numerical problems.\n",
       "\"\"\""
      ]
     },
     "execution_count": 156,
     "metadata": {},
     "output_type": "execute_result"
    }
   ],
   "source": [
    "linmodel.summary()"
   ]
  },
  {
   "cell_type": "code",
   "execution_count": 157,
   "metadata": {
    "collapsed": false
   },
   "outputs": [
    {
     "data": {
      "text/plain": [
       "array([  7.29878535e-01,  -8.85938963e-04,   2.10849891e-06])"
      ]
     },
     "execution_count": 157,
     "metadata": {},
     "output_type": "execute_result"
    }
   ],
   "source": [
    "linmodel.params"
   ]
  },
  {
   "cell_type": "code",
   "execution_count": 158,
   "metadata": {
    "collapsed": true
   },
   "outputs": [],
   "source": [
    "k = linmodel.params[0] + 750 * linmodel.params[1] + 10000 * linmodel.params[2]"
   ]
  },
  {
   "cell_type": "code",
   "execution_count": 159,
   "metadata": {
    "collapsed": false
   },
   "outputs": [
    {
     "data": {
      "text/plain": [
       "0.086509301836341659"
      ]
     },
     "execution_count": 159,
     "metadata": {},
     "output_type": "execute_result"
    }
   ],
   "source": [
    "k"
   ]
  },
  {
   "cell_type": "code",
   "execution_count": 160,
   "metadata": {
    "collapsed": true
   },
   "outputs": [],
   "source": [
    " # so rate looks fine when I manually calculate - same with predict is ridiculous"
   ]
  },
  {
   "cell_type": "code",
   "execution_count": 161,
   "metadata": {
    "collapsed": false
   },
   "outputs": [
    {
     "data": {
      "text/plain": [
       "array([ 538.54951367])"
      ]
     },
     "execution_count": 161,
     "metadata": {},
     "output_type": "execute_result"
    }
   ],
   "source": [
    "linmodel.predict([750,10000,1])"
   ]
  },
  {
   "cell_type": "code",
   "execution_count": 162,
   "metadata": {
    "collapsed": false
   },
   "outputs": [
    {
     "data": {
      "text/plain": [
       "array([ 0.0865093])"
      ]
     },
     "execution_count": 162,
     "metadata": {},
     "output_type": "execute_result"
    }
   ],
   "source": [
    "linmodel.predict([1,750,10000])  # The constant has to come first here"
   ]
  },
  {
   "cell_type": "code",
   "execution_count": 163,
   "metadata": {
    "collapsed": false
   },
   "outputs": [
    {
     "data": {
      "text/plain": [
       "FICO.Score          -0.087480\n",
       "Amount.Requested     0.000174\n",
       "constant            60.171952\n",
       "dtype: float64"
      ]
     },
     "execution_count": 163,
     "metadata": {},
     "output_type": "execute_result"
    }
   ],
   "source": [
    "#p(x) = 1/(1 + e^(intercept + 0.087423(FicoScore) − 0.000174(LoanAmount))\n",
    "logmodel.params"
   ]
  },
  {
   "cell_type": "code",
   "execution_count": 164,
   "metadata": {
    "collapsed": false
   },
   "outputs": [],
   "source": [
    "pir = 1/(1 + np.e**(60.171952 - 0.087480 * 750 + 0.000174 * 10000))"
   ]
  },
  {
   "cell_type": "code",
   "execution_count": 165,
   "metadata": {
    "collapsed": false
   },
   "outputs": [
    {
     "data": {
      "text/plain": [
       "0.9758269762042282"
      ]
     },
     "execution_count": 165,
     "metadata": {},
     "output_type": "execute_result"
    }
   ],
   "source": [
    "pir"
   ]
  },
  {
   "cell_type": "code",
   "execution_count": 166,
   "metadata": {
    "collapsed": true
   },
   "outputs": [],
   "source": [
    "# I think this is giving me the probability that given these values IR_TF will evaluate true"
   ]
  },
  {
   "cell_type": "code",
   "execution_count": 167,
   "metadata": {
    "collapsed": false
   },
   "outputs": [
    {
     "data": {
      "text/plain": [
       "array([ 0.02409667])"
      ]
     },
     "execution_count": 167,
     "metadata": {},
     "output_type": "execute_result"
    }
   ],
   "source": [
    "logmodel.predict([750,10000,1])  # again I think the constant has to come first."
   ]
  },
  {
   "cell_type": "code",
   "execution_count": 168,
   "metadata": {
    "collapsed": false
   },
   "outputs": [
    {
     "data": {
      "text/plain": [
       "array([ 1.])"
      ]
     },
     "execution_count": 168,
     "metadata": {},
     "output_type": "execute_result"
    }
   ],
   "source": [
    "logmodel.predict([1, 750,10000])"
   ]
  },
  {
   "cell_type": "code",
   "execution_count": 169,
   "metadata": {
    "collapsed": false
   },
   "outputs": [],
   "source": [
    "pir2 = 1/(1 + np.e**(logmodel.params[2] + logmodel.params[0] * 718 + logmodel.params[1] * 10000))"
   ]
  },
  {
   "cell_type": "code",
   "execution_count": 170,
   "metadata": {
    "collapsed": false
   },
   "outputs": [
    {
     "data": {
      "text/plain": [
       "0.71134550695330911"
      ]
     },
     "execution_count": 170,
     "metadata": {},
     "output_type": "execute_result"
    }
   ],
   "source": [
    "pir2  # just backing into minimum FICO here at 718 must be a function to do this too I think."
   ]
  },
  {
   "cell_type": "code",
   "execution_count": 171,
   "metadata": {
    "collapsed": false
   },
   "outputs": [
    {
     "data": {
      "text/plain": [
       "[-0.087480062439971293, 0.00017368053829337098, 60.171951639224886]"
      ]
     },
     "execution_count": 171,
     "metadata": {},
     "output_type": "execute_result"
    }
   ],
   "source": [
    "[logmodel.params[index] for index, parm in enumerate(logmodel.params)]"
   ]
  },
  {
   "cell_type": "code",
   "execution_count": 172,
   "metadata": {
    "collapsed": false
   },
   "outputs": [],
   "source": [
    "# here's the function called for in the exercise\n",
    "\n",
    "def loan_approver(logmodel_params, ficoscore, loanamt):\n",
    "    loan_odds = 1/(1 + np.e**(logmodel.params[2] + logmodel.params[0] * ficoscore + logmodel.params[1] * loanamt))\n",
    "    if loan_odds >= .7:\n",
    "        return True\n",
    "    else: \n",
    "        False "
   ]
  },
  {
   "cell_type": "code",
   "execution_count": 173,
   "metadata": {
    "collapsed": false
   },
   "outputs": [],
   "source": [
    "loan_flag = loan_approver(logmodel.params, 750, 10000) # testing the function"
   ]
  },
  {
   "cell_type": "code",
   "execution_count": 174,
   "metadata": {
    "collapsed": false
   },
   "outputs": [
    {
     "data": {
      "text/plain": [
       "True"
      ]
     },
     "execution_count": 174,
     "metadata": {},
     "output_type": "execute_result"
    }
   ],
   "source": [
    "loan_flag"
   ]
  },
  {
   "cell_type": "code",
   "execution_count": 175,
   "metadata": {
    "collapsed": false
   },
   "outputs": [
    {
     "data": {
      "image/png": "[encoded data removed]",
      "text/plain": [
       "<matplotlib.figure.Figure at 0x20cae860>"
      ]
     },
     "metadata": {},
     "output_type": "display_data"
    }
   ],
   "source": [
    "# use pyplot's factory functions...\n",
    "fig, ax = plt.subplots()\n",
    "\n",
    "ax.set_title(\"Fico Score vs Interest Rate\",fontsize=14)\n",
    "ax.set_xlabel(\"FICO score\",fontsize=12)\n",
    "ax.set_ylabel(\"Interest rate\",fontsize=12)\n",
    "\n",
    "plt.scatter(df['FICO.Score'],df['Interest.Rate'], c='red')\n",
    "\n",
    "# set linear regression data and plot\n",
    "domain = [df['FICO.Score'].min(), df['FICO.Score'].max()]\n",
    "predictions = linmodel.params[0] + np.array(domain) * linmodel.params[1]\n",
    "plt.plot(domain, predictions, c='Yellow', linewidth=5)\n",
    "\n",
    "plt.show() # suppresss messages"
   ]
  },
  {
   "cell_type": "code",
   "execution_count": 177,
   "metadata": {
    "collapsed": false
   },
   "outputs": [
    {
     "data": {
      "image/png": "[encoded data removed]",
      "text/plain": [
       "<matplotlib.figure.Figure at 0x20a539e8>"
      ]
     },
     "metadata": {},
     "output_type": "display_data"
    }
   ],
   "source": [
    "# use pyplot's factory functions...\n",
    "fig, ax = plt.subplots()\n",
    "\n",
    "ax.set_title(\"Likelihood IR <= 12% vs FICO score\",fontsize=14)\n",
    "ax.set_xlabel(\"FICO score\",fontsize=12)\n",
    "ax.set_ylabel(\"Likelihood IR <= 12%\",fontsize=12)\n",
    "plt.text(720, .4, 'Loan Amount 10,000')\n",
    "\n",
    "#set log regression and plot # We have to convert the x and y values to numpy arrays \n",
    "# have to sort the data or the values zig zag and we can't see the line\n",
    "df.sort_values(by=['FICO.Score','Amount.Requested'], ascending = True, inplace = True)\n",
    "ndf = df[df['Amount.Requested'] == 10000]  # limit the data frame to loan amount of 10,000\n",
    "\n",
    "# convert xs and ys to numpy array\n",
    "logxs = np.array(ndf['FICO.Score'])\n",
    "logamount = np.array(ndf['Amount.Requested'])\n",
    "\n",
    "# We don't need list iteration here.  Pandas is smart enough to figure out we want to do this for the series\n",
    "logys = 1/(1 + np.e**(logmodel.params[2] + logmodel.params[0] * logxs + logmodel.params[1] * logamount))\n",
    "\n",
    "plt.plot(logxs, logys, c='Blue', linewidth=2)\n",
    "plt.show()"
   ]
  },
  {
   "cell_type": "code",
   "execution_count": null,
   "metadata": {
    "collapsed": true
   },
   "outputs": [],
   "source": []
  }
 ],
 "metadata": {
  "kernelspec": {
   "display_name": "Python 2",
   "language": "python",
   "name": "python2"
  },
  "language_info": {
   "codemirror_mode": {
    "name": "ipython",
    "version": 2
   },
   "file_extension": ".py",
   "mimetype": "text/x-python",
   "name": "python",
   "nbconvert_exporter": "python",
   "pygments_lexer": "ipython2",
   "version": "2.7.11"
  }
 },
 "nbformat": 4,
 "nbformat_minor": 0
}
