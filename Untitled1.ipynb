{
 "cells": [
  {
   "cell_type": "code",
   "execution_count": 4,
   "metadata": {
    "collapsed": true
   },
   "outputs": [],
   "source": [
    "# this is the stats.py exercise from end of Unit 2 lesson 1\n",
    "%matplotlib inline\n",
    "import pandas as pd\n",
    "from scipy import stats"
   ]
  },
  {
   "cell_type": "code",
   "execution_count": 2,
   "metadata": {
    "collapsed": true
   },
   "outputs": [],
   "source": [
    "#setup and load the data into the dataframe\n",
    "data = '''Region,Alcohol,Tobacco\n",
    "North,6.47,4.03\n",
    "Yorkshire,6.13,3.76\n",
    "Northeast,6.19,3.77\n",
    "East Midlands,4.89,3.34\n",
    "West Midlands,5.63,3.47\n",
    "East Anglia,4.52,2.92\n",
    "Southeast,5.89,3.20\n",
    "Southwest,4.79,2.71\n",
    "Wales,5.27,3.53\n",
    "Scotland,6.08,4.51\n",
    "Northern Ireland,4.02,4.56'''\n",
    "\n",
    "data = data.splitlines()\n",
    "\n",
    "data = [i.split(',') for i in data]\n",
    "\n",
    "column_names = data[0] # this is the first row\n",
    "data_rows = data[1::] # these are all the following rows of data\n",
    "df = pd.DataFrame(data_rows, columns=column_names)\n",
    "\n",
    "df['Alcohol'] = df['Alcohol'].astype(float)\n",
    "df['Tobacco'] = df['Tobacco'].astype(float)"
   ]
  },
  {
   "cell_type": "code",
   "execution_count": null,
   "metadata": {
    "collapsed": true
   },
   "outputs": [],
   "source": [
    "\"\"\"Write a script called \"stats.py\" that prints the mean, median, mode, range, variance, \n",
    "and standard deviation for the Alcohol and Tobacco dataset with full text \n",
    "(ex. \"The range for the Alcohol and Tobacco dataset is ...\").\n",
    "NOT SURE IF WE WANT NUMBERS FOR EACH SET SEPARATELY OR AS A WHOLE - SEEMS LOGICAL THAT WE WOULD DO THEM SEPERATELY\n",
    "\"\"\""
   ]
  },
  {
   "cell_type": "code",
   "execution_count": 38,
   "metadata": {
    "collapsed": false
   },
   "outputs": [],
   "source": [
    "c_mean = df.mean()  # c prefix for combined - these functions calculate Alcohol and tobacco independently\n",
    "c_median = df.median()\n",
    "#mode has 2 variables becuase it calculated for the entire dataframe and we needed to break it out\n",
    "al_mode = stats.mode(df['Alcohol'])[0][0] \n",
    "tb_mode = stats.mode(df['Tobacco'])[0][0]  # ***** TALK TO KYLE ABOUT THESE REFERENCES SEEMS LIKE SCIPY WOULD ALLOW MODE.RESULT\n",
    "############################################ OR SOMETHING.  ALSO WHY ARE BRACKETS PRINTING IN ONE BUT NOT THE OTHER?\n"
   ]
  },
  {
   "cell_type": "code",
   "execution_count": 35,
   "metadata": {
    "collapsed": false
   },
   "outputs": [
    {
     "name": "stdout",
     "output_type": "stream",
     "text": [
      "The ranges for the Alcohol and Tobacco datasets are 5.44363636364 and 3.61818181818 respectively\n",
      "The medians for the Alcohol and Tobacco datasets are 5.63 and 3.53 respectively\n",
      "The modes for the Alcohol and Tobacco datasets are 4.02 and [ 2.71] respectively\n"
     ]
    }
   ],
   "source": [
    "print(\"The ranges for the Alcohol and Tobacco datasets are {} and {} respectively\".format(c_mean[0],c_mean[1]))\n",
    "print(\"The medians for the Alcohol and Tobacco datasets are {} and {} respectively\".format(c_median[0],c_median[1]))\n",
    "print(\"The modes for the Alcohol and Tobacco datasets are {} and {} respectively\".format(al_mode,tb_mode))\n"
   ]
  }
 ],
 "metadata": {
  "kernelspec": {
   "display_name": "Python 2",
   "language": "python",
   "name": "python2"
  },
  "language_info": {
   "codemirror_mode": {
    "name": "ipython",
    "version": 2
   },
   "file_extension": ".py",
   "mimetype": "text/x-python",
   "name": "python",
   "nbconvert_exporter": "python",
   "pygments_lexer": "ipython2",
   "version": "2.7.11"
  }
 },
 "nbformat": 4,
 "nbformat_minor": 0
}
