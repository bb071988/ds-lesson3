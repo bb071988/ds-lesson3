{
 "cells": [
  {
   "cell_type": "code",
   "execution_count": 79,
   "metadata": {
    "collapsed": true
   },
   "outputs": [],
   "source": [
    "%matplotlib inline"
   ]
  },
  {
   "cell_type": "code",
   "execution_count": 80,
   "metadata": {
    "collapsed": true
   },
   "outputs": [],
   "source": [
    "import numpy as np\n",
    "import matplotlib.pyplot as plt\n",
    "import pandas as pd\n",
    "import statsmodels.api as sm\n",
    "import re"
   ]
  },
  {
   "cell_type": "code",
   "execution_count": 81,
   "metadata": {
    "collapsed": false
   },
   "outputs": [],
   "source": [
    "# get loandata\n",
    "loansData = pd.read_csv('https://spark-public.s3.amazonaws.com/dataanalysis/loansData.csv')"
   ]
  },
  {
   "cell_type": "code",
   "execution_count": 82,
   "metadata": {
    "collapsed": false
   },
   "outputs": [],
   "source": [
    "# clean interest rate using regex - ability to replace so df objects are mutable\n",
    "loansData['Interest.Rate'] = [float(re.search('^[0-9]*.[0-9]*',loan).group(0))/100 for loan in loansData['Interest.Rate']]\n"
   ]
  },
  {
   "cell_type": "code",
   "execution_count": 83,
   "metadata": {
    "collapsed": true
   },
   "outputs": [],
   "source": [
    "# clean fico range and get score \n",
    "loansData['FICO.Score'] = map(lambda x: int(x.split('-')[0]), loansData['FICO.Range'])"
   ]
  },
  {
   "cell_type": "code",
   "execution_count": 84,
   "metadata": {
    "collapsed": true
   },
   "outputs": [],
   "source": [
    "### create datasets for 10k and 30k regression lines"
   ]
  },
  {
   "cell_type": "code",
   "execution_count": 85,
   "metadata": {
    "collapsed": true
   },
   "outputs": [],
   "source": [
    "data10k = loansData[loansData['Amount.Requested'] == 10000]  ## Talk to Kyle about proper referencing here."
   ]
  },
  {
   "cell_type": "code",
   "execution_count": 86,
   "metadata": {
    "collapsed": false
   },
   "outputs": [
    {
     "data": {
      "text/plain": [
       "(206, 15)"
      ]
     },
     "execution_count": 86,
     "metadata": {},
     "output_type": "execute_result"
    }
   ],
   "source": [
    "data10k.shape"
   ]
  },
  {
   "cell_type": "code",
   "execution_count": 87,
   "metadata": {
    "collapsed": true
   },
   "outputs": [],
   "source": [
    "data30k = loansData[loansData['Amount.Requested'] == 30000] "
   ]
  },
  {
   "cell_type": "code",
   "execution_count": 88,
   "metadata": {
    "collapsed": false
   },
   "outputs": [],
   "source": [
    "# function to calculate the least squares function for different datasets\n",
    "def get_ols(data):\n",
    "    # extract the columns from the data frame returning a series\n",
    "    intrate = loansData['Interest.Rate']\n",
    "    loanamt = loansData['Amount.Requested']\n",
    "    fico = loansData['FICO.Score']\n",
    "\n",
    "    # reshape the data\n",
    "    # The dependent variable\n",
    "    y = np.matrix(intrate).transpose()\n",
    "    # The independent variables shaped as columns\n",
    "    x1 = np.matrix(fico).transpose()\n",
    "    x2 = np.matrix(loanamt).transpose()\n",
    "\n",
    "    # put the columns back together to create a matrix\n",
    "    x = np.column_stack([x1,x2])\n",
    "\n",
    "    # create the linear model with statsmodels - # read more about stats models\n",
    "    X = sm.add_constant(x)\n",
    "    model = sm.OLS(y,X)\n",
    "    f = model.fit()\n",
    "\n",
    "#     f.params  # get the parms for the calculation y = m + a(x) + b(x)\n",
    "\n",
    "#     # show the output\n",
    "#     f.summary()\n",
    "\n",
    "    return(f, x1)"
   ]
  },
  {
   "cell_type": "code",
   "execution_count": null,
   "metadata": {
    "collapsed": true
   },
   "outputs": [],
   "source": []
  },
  {
   "cell_type": "code",
   "execution_count": 90,
   "metadata": {
    "collapsed": false,
    "scrolled": true
   },
   "outputs": [
    {
     "name": "stderr",
     "output_type": "stream",
     "text": [
      "C:\\Users\\bob071988\\Anaconda2\\lib\\site-packages\\ipykernel\\__main__.py:13: SettingWithCopyWarning: \n",
      "A value is trying to be set on a copy of a slice from a DataFrame.\n",
      "Try using .loc[row_indexer,col_indexer] = value instead\n",
      "\n",
      "See the caveats in the documentation: http://pandas.pydata.org/pandas-docs/stable/indexing.html#indexing-view-versus-copy\n"
     ]
    },
    {
     "data": {
      "image/png": "[encoded data removed]",
      "text/plain": [
       "<matplotlib.figure.Figure at 0x20d47748>"
      ]
     },
     "metadata": {},
     "output_type": "display_data"
    }
   ],
   "source": [
    "# It's much more convenient to just use pyplot's factory functions...\n",
    "fig, ax = plt.subplots()\n",
    "\n",
    "ax.set_title(\"Fico Score vs Interest Rate\",fontsize=14)\n",
    "ax.set_xlabel(\"FICO score\",fontsize=12)\n",
    "ax.set_ylabel(\"Interest rate\",fontsize=12)\n",
    "\n",
    "plt.scatter(loansData['FICO.Score'],loansData['Interest.Rate'], c='red')\n",
    "\n",
    "get_ols(data10k)\n",
    "# xdata = data10k['FICO.Score'] # just had get_ols return fico which is already shaped.\n",
    "# xdata = xdata.tolist()\n",
    "data10k['ydata'] = [(data10k['FICO.Score'] * f.params[0] + f.params[1]) for index, loan in data10k.iterrows()]\n",
    "ydatatemp = data10k['ydata']\n",
    "ydata = np.matrix(ydatatemp).transpose()\n",
    "# x2 = np.matrix(loanamt).transpose()\n",
    "# ydata = ydata.tolist()\n",
    "# plt.plot(x1, ydata, c = 'yellow')"
   ]
  },
  {
   "cell_type": "code",
   "execution_count": 91,
   "metadata": {
    "collapsed": false
   },
   "outputs": [
    {
     "data": {
      "text/plain": [
       "numpy.matrixlib.defmatrix.matrix"
      ]
     },
     "execution_count": 91,
     "metadata": {},
     "output_type": "execute_result"
    }
   ],
   "source": [
    "type(x1)"
   ]
  },
  {
   "cell_type": "code",
   "execution_count": 92,
   "metadata": {
    "collapsed": false
   },
   "outputs": [
    {
     "data": {
      "text/plain": [
       "((206L, 1L), (206L, 1L))"
      ]
     },
     "execution_count": 92,
     "metadata": {},
     "output_type": "execute_result"
    }
   ],
   "source": [
    "x1.shape, ydata.shape"
   ]
  },
  {
   "cell_type": "code",
   "execution_count": 93,
   "metadata": {
    "collapsed": false
   },
   "outputs": [
    {
     "data": {
      "text/plain": [
       "matrix([[695],\n",
       "        [720],\n",
       "        [695],\n",
       "        [730],\n",
       "        [665]], dtype=int64)"
      ]
     },
     "execution_count": 93,
     "metadata": {},
     "output_type": "execute_result"
    }
   ],
   "source": [
    "x1[:5]"
   ]
  },
  {
   "cell_type": "code",
   "execution_count": 94,
   "metadata": {
    "collapsed": false
   },
   "outputs": [
    {
     "data": {
      "text/plain": [
       "matrix([[ 15825    -0.541842\n",
       " 48808    -0.561335\n",
       " 62127    -0.541842\n",
       " 44987    -0.569132\n",
       " 61703    -0.518450\n",
       " 67158    -0.526247\n",
       " 103405   -0.526247\n",
       " 82476    -0.537943\n",
       " 85644    -0.565234\n",
       " 85686    -0.526247\n",
       " 20263    -0.580828\n",
       " 2633     -0.573031\n",
       " 103874   -0.553538\n",
       " 96988    -0.534045\n",
       " 53897    -0.534045\n",
       " 42319    -0.541842\n",
       " 4168     -0.615916\n",
       " 28402    -0.557437\n",
       " 42222    -0.522349\n",
       " 28534    -0.549639\n",
       " 84283    -0.530146\n",
       " 8549     -0.569132\n",
       " 68413    -0.541842\n",
       " 39439    -0.518450\n",
       " 61683    -0.534045\n",
       " 71743    -0.537943\n",
       " 25426    -0.573031\n",
       " 48235    -0.576930\n",
       " 22993    -0.573031\n",
       " 50602    -0.588626\n",
       "             ...   \n",
       " 72766    -0.526247\n",
       " 4843     -0.612017\n",
       " 8626     -0.549639\n",
       " 12248    -0.619815\n",
       " 80198    -0.545741\n",
       " 41741    -0.537943\n",
       " 93711    -0.522349\n",
       " 12429    -0.530146\n",
       " 45644    -0.565234\n",
       " 56391    -0.522349\n",
       " 88584    -0.518450\n",
       " 95536    -0.514552\n",
       " 53930    -0.522349\n",
       " 91702    -0.541842\n",
       " 59807    -0.530146\n",
       " 26914    -0.608119\n",
       " 43527    -0.537943\n",
       " 6712     -0.545741\n",
       " 42148    -0.530146\n",
       " 38373    -0.553538\n",
       " 34411    -0.604220\n",
       " 75837    -0.526247\n",
       " 26087    -0.569132\n",
       " 2164     -0.530146\n",
       " 39492    -0.541842\n",
       " 94839    -0.561335\n",
       " 86953    -0.526247\n",
       " 53041    -0.592524\n",
       " 42124    -0.553538\n",
       " 55610    -0.530146\n",
       " Name: FICO.Score, dtype: float64],\n",
       "        [ 15825    -0.541842\n",
       " 48808    -0.561335\n",
       " 62127    -0.541842\n",
       " 44987    -0.569132\n",
       " 61703    -0.518450\n",
       " 67158    -0.526247\n",
       " 103405   -0.526247\n",
       " 82476    -0.537943\n",
       " 85644    -0.565234\n",
       " 85686    -0.526247\n",
       " 20263    -0.580828\n",
       " 2633     -0.573031\n",
       " 103874   -0.553538\n",
       " 96988    -0.534045\n",
       " 53897    -0.534045\n",
       " 42319    -0.541842\n",
       " 4168     -0.615916\n",
       " 28402    -0.557437\n",
       " 42222    -0.522349\n",
       " 28534    -0.549639\n",
       " 84283    -0.530146\n",
       " 8549     -0.569132\n",
       " 68413    -0.541842\n",
       " 39439    -0.518450\n",
       " 61683    -0.534045\n",
       " 71743    -0.537943\n",
       " 25426    -0.573031\n",
       " 48235    -0.576930\n",
       " 22993    -0.573031\n",
       " 50602    -0.588626\n",
       "             ...   \n",
       " 72766    -0.526247\n",
       " 4843     -0.612017\n",
       " 8626     -0.549639\n",
       " 12248    -0.619815\n",
       " 80198    -0.545741\n",
       " 41741    -0.537943\n",
       " 93711    -0.522349\n",
       " 12429    -0.530146\n",
       " 45644    -0.565234\n",
       " 56391    -0.522349\n",
       " 88584    -0.518450\n",
       " 95536    -0.514552\n",
       " 53930    -0.522349\n",
       " 91702    -0.541842\n",
       " 59807    -0.530146\n",
       " 26914    -0.608119\n",
       " 43527    -0.537943\n",
       " 6712     -0.545741\n",
       " 42148    -0.530146\n",
       " 38373    -0.553538\n",
       " 34411    -0.604220\n",
       " 75837    -0.526247\n",
       " 26087    -0.569132\n",
       " 2164     -0.530146\n",
       " 39492    -0.541842\n",
       " 94839    -0.561335\n",
       " 86953    -0.526247\n",
       " 53041    -0.592524\n",
       " 42124    -0.553538\n",
       " 55610    -0.530146\n",
       " Name: FICO.Score, dtype: float64],\n",
       "        [ 15825    -0.541842\n",
       " 48808    -0.561335\n",
       " 62127    -0.541842\n",
       " 44987    -0.569132\n",
       " 61703    -0.518450\n",
       " 67158    -0.526247\n",
       " 103405   -0.526247\n",
       " 82476    -0.537943\n",
       " 85644    -0.565234\n",
       " 85686    -0.526247\n",
       " 20263    -0.580828\n",
       " 2633     -0.573031\n",
       " 103874   -0.553538\n",
       " 96988    -0.534045\n",
       " 53897    -0.534045\n",
       " 42319    -0.541842\n",
       " 4168     -0.615916\n",
       " 28402    -0.557437\n",
       " 42222    -0.522349\n",
       " 28534    -0.549639\n",
       " 84283    -0.530146\n",
       " 8549     -0.569132\n",
       " 68413    -0.541842\n",
       " 39439    -0.518450\n",
       " 61683    -0.534045\n",
       " 71743    -0.537943\n",
       " 25426    -0.573031\n",
       " 48235    -0.576930\n",
       " 22993    -0.573031\n",
       " 50602    -0.588626\n",
       "             ...   \n",
       " 72766    -0.526247\n",
       " 4843     -0.612017\n",
       " 8626     -0.549639\n",
       " 12248    -0.619815\n",
       " 80198    -0.545741\n",
       " 41741    -0.537943\n",
       " 93711    -0.522349\n",
       " 12429    -0.530146\n",
       " 45644    -0.565234\n",
       " 56391    -0.522349\n",
       " 88584    -0.518450\n",
       " 95536    -0.514552\n",
       " 53930    -0.522349\n",
       " 91702    -0.541842\n",
       " 59807    -0.530146\n",
       " 26914    -0.608119\n",
       " 43527    -0.537943\n",
       " 6712     -0.545741\n",
       " 42148    -0.530146\n",
       " 38373    -0.553538\n",
       " 34411    -0.604220\n",
       " 75837    -0.526247\n",
       " 26087    -0.569132\n",
       " 2164     -0.530146\n",
       " 39492    -0.541842\n",
       " 94839    -0.561335\n",
       " 86953    -0.526247\n",
       " 53041    -0.592524\n",
       " 42124    -0.553538\n",
       " 55610    -0.530146\n",
       " Name: FICO.Score, dtype: float64],\n",
       "        [ 15825    -0.541842\n",
       " 48808    -0.561335\n",
       " 62127    -0.541842\n",
       " 44987    -0.569132\n",
       " 61703    -0.518450\n",
       " 67158    -0.526247\n",
       " 103405   -0.526247\n",
       " 82476    -0.537943\n",
       " 85644    -0.565234\n",
       " 85686    -0.526247\n",
       " 20263    -0.580828\n",
       " 2633     -0.573031\n",
       " 103874   -0.553538\n",
       " 96988    -0.534045\n",
       " 53897    -0.534045\n",
       " 42319    -0.541842\n",
       " 4168     -0.615916\n",
       " 28402    -0.557437\n",
       " 42222    -0.522349\n",
       " 28534    -0.549639\n",
       " 84283    -0.530146\n",
       " 8549     -0.569132\n",
       " 68413    -0.541842\n",
       " 39439    -0.518450\n",
       " 61683    -0.534045\n",
       " 71743    -0.537943\n",
       " 25426    -0.573031\n",
       " 48235    -0.576930\n",
       " 22993    -0.573031\n",
       " 50602    -0.588626\n",
       "             ...   \n",
       " 72766    -0.526247\n",
       " 4843     -0.612017\n",
       " 8626     -0.549639\n",
       " 12248    -0.619815\n",
       " 80198    -0.545741\n",
       " 41741    -0.537943\n",
       " 93711    -0.522349\n",
       " 12429    -0.530146\n",
       " 45644    -0.565234\n",
       " 56391    -0.522349\n",
       " 88584    -0.518450\n",
       " 95536    -0.514552\n",
       " 53930    -0.522349\n",
       " 91702    -0.541842\n",
       " 59807    -0.530146\n",
       " 26914    -0.608119\n",
       " 43527    -0.537943\n",
       " 6712     -0.545741\n",
       " 42148    -0.530146\n",
       " 38373    -0.553538\n",
       " 34411    -0.604220\n",
       " 75837    -0.526247\n",
       " 26087    -0.569132\n",
       " 2164     -0.530146\n",
       " 39492    -0.541842\n",
       " 94839    -0.561335\n",
       " 86953    -0.526247\n",
       " 53041    -0.592524\n",
       " 42124    -0.553538\n",
       " 55610    -0.530146\n",
       " Name: FICO.Score, dtype: float64],\n",
       "        [ 15825    -0.541842\n",
       " 48808    -0.561335\n",
       " 62127    -0.541842\n",
       " 44987    -0.569132\n",
       " 61703    -0.518450\n",
       " 67158    -0.526247\n",
       " 103405   -0.526247\n",
       " 82476    -0.537943\n",
       " 85644    -0.565234\n",
       " 85686    -0.526247\n",
       " 20263    -0.580828\n",
       " 2633     -0.573031\n",
       " 103874   -0.553538\n",
       " 96988    -0.534045\n",
       " 53897    -0.534045\n",
       " 42319    -0.541842\n",
       " 4168     -0.615916\n",
       " 28402    -0.557437\n",
       " 42222    -0.522349\n",
       " 28534    -0.549639\n",
       " 84283    -0.530146\n",
       " 8549     -0.569132\n",
       " 68413    -0.541842\n",
       " 39439    -0.518450\n",
       " 61683    -0.534045\n",
       " 71743    -0.537943\n",
       " 25426    -0.573031\n",
       " 48235    -0.576930\n",
       " 22993    -0.573031\n",
       " 50602    -0.588626\n",
       "             ...   \n",
       " 72766    -0.526247\n",
       " 4843     -0.612017\n",
       " 8626     -0.549639\n",
       " 12248    -0.619815\n",
       " 80198    -0.545741\n",
       " 41741    -0.537943\n",
       " 93711    -0.522349\n",
       " 12429    -0.530146\n",
       " 45644    -0.565234\n",
       " 56391    -0.522349\n",
       " 88584    -0.518450\n",
       " 95536    -0.514552\n",
       " 53930    -0.522349\n",
       " 91702    -0.541842\n",
       " 59807    -0.530146\n",
       " 26914    -0.608119\n",
       " 43527    -0.537943\n",
       " 6712     -0.545741\n",
       " 42148    -0.530146\n",
       " 38373    -0.553538\n",
       " 34411    -0.604220\n",
       " 75837    -0.526247\n",
       " 26087    -0.569132\n",
       " 2164     -0.530146\n",
       " 39492    -0.541842\n",
       " 94839    -0.561335\n",
       " 86953    -0.526247\n",
       " 53041    -0.592524\n",
       " 42124    -0.553538\n",
       " 55610    -0.530146\n",
       " Name: FICO.Score, dtype: float64]], dtype=object)"
      ]
     },
     "execution_count": 94,
     "metadata": {},
     "output_type": "execute_result"
    }
   ],
   "source": [
    "ydata[:5]"
   ]
  },
  {
   "cell_type": "code",
   "execution_count": null,
   "metadata": {
    "collapsed": true
   },
   "outputs": [],
   "source": []
  },
  {
   "cell_type": "code",
   "execution_count": null,
   "metadata": {
    "collapsed": true
   },
   "outputs": [],
   "source": []
  },
  {
   "cell_type": "code",
   "execution_count": null,
   "metadata": {
    "collapsed": false
   },
   "outputs": [],
   "source": [
    "type(ydata)"
   ]
  },
  {
   "cell_type": "code",
   "execution_count": null,
   "metadata": {
    "collapsed": false
   },
   "outputs": [],
   "source": [
    "ydata.shape"
   ]
  },
  {
   "cell_type": "code",
   "execution_count": null,
   "metadata": {
    "collapsed": false
   },
   "outputs": [],
   "source": [
    "type(xdata)"
   ]
  },
  {
   "cell_type": "code",
   "execution_count": null,
   "metadata": {
    "collapsed": false
   },
   "outputs": [],
   "source": [
    "type(fico)"
   ]
  },
  {
   "cell_type": "code",
   "execution_count": null,
   "metadata": {
    "collapsed": true
   },
   "outputs": [],
   "source": []
  },
  {
   "cell_type": "code",
   "execution_count": null,
   "metadata": {
    "collapsed": true
   },
   "outputs": [],
   "source": []
  },
  {
   "cell_type": "code",
   "execution_count": null,
   "metadata": {
    "collapsed": true
   },
   "outputs": [],
   "source": []
  },
  {
   "cell_type": "code",
   "execution_count": null,
   "metadata": {
    "collapsed": false
   },
   "outputs": [],
   "source": [
    "type(ydata)"
   ]
  },
  {
   "cell_type": "code",
   "execution_count": null,
   "metadata": {
    "collapsed": false
   },
   "outputs": [],
   "source": [
    "type(ydata[:1])"
   ]
  },
  {
   "cell_type": "code",
   "execution_count": null,
   "metadata": {
    "collapsed": false
   },
   "outputs": [],
   "source": [
    "ydata[:1][0][0]"
   ]
  },
  {
   "cell_type": "code",
   "execution_count": null,
   "metadata": {
    "collapsed": true
   },
   "outputs": [],
   "source": []
  },
  {
   "cell_type": "code",
   "execution_count": null,
   "metadata": {
    "collapsed": true
   },
   "outputs": [],
   "source": []
  },
  {
   "cell_type": "code",
   "execution_count": null,
   "metadata": {
    "collapsed": true
   },
   "outputs": [],
   "source": []
  },
  {
   "cell_type": "code",
   "execution_count": null,
   "metadata": {
    "collapsed": true
   },
   "outputs": [],
   "source": []
  },
  {
   "cell_type": "code",
   "execution_count": null,
   "metadata": {
    "collapsed": true
   },
   "outputs": [],
   "source": []
  },
  {
   "cell_type": "code",
   "execution_count": null,
   "metadata": {
    "collapsed": true
   },
   "outputs": [],
   "source": []
  },
  {
   "cell_type": "code",
   "execution_count": null,
   "metadata": {
    "collapsed": true
   },
   "outputs": [],
   "source": []
  },
  {
   "cell_type": "code",
   "execution_count": null,
   "metadata": {
    "collapsed": true
   },
   "outputs": [],
   "source": []
  },
  {
   "cell_type": "code",
   "execution_count": null,
   "metadata": {
    "collapsed": false
   },
   "outputs": [],
   "source": [
    "type(ydata)"
   ]
  },
  {
   "cell_type": "code",
   "execution_count": null,
   "metadata": {
    "collapsed": false
   },
   "outputs": [],
   "source": [
    "type(xdata)"
   ]
  },
  {
   "cell_type": "code",
   "execution_count": null,
   "metadata": {
    "collapsed": true
   },
   "outputs": [],
   "source": [
    "test1 = xdata.tolist()"
   ]
  },
  {
   "cell_type": "code",
   "execution_count": null,
   "metadata": {
    "collapsed": false
   },
   "outputs": [],
   "source": [
    "type(test1)"
   ]
  },
  {
   "cell_type": "code",
   "execution_count": null,
   "metadata": {
    "collapsed": false
   },
   "outputs": [],
   "source": [
    "test1[:8]\n"
   ]
  },
  {
   "cell_type": "code",
   "execution_count": null,
   "metadata": {
    "collapsed": true
   },
   "outputs": [],
   "source": []
  },
  {
   "cell_type": "code",
   "execution_count": null,
   "metadata": {
    "collapsed": true
   },
   "outputs": [],
   "source": []
  },
  {
   "cell_type": "code",
   "execution_count": null,
   "metadata": {
    "collapsed": true
   },
   "outputs": [],
   "source": []
  },
  {
   "cell_type": "code",
   "execution_count": null,
   "metadata": {
    "collapsed": true
   },
   "outputs": [],
   "source": []
  },
  {
   "cell_type": "code",
   "execution_count": null,
   "metadata": {
    "collapsed": true
   },
   "outputs": [],
   "source": []
  },
  {
   "cell_type": "code",
   "execution_count": null,
   "metadata": {
    "collapsed": true
   },
   "outputs": [],
   "source": []
  },
  {
   "cell_type": "code",
   "execution_count": null,
   "metadata": {
    "collapsed": true
   },
   "outputs": [],
   "source": []
  },
  {
   "cell_type": "code",
   "execution_count": null,
   "metadata": {
    "collapsed": false
   },
   "outputs": [],
   "source": [
    "f.summary()"
   ]
  },
  {
   "cell_type": "code",
   "execution_count": null,
   "metadata": {
    "collapsed": false
   },
   "outputs": [],
   "source": [
    "f.params"
   ]
  },
  {
   "cell_type": "code",
   "execution_count": null,
   "metadata": {
    "collapsed": true
   },
   "outputs": [],
   "source": []
  },
  {
   "cell_type": "code",
   "execution_count": null,
   "metadata": {
    "collapsed": true
   },
   "outputs": [],
   "source": []
  },
  {
   "cell_type": "code",
   "execution_count": null,
   "metadata": {
    "collapsed": true
   },
   "outputs": [],
   "source": []
  },
  {
   "cell_type": "code",
   "execution_count": null,
   "metadata": {
    "collapsed": false
   },
   "outputs": [],
   "source": [
    "f.params"
   ]
  },
  {
   "cell_type": "code",
   "execution_count": null,
   "metadata": {
    "collapsed": true
   },
   "outputs": [],
   "source": []
  },
  {
   "cell_type": "code",
   "execution_count": null,
   "metadata": {
    "collapsed": true
   },
   "outputs": [],
   "source": []
  },
  {
   "cell_type": "code",
   "execution_count": null,
   "metadata": {
    "collapsed": true
   },
   "outputs": [],
   "source": []
  },
  {
   "cell_type": "code",
   "execution_count": null,
   "metadata": {
    "collapsed": true
   },
   "outputs": [],
   "source": []
  },
  {
   "cell_type": "code",
   "execution_count": null,
   "metadata": {
    "collapsed": true
   },
   "outputs": [],
   "source": []
  },
  {
   "cell_type": "code",
   "execution_count": null,
   "metadata": {
    "collapsed": false
   },
   "outputs": [],
   "source": [
    "# # generate the data for the 10k line\n",
    "# ydata10k = []\n",
    "# xdata10k = []\n",
    "# for index, row in data10k.iterrows():\n",
    "#     ydata10k.append(f10k.params[0] + row['FICO.Score'] * f10k.params[1] + row['Interest.Rate'] * f10k.params[2])\n",
    "# #     print(row['FICO.Score'], row['Interest.Rate'])\n",
    "# #     xtemp = row['FICO.Score'].tolist()\n",
    "#     xdata10k.append(row['FICO.Score'])"
   ]
  },
  {
   "cell_type": "code",
   "execution_count": null,
   "metadata": {
    "collapsed": true
   },
   "outputs": [],
   "source": []
  },
  {
   "cell_type": "code",
   "execution_count": null,
   "metadata": {
    "collapsed": true
   },
   "outputs": [],
   "source": []
  },
  {
   "cell_type": "code",
   "execution_count": null,
   "metadata": {
    "collapsed": false
   },
   "outputs": [],
   "source": []
  },
  {
   "cell_type": "code",
   "execution_count": null,
   "metadata": {
    "collapsed": true
   },
   "outputs": [],
   "source": []
  },
  {
   "cell_type": "code",
   "execution_count": null,
   "metadata": {
    "collapsed": true
   },
   "outputs": [],
   "source": []
  },
  {
   "cell_type": "code",
   "execution_count": null,
   "metadata": {
    "collapsed": true
   },
   "outputs": [],
   "source": []
  },
  {
   "cell_type": "code",
   "execution_count": null,
   "metadata": {
    "collapsed": false
   },
   "outputs": [],
   "source": []
  },
  {
   "cell_type": "code",
   "execution_count": null,
   "metadata": {
    "collapsed": false
   },
   "outputs": [],
   "source": [
    "\n"
   ]
  },
  {
   "cell_type": "code",
   "execution_count": null,
   "metadata": {
    "collapsed": true
   },
   "outputs": [],
   "source": [
    "# loansData10k = [loansData for loan in (loansData['Amount.Requested'] == 10000)] # tried this to get just 10k but creats a list not a df\n"
   ]
  },
  {
   "cell_type": "code",
   "execution_count": null,
   "metadata": {
    "collapsed": false
   },
   "outputs": [],
   "source": [
    "type(loansData10k)"
   ]
  },
  {
   "cell_type": "code",
   "execution_count": null,
   "metadata": {
    "collapsed": false
   },
   "outputs": [],
   "source": [
    "# loansData.drop('Home.Ownership')"
   ]
  },
  {
   "cell_type": "code",
   "execution_count": null,
   "metadata": {
    "collapsed": false
   },
   "outputs": [],
   "source": [
    "# data = data[data.population != 'sibling']"
   ]
  },
  {
   "cell_type": "code",
   "execution_count": null,
   "metadata": {
    "collapsed": false
   },
   "outputs": [],
   "source": []
  },
  {
   "cell_type": "code",
   "execution_count": null,
   "metadata": {
    "collapsed": false
   },
   "outputs": [],
   "source": []
  },
  {
   "cell_type": "code",
   "execution_count": null,
   "metadata": {
    "collapsed": false
   },
   "outputs": [],
   "source": [
    "type(data10k)"
   ]
  },
  {
   "cell_type": "code",
   "execution_count": null,
   "metadata": {
    "collapsed": false
   },
   "outputs": [],
   "source": [
    "data10k.shape"
   ]
  },
  {
   "cell_type": "code",
   "execution_count": null,
   "metadata": {
    "collapsed": true
   },
   "outputs": [],
   "source": [
    "# loansData['testfico'] = [loansData['FICO.Score'] for loan in loansData['Interest.Rate']] didn't work got multiple values in testfico"
   ]
  },
  {
   "cell_type": "code",
   "execution_count": null,
   "metadata": {
    "collapsed": false
   },
   "outputs": [],
   "source": [
    "type(loansData)"
   ]
  },
  {
   "cell_type": "code",
   "execution_count": null,
   "metadata": {
    "collapsed": false
   },
   "outputs": [],
   "source": [
    "# df[df.a > df.b]  # same result as the previous expression"
   ]
  },
  {
   "cell_type": "code",
   "execution_count": null,
   "metadata": {
    "collapsed": false
   },
   "outputs": [],
   "source": [
    "# loansData[loansData.testfico.any() > 100] does not work"
   ]
  },
  {
   "cell_type": "code",
   "execution_count": null,
   "metadata": {
    "collapsed": true
   },
   "outputs": [],
   "source": [
    "row1 = loansData[100:101] # grab a data point for the line"
   ]
  },
  {
   "cell_type": "code",
   "execution_count": null,
   "metadata": {
    "collapsed": true
   },
   "outputs": [],
   "source": [
    "row2 = loansData[200:201] # grab a second data point for the line"
   ]
  },
  {
   "cell_type": "code",
   "execution_count": null,
   "metadata": {
    "collapsed": false
   },
   "outputs": [],
   "source": [
    "# Create a list of Y values using row 1 and 2 from above\n",
    "ytest = []\n",
    "ytest.append(f.params[0] + (max(row1['FICO.Score'])* f.params[1]) + (max(row1['Interest.Rate']) * f.params[2]))\n",
    "ytest.append(f.params[0] + (max(row2['FICO.Score'])* f.params[1]) + (max(row2['Interest.Rate']) * f.params[2]))"
   ]
  },
  {
   "cell_type": "code",
   "execution_count": null,
   "metadata": {
    "collapsed": false
   },
   "outputs": [],
   "source": [
    "ytest"
   ]
  },
  {
   "cell_type": "code",
   "execution_count": null,
   "metadata": {
    "collapsed": false
   },
   "outputs": [],
   "source": [
    "# put the x values in a list\n",
    "# have to convert the pandas series data type to a plain list with tolist()\n",
    "xtest = []\n",
    "xtemp = row1['FICO.Score'].tolist()\n",
    "xtest.append(xtemp[0])\n",
    "xtemp = row2['FICO.Score'].tolist()\n",
    "xtest.append(xtemp[0])"
   ]
  },
  {
   "cell_type": "code",
   "execution_count": null,
   "metadata": {
    "collapsed": false
   },
   "outputs": [],
   "source": [
    "\n",
    "    "
   ]
  },
  {
   "cell_type": "code",
   "execution_count": null,
   "metadata": {
    "collapsed": false
   },
   "outputs": [],
   "source": [
    "type(xdata)"
   ]
  },
  {
   "cell_type": "code",
   "execution_count": null,
   "metadata": {
    "collapsed": true
   },
   "outputs": [],
   "source": []
  },
  {
   "cell_type": "code",
   "execution_count": null,
   "metadata": {
    "collapsed": true
   },
   "outputs": [],
   "source": []
  },
  {
   "cell_type": "code",
   "execution_count": null,
   "metadata": {
    "collapsed": false
   },
   "outputs": [],
   "source": [
    "type(ydata)"
   ]
  },
  {
   "cell_type": "code",
   "execution_count": null,
   "metadata": {
    "collapsed": true
   },
   "outputs": [],
   "source": []
  },
  {
   "cell_type": "code",
   "execution_count": null,
   "metadata": {
    "collapsed": true
   },
   "outputs": [],
   "source": []
  },
  {
   "cell_type": "code",
   "execution_count": null,
   "metadata": {
    "collapsed": true
   },
   "outputs": [],
   "source": []
  },
  {
   "cell_type": "code",
   "execution_count": null,
   "metadata": {
    "collapsed": true
   },
   "outputs": [],
   "source": []
  },
  {
   "cell_type": "code",
   "execution_count": null,
   "metadata": {
    "collapsed": true
   },
   "outputs": [],
   "source": []
  },
  {
   "cell_type": "code",
   "execution_count": null,
   "metadata": {
    "collapsed": true
   },
   "outputs": [],
   "source": []
  },
  {
   "cell_type": "code",
   "execution_count": null,
   "metadata": {
    "collapsed": true
   },
   "outputs": [],
   "source": []
  },
  {
   "cell_type": "code",
   "execution_count": null,
   "metadata": {
    "collapsed": true
   },
   "outputs": [],
   "source": []
  },
  {
   "cell_type": "code",
   "execution_count": null,
   "metadata": {
    "collapsed": true
   },
   "outputs": [],
   "source": []
  },
  {
   "cell_type": "code",
   "execution_count": null,
   "metadata": {
    "collapsed": true
   },
   "outputs": [],
   "source": []
  },
  {
   "cell_type": "code",
   "execution_count": null,
   "metadata": {
    "collapsed": true
   },
   "outputs": [],
   "source": []
  },
  {
   "cell_type": "code",
   "execution_count": null,
   "metadata": {
    "collapsed": true
   },
   "outputs": [],
   "source": []
  },
  {
   "cell_type": "code",
   "execution_count": null,
   "metadata": {
    "collapsed": true
   },
   "outputs": [],
   "source": []
  },
  {
   "cell_type": "code",
   "execution_count": null,
   "metadata": {
    "collapsed": true
   },
   "outputs": [],
   "source": []
  },
  {
   "cell_type": "code",
   "execution_count": null,
   "metadata": {
    "collapsed": false
   },
   "outputs": [],
   "source": [
    "# It's much more convenient to just use pyplot's factory functions...\n",
    "fig, ax = plt.subplots()\n",
    "\n",
    "ax.set_title(\"Fico Score vs Interest Rate\",fontsize=14)\n",
    "ax.set_xlabel(\"FICO score\",fontsize=12)\n",
    "ax.set_ylabel(\"Interest rate\",fontsize=12)\n",
    "\n",
    "plt.scatter(loansData['FICO.Score'],loansData['Interest.Rate'], c='red')\n",
    "\n",
    "plt.plot(xdata, ydata, c = 'yellow')\n",
    "\n"
   ]
  },
  {
   "cell_type": "code",
   "execution_count": null,
   "metadata": {
    "collapsed": true
   },
   "outputs": [],
   "source": []
  },
  {
   "cell_type": "code",
   "execution_count": null,
   "metadata": {
    "collapsed": true
   },
   "outputs": [],
   "source": []
  },
  {
   "cell_type": "code",
   "execution_count": null,
   "metadata": {
    "collapsed": true
   },
   "outputs": [],
   "source": []
  },
  {
   "cell_type": "code",
   "execution_count": null,
   "metadata": {
    "collapsed": true
   },
   "outputs": [],
   "source": []
  },
  {
   "cell_type": "code",
   "execution_count": null,
   "metadata": {
    "collapsed": true
   },
   "outputs": [],
   "source": []
  },
  {
   "cell_type": "code",
   "execution_count": null,
   "metadata": {
    "collapsed": true
   },
   "outputs": [],
   "source": []
  },
  {
   "cell_type": "code",
   "execution_count": null,
   "metadata": {
    "collapsed": true
   },
   "outputs": [],
   "source": []
  },
  {
   "cell_type": "code",
   "execution_count": null,
   "metadata": {
    "collapsed": true
   },
   "outputs": [],
   "source": []
  },
  {
   "cell_type": "code",
   "execution_count": null,
   "metadata": {
    "collapsed": false
   },
   "outputs": [],
   "source": [
    "plt.scatter(loansData['FICO.Score'],loansData['Interest.Rate'], c='red')"
   ]
  },
  {
   "cell_type": "code",
   "execution_count": null,
   "metadata": {
    "collapsed": true
   },
   "outputs": [],
   "source": []
  },
  {
   "cell_type": "code",
   "execution_count": null,
   "metadata": {
    "collapsed": true
   },
   "outputs": [],
   "source": []
  },
  {
   "cell_type": "code",
   "execution_count": null,
   "metadata": {
    "collapsed": true
   },
   "outputs": [],
   "source": []
  },
  {
   "cell_type": "code",
   "execution_count": null,
   "metadata": {
    "collapsed": true
   },
   "outputs": [],
   "source": []
  },
  {
   "cell_type": "code",
   "execution_count": null,
   "metadata": {
    "collapsed": true
   },
   "outputs": [],
   "source": []
  },
  {
   "cell_type": "code",
   "execution_count": null,
   "metadata": {
    "collapsed": true
   },
   "outputs": [],
   "source": []
  },
  {
   "cell_type": "code",
   "execution_count": null,
   "metadata": {
    "collapsed": true
   },
   "outputs": [],
   "source": []
  },
  {
   "cell_type": "code",
   "execution_count": null,
   "metadata": {
    "collapsed": true
   },
   "outputs": [],
   "source": []
  },
  {
   "cell_type": "code",
   "execution_count": null,
   "metadata": {
    "collapsed": true
   },
   "outputs": [],
   "source": []
  },
  {
   "cell_type": "code",
   "execution_count": null,
   "metadata": {
    "collapsed": true
   },
   "outputs": [],
   "source": []
  },
  {
   "cell_type": "code",
   "execution_count": null,
   "metadata": {
    "collapsed": true
   },
   "outputs": [],
   "source": []
  },
  {
   "cell_type": "code",
   "execution_count": null,
   "metadata": {
    "collapsed": true
   },
   "outputs": [],
   "source": []
  },
  {
   "cell_type": "code",
   "execution_count": null,
   "metadata": {
    "collapsed": true
   },
   "outputs": [],
   "source": []
  },
  {
   "cell_type": "code",
   "execution_count": null,
   "metadata": {
    "collapsed": true
   },
   "outputs": [],
   "source": []
  },
  {
   "cell_type": "code",
   "execution_count": null,
   "metadata": {
    "collapsed": true
   },
   "outputs": [],
   "source": []
  },
  {
   "cell_type": "code",
   "execution_count": null,
   "metadata": {
    "collapsed": false
   },
   "outputs": [],
   "source": [
    "loansData['Interest.Rate'][:5]"
   ]
  },
  {
   "cell_type": "code",
   "execution_count": null,
   "metadata": {
    "collapsed": false
   },
   "outputs": [],
   "source": [
    "loansData['FICO.Score'][:5]"
   ]
  },
  {
   "cell_type": "code",
   "execution_count": null,
   "metadata": {
    "collapsed": false
   },
   "outputs": [],
   "source": [
    "loansData['Amount.Requested'][:5]"
   ]
  },
  {
   "cell_type": "code",
   "execution_count": null,
   "metadata": {
    "collapsed": true
   },
   "outputs": [],
   "source": []
  },
  {
   "cell_type": "code",
   "execution_count": null,
   "metadata": {
    "collapsed": true
   },
   "outputs": [],
   "source": []
  },
  {
   "cell_type": "code",
   "execution_count": null,
   "metadata": {
    "collapsed": false
   },
   "outputs": [],
   "source": [
    "x.shape"
   ]
  },
  {
   "cell_type": "markdown",
   "metadata": {},
   "source": []
  },
  {
   "cell_type": "code",
   "execution_count": null,
   "metadata": {
    "collapsed": true
   },
   "outputs": [],
   "source": []
  },
  {
   "cell_type": "code",
   "execution_count": null,
   "metadata": {
    "collapsed": false
   },
   "outputs": [],
   "source": []
  },
  {
   "cell_type": "code",
   "execution_count": null,
   "metadata": {
    "collapsed": false
   },
   "outputs": [],
   "source": []
  },
  {
   "cell_type": "code",
   "execution_count": null,
   "metadata": {
    "collapsed": true
   },
   "outputs": [],
   "source": []
  },
  {
   "cell_type": "code",
   "execution_count": null,
   "metadata": {
    "collapsed": true
   },
   "outputs": [],
   "source": [
    "my_y =[2,10]"
   ]
  },
  {
   "cell_type": "code",
   "execution_count": null,
   "metadata": {
    "collapsed": true
   },
   "outputs": [],
   "source": [
    "my_x = [4,20]"
   ]
  },
  {
   "cell_type": "code",
   "execution_count": null,
   "metadata": {
    "collapsed": false
   },
   "outputs": [],
   "source": [
    "plt.plot(my_x,my_y)"
   ]
  },
  {
   "cell_type": "code",
   "execution_count": null,
   "metadata": {
    "collapsed": false
   },
   "outputs": [],
   "source": [
    "loansData.plt.plot(kind='scatter', x=loansData['FICO.Score'], y=loansData['In'],color='DarkBlue')"
   ]
  },
  {
   "cell_type": "code",
   "execution_count": null,
   "metadata": {
    "collapsed": true
   },
   "outputs": [],
   "source": []
  },
  {
   "cell_type": "code",
   "execution_count": null,
   "metadata": {
    "collapsed": true
   },
   "outputs": [],
   "source": []
  },
  {
   "cell_type": "code",
   "execution_count": null,
   "metadata": {
    "collapsed": true
   },
   "outputs": [],
   "source": []
  },
  {
   "cell_type": "code",
   "execution_count": null,
   "metadata": {
    "collapsed": true
   },
   "outputs": [],
   "source": []
  },
  {
   "cell_type": "code",
   "execution_count": null,
   "metadata": {
    "collapsed": true
   },
   "outputs": [],
   "source": []
  },
  {
   "cell_type": "code",
   "execution_count": null,
   "metadata": {
    "collapsed": true
   },
   "outputs": [],
   "source": []
  },
  {
   "cell_type": "code",
   "execution_count": null,
   "metadata": {
    "collapsed": true
   },
   "outputs": [],
   "source": []
  },
  {
   "cell_type": "code",
   "execution_count": null,
   "metadata": {
    "collapsed": true
   },
   "outputs": [],
   "source": []
  },
  {
   "cell_type": "code",
   "execution_count": null,
   "metadata": {
    "collapsed": true
   },
   "outputs": [],
   "source": []
  },
  {
   "cell_type": "code",
   "execution_count": null,
   "metadata": {
    "collapsed": true
   },
   "outputs": [],
   "source": []
  },
  {
   "cell_type": "code",
   "execution_count": null,
   "metadata": {
    "collapsed": true
   },
   "outputs": [],
   "source": []
  },
  {
   "cell_type": "code",
   "execution_count": null,
   "metadata": {
    "collapsed": false
   },
   "outputs": [],
   "source": [
    "ax = loansData.plot(kind='scatter', x=intrate, y=fico,color='DarkBlue', label='Group 1')"
   ]
  },
  {
   "cell_type": "code",
   "execution_count": null,
   "metadata": {
    "collapsed": false
   },
   "outputs": [],
   "source": [
    "# fig, ax = plt.subplots()\n",
    "# >>> fig = sm.graphics.plot_fit(results, 0, ax=ax)\n",
    "# >>> ax.set_ylabel(\"Murder Rate\")\n",
    "# >>> ax.set_xlabel(\"Poverty Level\")\n",
    "# >>> ax.set_title(\"Linear Regression\")\n",
    "\n",
    "# fig, ax = plt.subplots()\n",
    "# fig = sm.graphics.plot_fit(f, 0 , ax = ax)\n",
    "# ax.set_ylabel(\"FICO Score\")\n",
    "# ax.set_xlabel(\"Interest Rate\")\n",
    "# ax.set_title(\"Linear Regression\")"
   ]
  },
  {
   "cell_type": "code",
   "execution_count": null,
   "metadata": {
    "collapsed": false
   },
   "outputs": [],
   "source": [
    "df = pd.read(x)"
   ]
  },
  {
   "cell_type": "code",
   "execution_count": null,
   "metadata": {
    "collapsed": true
   },
   "outputs": [],
   "source": []
  },
  {
   "cell_type": "code",
   "execution_count": null,
   "metadata": {
    "collapsed": true
   },
   "outputs": [],
   "source": []
  },
  {
   "cell_type": "code",
   "execution_count": null,
   "metadata": {
    "collapsed": true
   },
   "outputs": [],
   "source": []
  },
  {
   "cell_type": "code",
   "execution_count": null,
   "metadata": {
    "collapsed": true
   },
   "outputs": [],
   "source": []
  },
  {
   "cell_type": "code",
   "execution_count": null,
   "metadata": {
    "collapsed": true
   },
   "outputs": [],
   "source": []
  },
  {
   "cell_type": "code",
   "execution_count": null,
   "metadata": {
    "collapsed": true
   },
   "outputs": [],
   "source": []
  }
 ],
 "metadata": {
  "kernelspec": {
   "display_name": "Python 2",
   "language": "python",
   "name": "python2"
  },
  "language_info": {
   "codemirror_mode": {
    "name": "ipython",
    "version": 2
   },
   "file_extension": ".py",
   "mimetype": "text/x-python",
   "name": "python",
   "nbconvert_exporter": "python",
   "pygments_lexer": "ipython2",
   "version": "2.7.11"
  }
 },
 "nbformat": 4,
 "nbformat_minor": 0
}
